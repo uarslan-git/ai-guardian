{
 "cells": [
  {
   "metadata": {},
   "cell_type": "markdown",
   "source": "Gutes Notebook hier: https://www.kaggle.com/code/vatsalmavani/music-recommendation-system-using-spotify-dataset/notebook#Building-Music-Recommendation-System-using-Spotify-Dataset",
   "id": "52175a40b7972aa8"
  },
  {
   "metadata": {
    "ExecuteTime": {
     "end_time": "2025-01-16T23:43:32.695479Z",
     "start_time": "2025-01-16T23:43:29.500988Z"
    }
   },
   "cell_type": "code",
   "source": [
    "# Import dependencies\n",
    "import pandas as pd\n",
    "import pickle\n",
    "\n",
    "import numpy as np\n",
    "import matplotlib.pyplot as plt\n",
    "import plotly.offline\n",
    "from sklearn.model_selection import train_test_split\n",
    "from sklearn.svm import SVC\n",
    "from sklearn.preprocessing import StandardScaler\n",
    "\n",
    "from sklearn.metrics import accuracy_score"
   ],
   "id": "76ff6be53b9b698c",
   "outputs": [],
   "execution_count": 61
  },
  {
   "metadata": {
    "ExecuteTime": {
     "end_time": "2025-01-16T23:45:44.292085Z",
     "start_time": "2025-01-16T23:45:43.815284Z"
    }
   },
   "cell_type": "code",
   "source": [
    "# Load data\n",
    "## Download here https://www.kaggle.com/datasets/gauthamvijayaraj/spotify-tracks-dataset-updated-every-week\n",
    "## And put into ../data folder\n",
    "data = pd.read_csv(\"../data/spotify_tracks.csv\")\n",
    "\n",
    "#data = pd.read_csv(\"../data/data_for_recommender.csv\")\n",
    "\n",
    "\n",
    "# Feature Names\n",
    "# track_id,track_name,artist_name,year,popularity,artwork_url,album_name,acousticness,danceability,\n",
    "# duration_ms,energy,instrumentalness,key,liveness,loudness,mode,speechiness,tempo,time_signature,\n",
    "# valence,track_url,language\n",
    "\n",
    "\n",
    "# Overfitting via #parameter = #features * #datenpunkte \n",
    "data = data[(data.popularity > 60) & (data.language == 'English')]\n",
    "\n",
    "# TODOs:\n",
    "# - [-] Mehrere vorgefertigte Playlists als Datengrundlage (pro Genre)\n",
    "# - Genre auswählen als Präferenz\n",
    "# - [-] Playlist von denen hochladbar machen; (In Präsentation ggf nur erwähnen und nicht live demonstrieren)\n",
    "# - Nach Auswahl der Playlist deren Tracks und die in unserem Datenset, die aus der recommendation rausgekommen sind als 1 markieren\n",
    "# \n"
   ],
   "id": "dd9f5746b2776015",
   "outputs": [],
   "execution_count": 63
  },
  {
   "metadata": {
    "ExecuteTime": {
     "end_time": "2025-01-16T23:45:59.028377Z",
     "start_time": "2025-01-16T23:45:59.002187Z"
    }
   },
   "cell_type": "code",
   "source": [
    "# Filter X\n",
    "\n",
    "#col_names = ['track_name', 'artist_name', 'instrumentalness', 'danceability']\n",
    "col_names = ['track_name', 'artist_name', 'tempo', 'danceability']\n",
    "val_col_names = col_names[2:]\n",
    "n_samples = 500\n",
    "\n",
    "df_X = data[col_names][:n_samples]\n",
    "X = df_X.to_numpy()\n",
    "# X_track_names = X[:,0]\n",
    "# X_artist_names = X[:,1]\n",
    "X_1 = X[:,2]\n",
    "X_2 = X[:,3]\n",
    "\n",
    "# X_1 = X[:,0]\n",
    "# X_2 = X[:,1]"
   ],
   "id": "4cca7a57683d0d48",
   "outputs": [],
   "execution_count": 64
  },
  {
   "metadata": {
    "ExecuteTime": {
     "end_time": "2025-01-16T23:46:08.162687Z",
     "start_time": "2025-01-16T23:46:08.144627Z"
    }
   },
   "cell_type": "code",
   "source": [
    "# Create y\n",
    "y = np.zeros(shape=X_1.shape[0]) \n",
    "y[np.logical_or(X_1 > 120, X_2 > 0.6)] = 1\n",
    "print(f'Num likes:{int(np.sum(y))} / {y.shape[0]}')\n"
   ],
   "id": "4d922e8be854d476",
   "outputs": [
    {
     "name": "stdout",
     "output_type": "stream",
     "text": [
      "Num likes:390 / 500\n"
     ]
    }
   ],
   "execution_count": 65
  },
  {
   "metadata": {
    "ExecuteTime": {
     "end_time": "2025-01-16T23:46:39.358504Z",
     "start_time": "2025-01-16T23:46:39.315274Z"
    }
   },
   "cell_type": "code",
   "source": [
    "# # Preprocess data\n",
    "# scaler = StandardScaler()\n",
    "# X_scaled = scaler.fit_transform(X)\n",
    "\n",
    "# Apply noise\n",
    "# noise_factor = 0.05\n",
    "# noise_idx = np.random.choice(len(y), size=int(noise_factor*len(y)), replace=False)\n",
    "# y[noise_idx] = 1 - y[noise_idx]\n",
    "# print(f'Num likes:{int(np.sum(y))} / {y.shape[0]}')\n",
    "\n",
    "# NOTE Wenn hier X gemischt wird, darf ich nicht nur die Data columns nehmen, sonst werden artist und track namen losgelöst\n",
    "# Split the data\n",
    "\n",
    "# Train only on value columns\n",
    "X_train, X_test, y_train, y_test = train_test_split(df_X[val_col_names], y, test_size=0.95, random_state=42)\n",
    "X_train2, _, y_train2, _ = train_test_split(df_X[val_col_names], y, test_size=0.2, random_state=42)"
   ],
   "id": "cbb22f117a2b10bb",
   "outputs": [],
   "execution_count": 66
  },
  {
   "metadata": {
    "ExecuteTime": {
     "end_time": "2025-01-16T23:46:42.166800Z",
     "start_time": "2025-01-16T23:46:42.090008Z"
    }
   },
   "cell_type": "code",
   "source": [
    "# Train a Support Vector Machine classifier\n",
    "clf_optimal = SVC(kernel='rbf', C=10000,  random_state=42)\n",
    "clf_optimal.fit(X_train2, y_train2)\n",
    "\n",
    "# Overfit\n",
    "clf_overfit = SVC(kernel='rbf', C=100000000, gamma='scale', random_state=42)\n",
    "clf_overfit.fit(X_train, y_train)\n",
    "\n",
    "# Underfit\n",
    "clf_underfit = SVC(kernel='rbf', C=1, random_state=42)\n",
    "clf_underfit.fit(X_train, y_train)"
   ],
   "id": "55fdc419030b2f37",
   "outputs": [
    {
     "data": {
      "text/plain": [
       "SVC(C=1, random_state=42)"
      ],
      "text/html": [
       "<style>#sk-container-id-2 {\n",
       "  /* Definition of color scheme common for light and dark mode */\n",
       "  --sklearn-color-text: #000;\n",
       "  --sklearn-color-text-muted: #666;\n",
       "  --sklearn-color-line: gray;\n",
       "  /* Definition of color scheme for unfitted estimators */\n",
       "  --sklearn-color-unfitted-level-0: #fff5e6;\n",
       "  --sklearn-color-unfitted-level-1: #f6e4d2;\n",
       "  --sklearn-color-unfitted-level-2: #ffe0b3;\n",
       "  --sklearn-color-unfitted-level-3: chocolate;\n",
       "  /* Definition of color scheme for fitted estimators */\n",
       "  --sklearn-color-fitted-level-0: #f0f8ff;\n",
       "  --sklearn-color-fitted-level-1: #d4ebff;\n",
       "  --sklearn-color-fitted-level-2: #b3dbfd;\n",
       "  --sklearn-color-fitted-level-3: cornflowerblue;\n",
       "\n",
       "  /* Specific color for light theme */\n",
       "  --sklearn-color-text-on-default-background: var(--sg-text-color, var(--theme-code-foreground, var(--jp-content-font-color1, black)));\n",
       "  --sklearn-color-background: var(--sg-background-color, var(--theme-background, var(--jp-layout-color0, white)));\n",
       "  --sklearn-color-border-box: var(--sg-text-color, var(--theme-code-foreground, var(--jp-content-font-color1, black)));\n",
       "  --sklearn-color-icon: #696969;\n",
       "\n",
       "  @media (prefers-color-scheme: dark) {\n",
       "    /* Redefinition of color scheme for dark theme */\n",
       "    --sklearn-color-text-on-default-background: var(--sg-text-color, var(--theme-code-foreground, var(--jp-content-font-color1, white)));\n",
       "    --sklearn-color-background: var(--sg-background-color, var(--theme-background, var(--jp-layout-color0, #111)));\n",
       "    --sklearn-color-border-box: var(--sg-text-color, var(--theme-code-foreground, var(--jp-content-font-color1, white)));\n",
       "    --sklearn-color-icon: #878787;\n",
       "  }\n",
       "}\n",
       "\n",
       "#sk-container-id-2 {\n",
       "  color: var(--sklearn-color-text);\n",
       "}\n",
       "\n",
       "#sk-container-id-2 pre {\n",
       "  padding: 0;\n",
       "}\n",
       "\n",
       "#sk-container-id-2 input.sk-hidden--visually {\n",
       "  border: 0;\n",
       "  clip: rect(1px 1px 1px 1px);\n",
       "  clip: rect(1px, 1px, 1px, 1px);\n",
       "  height: 1px;\n",
       "  margin: -1px;\n",
       "  overflow: hidden;\n",
       "  padding: 0;\n",
       "  position: absolute;\n",
       "  width: 1px;\n",
       "}\n",
       "\n",
       "#sk-container-id-2 div.sk-dashed-wrapped {\n",
       "  border: 1px dashed var(--sklearn-color-line);\n",
       "  margin: 0 0.4em 0.5em 0.4em;\n",
       "  box-sizing: border-box;\n",
       "  padding-bottom: 0.4em;\n",
       "  background-color: var(--sklearn-color-background);\n",
       "}\n",
       "\n",
       "#sk-container-id-2 div.sk-container {\n",
       "  /* jupyter's `normalize.less` sets `[hidden] { display: none; }`\n",
       "     but bootstrap.min.css set `[hidden] { display: none !important; }`\n",
       "     so we also need the `!important` here to be able to override the\n",
       "     default hidden behavior on the sphinx rendered scikit-learn.org.\n",
       "     See: https://github.com/scikit-learn/scikit-learn/issues/21755 */\n",
       "  display: inline-block !important;\n",
       "  position: relative;\n",
       "}\n",
       "\n",
       "#sk-container-id-2 div.sk-text-repr-fallback {\n",
       "  display: none;\n",
       "}\n",
       "\n",
       "div.sk-parallel-item,\n",
       "div.sk-serial,\n",
       "div.sk-item {\n",
       "  /* draw centered vertical line to link estimators */\n",
       "  background-image: linear-gradient(var(--sklearn-color-text-on-default-background), var(--sklearn-color-text-on-default-background));\n",
       "  background-size: 2px 100%;\n",
       "  background-repeat: no-repeat;\n",
       "  background-position: center center;\n",
       "}\n",
       "\n",
       "/* Parallel-specific style estimator block */\n",
       "\n",
       "#sk-container-id-2 div.sk-parallel-item::after {\n",
       "  content: \"\";\n",
       "  width: 100%;\n",
       "  border-bottom: 2px solid var(--sklearn-color-text-on-default-background);\n",
       "  flex-grow: 1;\n",
       "}\n",
       "\n",
       "#sk-container-id-2 div.sk-parallel {\n",
       "  display: flex;\n",
       "  align-items: stretch;\n",
       "  justify-content: center;\n",
       "  background-color: var(--sklearn-color-background);\n",
       "  position: relative;\n",
       "}\n",
       "\n",
       "#sk-container-id-2 div.sk-parallel-item {\n",
       "  display: flex;\n",
       "  flex-direction: column;\n",
       "}\n",
       "\n",
       "#sk-container-id-2 div.sk-parallel-item:first-child::after {\n",
       "  align-self: flex-end;\n",
       "  width: 50%;\n",
       "}\n",
       "\n",
       "#sk-container-id-2 div.sk-parallel-item:last-child::after {\n",
       "  align-self: flex-start;\n",
       "  width: 50%;\n",
       "}\n",
       "\n",
       "#sk-container-id-2 div.sk-parallel-item:only-child::after {\n",
       "  width: 0;\n",
       "}\n",
       "\n",
       "/* Serial-specific style estimator block */\n",
       "\n",
       "#sk-container-id-2 div.sk-serial {\n",
       "  display: flex;\n",
       "  flex-direction: column;\n",
       "  align-items: center;\n",
       "  background-color: var(--sklearn-color-background);\n",
       "  padding-right: 1em;\n",
       "  padding-left: 1em;\n",
       "}\n",
       "\n",
       "\n",
       "/* Toggleable style: style used for estimator/Pipeline/ColumnTransformer box that is\n",
       "clickable and can be expanded/collapsed.\n",
       "- Pipeline and ColumnTransformer use this feature and define the default style\n",
       "- Estimators will overwrite some part of the style using the `sk-estimator` class\n",
       "*/\n",
       "\n",
       "/* Pipeline and ColumnTransformer style (default) */\n",
       "\n",
       "#sk-container-id-2 div.sk-toggleable {\n",
       "  /* Default theme specific background. It is overwritten whether we have a\n",
       "  specific estimator or a Pipeline/ColumnTransformer */\n",
       "  background-color: var(--sklearn-color-background);\n",
       "}\n",
       "\n",
       "/* Toggleable label */\n",
       "#sk-container-id-2 label.sk-toggleable__label {\n",
       "  cursor: pointer;\n",
       "  display: flex;\n",
       "  width: 100%;\n",
       "  margin-bottom: 0;\n",
       "  padding: 0.5em;\n",
       "  box-sizing: border-box;\n",
       "  text-align: center;\n",
       "  align-items: start;\n",
       "  justify-content: space-between;\n",
       "  gap: 0.5em;\n",
       "}\n",
       "\n",
       "#sk-container-id-2 label.sk-toggleable__label .caption {\n",
       "  font-size: 0.6rem;\n",
       "  font-weight: lighter;\n",
       "  color: var(--sklearn-color-text-muted);\n",
       "}\n",
       "\n",
       "#sk-container-id-2 label.sk-toggleable__label-arrow:before {\n",
       "  /* Arrow on the left of the label */\n",
       "  content: \"▸\";\n",
       "  float: left;\n",
       "  margin-right: 0.25em;\n",
       "  color: var(--sklearn-color-icon);\n",
       "}\n",
       "\n",
       "#sk-container-id-2 label.sk-toggleable__label-arrow:hover:before {\n",
       "  color: var(--sklearn-color-text);\n",
       "}\n",
       "\n",
       "/* Toggleable content - dropdown */\n",
       "\n",
       "#sk-container-id-2 div.sk-toggleable__content {\n",
       "  max-height: 0;\n",
       "  max-width: 0;\n",
       "  overflow: hidden;\n",
       "  text-align: left;\n",
       "  /* unfitted */\n",
       "  background-color: var(--sklearn-color-unfitted-level-0);\n",
       "}\n",
       "\n",
       "#sk-container-id-2 div.sk-toggleable__content.fitted {\n",
       "  /* fitted */\n",
       "  background-color: var(--sklearn-color-fitted-level-0);\n",
       "}\n",
       "\n",
       "#sk-container-id-2 div.sk-toggleable__content pre {\n",
       "  margin: 0.2em;\n",
       "  border-radius: 0.25em;\n",
       "  color: var(--sklearn-color-text);\n",
       "  /* unfitted */\n",
       "  background-color: var(--sklearn-color-unfitted-level-0);\n",
       "}\n",
       "\n",
       "#sk-container-id-2 div.sk-toggleable__content.fitted pre {\n",
       "  /* unfitted */\n",
       "  background-color: var(--sklearn-color-fitted-level-0);\n",
       "}\n",
       "\n",
       "#sk-container-id-2 input.sk-toggleable__control:checked~div.sk-toggleable__content {\n",
       "  /* Expand drop-down */\n",
       "  max-height: 200px;\n",
       "  max-width: 100%;\n",
       "  overflow: auto;\n",
       "}\n",
       "\n",
       "#sk-container-id-2 input.sk-toggleable__control:checked~label.sk-toggleable__label-arrow:before {\n",
       "  content: \"▾\";\n",
       "}\n",
       "\n",
       "/* Pipeline/ColumnTransformer-specific style */\n",
       "\n",
       "#sk-container-id-2 div.sk-label input.sk-toggleable__control:checked~label.sk-toggleable__label {\n",
       "  color: var(--sklearn-color-text);\n",
       "  background-color: var(--sklearn-color-unfitted-level-2);\n",
       "}\n",
       "\n",
       "#sk-container-id-2 div.sk-label.fitted input.sk-toggleable__control:checked~label.sk-toggleable__label {\n",
       "  background-color: var(--sklearn-color-fitted-level-2);\n",
       "}\n",
       "\n",
       "/* Estimator-specific style */\n",
       "\n",
       "/* Colorize estimator box */\n",
       "#sk-container-id-2 div.sk-estimator input.sk-toggleable__control:checked~label.sk-toggleable__label {\n",
       "  /* unfitted */\n",
       "  background-color: var(--sklearn-color-unfitted-level-2);\n",
       "}\n",
       "\n",
       "#sk-container-id-2 div.sk-estimator.fitted input.sk-toggleable__control:checked~label.sk-toggleable__label {\n",
       "  /* fitted */\n",
       "  background-color: var(--sklearn-color-fitted-level-2);\n",
       "}\n",
       "\n",
       "#sk-container-id-2 div.sk-label label.sk-toggleable__label,\n",
       "#sk-container-id-2 div.sk-label label {\n",
       "  /* The background is the default theme color */\n",
       "  color: var(--sklearn-color-text-on-default-background);\n",
       "}\n",
       "\n",
       "/* On hover, darken the color of the background */\n",
       "#sk-container-id-2 div.sk-label:hover label.sk-toggleable__label {\n",
       "  color: var(--sklearn-color-text);\n",
       "  background-color: var(--sklearn-color-unfitted-level-2);\n",
       "}\n",
       "\n",
       "/* Label box, darken color on hover, fitted */\n",
       "#sk-container-id-2 div.sk-label.fitted:hover label.sk-toggleable__label.fitted {\n",
       "  color: var(--sklearn-color-text);\n",
       "  background-color: var(--sklearn-color-fitted-level-2);\n",
       "}\n",
       "\n",
       "/* Estimator label */\n",
       "\n",
       "#sk-container-id-2 div.sk-label label {\n",
       "  font-family: monospace;\n",
       "  font-weight: bold;\n",
       "  display: inline-block;\n",
       "  line-height: 1.2em;\n",
       "}\n",
       "\n",
       "#sk-container-id-2 div.sk-label-container {\n",
       "  text-align: center;\n",
       "}\n",
       "\n",
       "/* Estimator-specific */\n",
       "#sk-container-id-2 div.sk-estimator {\n",
       "  font-family: monospace;\n",
       "  border: 1px dotted var(--sklearn-color-border-box);\n",
       "  border-radius: 0.25em;\n",
       "  box-sizing: border-box;\n",
       "  margin-bottom: 0.5em;\n",
       "  /* unfitted */\n",
       "  background-color: var(--sklearn-color-unfitted-level-0);\n",
       "}\n",
       "\n",
       "#sk-container-id-2 div.sk-estimator.fitted {\n",
       "  /* fitted */\n",
       "  background-color: var(--sklearn-color-fitted-level-0);\n",
       "}\n",
       "\n",
       "/* on hover */\n",
       "#sk-container-id-2 div.sk-estimator:hover {\n",
       "  /* unfitted */\n",
       "  background-color: var(--sklearn-color-unfitted-level-2);\n",
       "}\n",
       "\n",
       "#sk-container-id-2 div.sk-estimator.fitted:hover {\n",
       "  /* fitted */\n",
       "  background-color: var(--sklearn-color-fitted-level-2);\n",
       "}\n",
       "\n",
       "/* Specification for estimator info (e.g. \"i\" and \"?\") */\n",
       "\n",
       "/* Common style for \"i\" and \"?\" */\n",
       "\n",
       ".sk-estimator-doc-link,\n",
       "a:link.sk-estimator-doc-link,\n",
       "a:visited.sk-estimator-doc-link {\n",
       "  float: right;\n",
       "  font-size: smaller;\n",
       "  line-height: 1em;\n",
       "  font-family: monospace;\n",
       "  background-color: var(--sklearn-color-background);\n",
       "  border-radius: 1em;\n",
       "  height: 1em;\n",
       "  width: 1em;\n",
       "  text-decoration: none !important;\n",
       "  margin-left: 0.5em;\n",
       "  text-align: center;\n",
       "  /* unfitted */\n",
       "  border: var(--sklearn-color-unfitted-level-1) 1pt solid;\n",
       "  color: var(--sklearn-color-unfitted-level-1);\n",
       "}\n",
       "\n",
       ".sk-estimator-doc-link.fitted,\n",
       "a:link.sk-estimator-doc-link.fitted,\n",
       "a:visited.sk-estimator-doc-link.fitted {\n",
       "  /* fitted */\n",
       "  border: var(--sklearn-color-fitted-level-1) 1pt solid;\n",
       "  color: var(--sklearn-color-fitted-level-1);\n",
       "}\n",
       "\n",
       "/* On hover */\n",
       "div.sk-estimator:hover .sk-estimator-doc-link:hover,\n",
       ".sk-estimator-doc-link:hover,\n",
       "div.sk-label-container:hover .sk-estimator-doc-link:hover,\n",
       ".sk-estimator-doc-link:hover {\n",
       "  /* unfitted */\n",
       "  background-color: var(--sklearn-color-unfitted-level-3);\n",
       "  color: var(--sklearn-color-background);\n",
       "  text-decoration: none;\n",
       "}\n",
       "\n",
       "div.sk-estimator.fitted:hover .sk-estimator-doc-link.fitted:hover,\n",
       ".sk-estimator-doc-link.fitted:hover,\n",
       "div.sk-label-container:hover .sk-estimator-doc-link.fitted:hover,\n",
       ".sk-estimator-doc-link.fitted:hover {\n",
       "  /* fitted */\n",
       "  background-color: var(--sklearn-color-fitted-level-3);\n",
       "  color: var(--sklearn-color-background);\n",
       "  text-decoration: none;\n",
       "}\n",
       "\n",
       "/* Span, style for the box shown on hovering the info icon */\n",
       ".sk-estimator-doc-link span {\n",
       "  display: none;\n",
       "  z-index: 9999;\n",
       "  position: relative;\n",
       "  font-weight: normal;\n",
       "  right: .2ex;\n",
       "  padding: .5ex;\n",
       "  margin: .5ex;\n",
       "  width: min-content;\n",
       "  min-width: 20ex;\n",
       "  max-width: 50ex;\n",
       "  color: var(--sklearn-color-text);\n",
       "  box-shadow: 2pt 2pt 4pt #999;\n",
       "  /* unfitted */\n",
       "  background: var(--sklearn-color-unfitted-level-0);\n",
       "  border: .5pt solid var(--sklearn-color-unfitted-level-3);\n",
       "}\n",
       "\n",
       ".sk-estimator-doc-link.fitted span {\n",
       "  /* fitted */\n",
       "  background: var(--sklearn-color-fitted-level-0);\n",
       "  border: var(--sklearn-color-fitted-level-3);\n",
       "}\n",
       "\n",
       ".sk-estimator-doc-link:hover span {\n",
       "  display: block;\n",
       "}\n",
       "\n",
       "/* \"?\"-specific style due to the `<a>` HTML tag */\n",
       "\n",
       "#sk-container-id-2 a.estimator_doc_link {\n",
       "  float: right;\n",
       "  font-size: 1rem;\n",
       "  line-height: 1em;\n",
       "  font-family: monospace;\n",
       "  background-color: var(--sklearn-color-background);\n",
       "  border-radius: 1rem;\n",
       "  height: 1rem;\n",
       "  width: 1rem;\n",
       "  text-decoration: none;\n",
       "  /* unfitted */\n",
       "  color: var(--sklearn-color-unfitted-level-1);\n",
       "  border: var(--sklearn-color-unfitted-level-1) 1pt solid;\n",
       "}\n",
       "\n",
       "#sk-container-id-2 a.estimator_doc_link.fitted {\n",
       "  /* fitted */\n",
       "  border: var(--sklearn-color-fitted-level-1) 1pt solid;\n",
       "  color: var(--sklearn-color-fitted-level-1);\n",
       "}\n",
       "\n",
       "/* On hover */\n",
       "#sk-container-id-2 a.estimator_doc_link:hover {\n",
       "  /* unfitted */\n",
       "  background-color: var(--sklearn-color-unfitted-level-3);\n",
       "  color: var(--sklearn-color-background);\n",
       "  text-decoration: none;\n",
       "}\n",
       "\n",
       "#sk-container-id-2 a.estimator_doc_link.fitted:hover {\n",
       "  /* fitted */\n",
       "  background-color: var(--sklearn-color-fitted-level-3);\n",
       "}\n",
       "</style><div id=\"sk-container-id-2\" class=\"sk-top-container\"><div class=\"sk-text-repr-fallback\"><pre>SVC(C=1, random_state=42)</pre><b>In a Jupyter environment, please rerun this cell to show the HTML representation or trust the notebook. <br />On GitHub, the HTML representation is unable to render, please try loading this page with nbviewer.org.</b></div><div class=\"sk-container\" hidden><div class=\"sk-item\"><div class=\"sk-estimator fitted sk-toggleable\"><input class=\"sk-toggleable__control sk-hidden--visually\" id=\"sk-estimator-id-2\" type=\"checkbox\" checked><label for=\"sk-estimator-id-2\" class=\"sk-toggleable__label fitted sk-toggleable__label-arrow\"><div><div>SVC</div></div><div><a class=\"sk-estimator-doc-link fitted\" rel=\"noreferrer\" target=\"_blank\" href=\"https://scikit-learn.org/1.6/modules/generated/sklearn.svm.SVC.html\">?<span>Documentation for SVC</span></a><span class=\"sk-estimator-doc-link fitted\">i<span>Fitted</span></span></div></label><div class=\"sk-toggleable__content fitted\"><pre>SVC(C=1, random_state=42)</pre></div> </div></div></div></div>"
      ]
     },
     "execution_count": 67,
     "metadata": {},
     "output_type": "execute_result"
    }
   ],
   "execution_count": 67
  },
  {
   "metadata": {
    "ExecuteTime": {
     "end_time": "2025-01-16T23:46:45.902534Z",
     "start_time": "2025-01-16T23:46:45.889616Z"
    }
   },
   "cell_type": "code",
   "source": [
    "x_feature_1=df_X[val_col_names[0]]\n",
    "x_feature_2=df_X[val_col_names[1]]"
   ],
   "id": "ad0e687ed76d0454",
   "outputs": [],
   "execution_count": 68
  },
  {
   "metadata": {
    "ExecuteTime": {
     "end_time": "2025-01-17T00:28:02.064093Z",
     "start_time": "2025-01-17T00:28:01.780674Z"
    }
   },
   "cell_type": "code",
   "source": [
    "## Plot Prediction\n",
    "import plotly.graph_objects as go\n",
    "import plotly.express as px\n",
    "\n",
    "def plot_pred(classifier, X, y, title:str):\n",
    "    # Create a mesh grid\n",
    "    # x_min, x_max = X_scaled[:, 0].min() - 1, X_scaled[:, 0].max() + 1\n",
    "    # y_min, y_max = X_scaled[:, 1].min() - 1, X_scaled[:, 1].max() + 1\n",
    "    x_min, x_max = X[:, 0].min(), X[:, 0].max()\n",
    "    y_min, y_max = X[:, 1].min(), X[:, 1].max()\n",
    "    xx, yy = np.meshgrid(np.arange(x_min, x_max, 0.02),\n",
    "                         np.arange(y_min, y_max, 0.02))\n",
    "    # xx, yy = np.meshgrid(np.linspace(x_min, x_max, 100),\n",
    "    #                    np.linspace(y_min, y_max, 100))\n",
    "\n",
    "    # Predict on the mesh grid\n",
    "    Z = classifier.predict(np.c_[xx.ravel(), yy.ravel()])\n",
    "    Z = Z.reshape(xx.shape)\n",
    "\n",
    "    # Plot the decision boundary\n",
    "    plt.contourf(xx, yy, Z, alpha=0.8, cmap=plt.cm.RdYlBu)\n",
    "    # plt.contourf(xx, yy, Z, alpha=0.3)\n",
    "\n",
    "    # Plot the training points\n",
    "    plt.scatter(X[:, 0], X[:, 1], c=y, cmap=plt.cm.RdYlBu, edgecolor='black')\n",
    "    # plt.scatter(X[:, 0], X[:, 1], c=y, edgecolors='k', marker='o', s=20)\n",
    "    \n",
    "    plt.title(title)\n",
    "    plt.xlabel('Instrumentalness')\n",
    "    plt.ylabel('Danceability')\n",
    "\n",
    "# TODO ! Zusätzlich training data plotten (?)\n",
    "# def px_plot_pred(classifier, X, y, title:str):\n",
    "def px_plot_pred(classifier, X_train, X_test, y_train, y_test, title:str):\n",
    "    # Create a mesh grid\n",
    "    # x_min, x_max = X_scaled[:, 0].min() - 1, X_scaled[:, 0].max() + 1\n",
    "    # y_min, y_max = X_scaled[:, 1].min() - 1, X_scaled[:, 1].max() + 1\n",
    "    x_min, x_max = x_feature_1.min(), x_feature_1.max()\n",
    "    y_min, y_max = x_feature_2.min(), x_feature_2.max()\n",
    "    xx, yy = np.meshgrid(np.linspace(x_min, x_max, 100),\n",
    "                         np.linspace(y_min, y_max, 100))\n",
    "\n",
    "    # Predict on the mesh grid\n",
    "    Z = classifier.predict(np.c_[xx.ravel(), yy.ravel()])\n",
    "    Z = Z.reshape(xx.shape)\n",
    "\n",
    "    # Plot the decision boundary\n",
    "    # contour = go.Contour(\n",
    "    #     x=xx[0], y=yy[:, 0], z=Z,\n",
    "    #     colorscale=['red', 'green'], #'YlGn'\n",
    "    #     ncontours=2,\n",
    "    #     opacity=0.8,\n",
    "    #     hoverinfo='none',\n",
    "    #     showscale=False\n",
    "    # )\n",
    "    \n",
    "    # Plot the training points\n",
    "    ## pd.DataFrame(data=X, columns=col_names)\n",
    "    df = pd.DataFrame(X_test.copy())\n",
    "    df['prediction'] = classifier.predict(X_test)\n",
    "    df['track_name'] = df_X.loc[X_test.index, 'track_name']\n",
    "    df['artist_name'] = df_X.loc[X_test.index, 'artist_name']\n",
    "    \n",
    "    fig2 = px.scatter(df, x=df[val_col_names[0]], y=df[val_col_names[1]], color=df['prediction'],\n",
    "                     hover_data={'tempo':False,\n",
    "                                 'danceability':False,\n",
    "                                 'prediction':False,\n",
    "                                 'artist_name': True,\n",
    "                                 'track_name':True})\n",
    "    fig2.update_coloraxes(showscale=False)\n",
    "    fig2.show()\n",
    "\n",
    "    # fig2.append_trace()\n",
    "    \n",
    "    # TODO So überdeckt die contour die points fürs hovern -> Try: px.contour.add_scatter\n",
    "    # fig.add_contour(x=xx[0], y=yy[:, 0], z=Z,\n",
    "    #     colorscale=['red', 'green'], #'YlGn'\n",
    "    #     ncontours=2,\n",
    "    #     opacity=0.8,\n",
    "    #     hoverinfo='none',\n",
    "    #     showscale=False)\n",
    "    \n",
    "    # scatter = go.Scatter(x=df[val_col_names[0]], y=df[val_col_names[1]],\n",
    "    #     #hovertemplate='',\n",
    "    #     mode='markers',\n",
    "    #     marker=dict(color=y_test, colorscale=['red', 'green'], line=dict(color='black', width=1)),\n",
    "    #     hoverinfo='x+y'\n",
    "  # ,\n",
    "  #   text=[f\"Artist: {artist}<br>Song: {song}\" for artist, song in zip(artists, song_names)],\n",
    "  #   hoverinfo='text'\n",
    "  #   )\n",
    "\n",
    "    # fig = go.Figure(data=[contour, scatter], layout=go.Layout(title=title,\n",
    "    #     # xaxis_title='Instrumentalness',\n",
    "    #     # yaxis_title='Danceability',\n",
    "    #     width=600,\n",
    "    #     height=600\n",
    "    # ))\n",
    "\n",
    "    # TODO + Legende\n",
    "    # TODO Scaler\n",
    "    # TODO (Optional) Hide some figure buttons\n",
    "    # TODO (IDEA Button zum togglen zwischen Test und Training Daten)\n",
    "    # fig.show()\n",
    "\n",
    "px_plot_pred(clf_optimal, X_train, X_test, y_train, y_test, 'Optimal Classifier')\n",
    "# px_plot_pred(clf_overfit, X_train, X_test, y_train, y_test, 'Overfit Classifier')\n",
    "# px_plot_pred(clf_underfit, X_train, X_test, y_train, y_test, 'Underfit Classifier')\n",
    "\n",
    "# plot_pred(clf_optimal, X, y, 'Optimal Classifier')\n",
    "# plt.show()\n",
    "# plot_pred(clf_overfit, X, y, 'Overfit Classifier')\n",
    "# plt.show()\n",
    "# plot_pred(clf_underfit, X, y, 'Underfit Classifier')\n",
    "# plt.show()\n",
    "# \n",
    "# y_pred_underfit = clf_underfit.predict(X_test)\n",
    "# print(f'Underfitting Accuracy: {accuracy_score(y_test, y_pred_underfit)}')\n",
    "# # plt.figure(figsize=(12, 5))\n",
    "# plt.subplot(1, 2, 1)\n",
    "# plot_pred(clf_underfit, X_train, y_train, 'Underfitted Train')\n",
    "# plt.subplot(1, 2, 2)\n",
    "# plot_pred(clf_underfit, X_test, y_test, 'Underfitted Test')\n",
    "# plt.show()\n",
    "# \n",
    "# \n",
    "# y_pred_optimal = clf_optimal.predict(X_test)\n",
    "# print(f'Middle Accuracy: {accuracy_score(y_test, y_pred_optimal)}')\n",
    "# plt.subplot(1, 2, 1)\n",
    "# plot_pred(clf_optimal, X_train, y_train, 'Middle Train')\n",
    "# plt.subplot(1, 2, 2)\n",
    "# plot_pred(clf_optimal, X_test, y_test, 'Middle Test')\n",
    "# plt.show() # .savefig()\n",
    "# \n",
    "# # Overfitting example: Deep network with too many neurons\n",
    "# y_pred_overfit = clf_overfit.predict(X_test)\n",
    "# print(f'Overfitting Accuracy: {accuracy_score(y_test, y_pred_overfit)}')\n",
    "# plt.subplot(1, 2, 1)\n",
    "# plot_pred(clf_overfit, X_train, y_train, 'Overfitted Train')\n",
    "# plt.subplot(1, 2, 2)\n",
    "# plot_pred(clf_overfit, X_test, y_test, 'Overfitted Test')\n",
    "# plt.show()"
   ],
   "id": "f92ceeb6a3f265e",
   "outputs": [
    {
     "name": "stderr",
     "output_type": "stream",
     "text": [
      "C:\\Uni\\AI Guardians\\ai-guardian\\venv\\Lib\\site-packages\\sklearn\\utils\\validation.py:2739: UserWarning:\n",
      "\n",
      "X does not have valid feature names, but SVC was fitted with feature names\n",
      "\n"
     ]
    },
    {
     "data": {
      "application/vnd.plotly.v1+json": {
       "data": [
        {
         "customdata": [
          [
           1.0,
           "Taylor Swift",
           "cowboy like me"
          ],
          [
           1.0,
           "One Direction",
           "I Would"
          ],
          [
           0.0,
           "Taylor Swift",
           "Tell Me Why (Taylor's Version)"
          ],
          [
           1.0,
           "Adele",
           "Remedy"
          ],
          [
           1.0,
           "Coldplay",
           "A Head Full of Dreams"
          ],
          [
           1.0,
           "Taylor Swift, Maren Morris",
           "You All Over Me (feat. Maren Morris) (Taylor's Version) (From The Vault)"
          ],
          [
           1.0,
           "Taylor Swift",
           "dorothea"
          ],
          [
           1.0,
           "Imagine Dragons",
           "Radioactive"
          ],
          [
           1.0,
           "One Direction",
           "Rock Me"
          ],
          [
           1.0,
           "Taylor Swift",
           "closure"
          ],
          [
           1.0,
           "Eminem, Sia",
           "Beautiful Pain"
          ],
          [
           1.0,
           "Taylor Swift",
           "Long Live (Taylor's Version)"
          ],
          [
           0.0,
           "Taylor Swift",
           "tolerate it"
          ],
          [
           1.0,
           "One Direction",
           "Strong"
          ],
          [
           1.0,
           "Taylor Swift",
           "Starlight (Taylor's Version)"
          ],
          [
           1.0,
           "Taylor Swift, Maren Morris",
           "You All Over Me (feat. Maren Morris) (Taylor's Version) (From The Vault)"
          ],
          [
           1.0,
           "Rihanna",
           "California King Bed"
          ],
          [
           0.0,
           "Ed Sheeran, Andrea Bocelli",
           "Perfect Symphony (Ed Sheeran & Andrea Bocelli)"
          ],
          [
           1.0,
           "Taylor Swift",
           "22 (Taylor's Version)"
          ],
          [
           0.0,
           "Taylor Swift",
           "betty"
          ],
          [
           1.0,
           "Rihanna, Britney Spears",
           "S&M Remix"
          ],
          [
           1.0,
           "Rihanna",
           "Only Girl (In The World)"
          ],
          [
           0.0,
           "Taylor Swift",
           "The Great War"
          ],
          [
           1.0,
           "Taylor Swift, Joy Williams, John Paul White",
           "Safe & Sound (feat. Joy Williams and John Paul White) (Taylor's Version)"
          ],
          [
           1.0,
           "One Direction",
           "More Than This"
          ],
          [
           1.0,
           "Rihanna",
           "Sex With Me"
          ],
          [
           1.0,
           "Rihanna",
           "Te Amo"
          ],
          [
           1.0,
           "Taylor Swift",
           "Speak Now (Taylor's Version)"
          ],
          [
           0.0,
           "Coldplay",
           "Hymn for the Weekend"
          ],
          [
           0.0,
           "Taylor Swift",
           "Better Man (Taylor's Version) (From The Vault)"
          ],
          [
           0.0,
           "Rihanna",
           "Diamonds"
          ],
          [
           0.0,
           "Taylor Swift",
           "tolerate it"
          ],
          [
           0.0,
           "Taylor Swift, Bon Iver",
           "evermore (feat. Bon Iver)"
          ],
          [
           1.0,
           "Backstreet Boys",
           "The One"
          ],
          [
           1.0,
           "Eminem, Lil Wayne",
           "No Love"
          ],
          [
           1.0,
           "Taylor Swift",
           "it's time to go - bonus track"
          ],
          [
           1.0,
           "Taylor Swift",
           "the last great american dynasty"
          ],
          [
           1.0,
           "One Direction",
           "C'mon, C'mon"
          ],
          [
           1.0,
           "Taylor Swift",
           "This Love (Taylor's Version)"
          ],
          [
           1.0,
           "One Direction",
           "One Thing"
          ],
          [
           1.0,
           "Taylor Swift",
           "closure"
          ],
          [
           1.0,
           "Coldplay",
           "Charlie Brown"
          ],
          [
           1.0,
           "Rihanna",
           "You Da One"
          ],
          [
           1.0,
           "Taylor Swift",
           "I Can See You (Taylor's Version) (From The Vault)"
          ],
          [
           1.0,
           "Ed Sheeran",
           "How Would You Feel (Paean)"
          ],
          [
           1.0,
           "One Direction",
           "Magic"
          ],
          [
           1.0,
           "Eminem, Rihanna",
           "Love The Way You Lie"
          ],
          [
           1.0,
           "Ed Sheeran",
           "Thinking out Loud"
          ],
          [
           0.0,
           "Taylor Swift",
           "ivy"
          ],
          [
           1.0,
           "Ed Sheeran",
           "Shape of You"
          ],
          [
           0.0,
           "One Direction",
           "Last First Kiss"
          ],
          [
           1.0,
           "Taylor Swift",
           "Blank Space (Taylor's Version)"
          ],
          [
           1.0,
           "OneRepublic",
           "Good Life"
          ],
          [
           0.0,
           "Taylor Swift",
           "seven"
          ],
          [
           1.0,
           "Taylor Swift",
           "Welcome To New York (Taylor's Version)"
          ],
          [
           1.0,
           "The Chainsmokers, Coldplay",
           "Something Just Like This"
          ],
          [
           0.0,
           "Adele",
           "Skyfall"
          ],
          [
           1.0,
           "Ed Sheeran",
           "Bloodstream"
          ],
          [
           1.0,
           "Taylor Swift",
           "Bad Blood (Taylor's Version)"
          ],
          [
           1.0,
           "One Direction",
           "Story of My Life"
          ],
          [
           1.0,
           "Rihanna",
           "Man Down"
          ],
          [
           0.0,
           "Taylor Swift",
           "Cruel Summer - Live from TS | The Eras Tour"
          ],
          [
           1.0,
           "Taylor Swift",
           "Mr. Perfectly Fine (Taylor's Version) (From The Vault)"
          ],
          [
           1.0,
           "Rihanna, Mikky Ekko",
           "Stay"
          ],
          [
           1.0,
           "One Direction",
           "Best Song Ever"
          ],
          [
           1.0,
           "Ed Sheeran, Khalid",
           "Beautiful People (feat. Khalid)"
          ],
          [
           1.0,
           "Taylor Swift",
           "champagne problems"
          ],
          [
           1.0,
           "Ed Sheeran, Stormzy",
           "Take Me Back to London (feat. Stormzy)"
          ],
          [
           1.0,
           "Taylor Swift",
           "Suburban Legends (Taylor's Version) (From The Vault)"
          ],
          [
           0.0,
           "Taylor Swift",
           "All Too Well (Sad Girl Autumn Version) - Recorded at Long Pond Studios"
          ],
          [
           1.0,
           "Taylor Swift",
           "If This Was A Movie (Taylor's Version)"
          ],
          [
           0.0,
           "Taylor Swift",
           "Fifteen (Taylor's Version)"
          ],
          [
           1.0,
           "Taylor Swift",
           "Sweet Nothing"
          ],
          [
           0.0,
           "Taylor Swift",
           "Dear Reader"
          ],
          [
           1.0,
           "Taylor Swift",
           "We Are Never Ever Getting Back Together (Taylor's Version)"
          ],
          [
           1.0,
           "Taylor Swift",
           "Question...?"
          ],
          [
           1.0,
           "Taylor Swift",
           "Anti-Hero"
          ],
          [
           1.0,
           "One Direction",
           "Up All Night"
          ],
          [
           1.0,
           "Rihanna",
           "Lift Me Up - From Black Panther: Wakanda Forever - Music From and Inspired By"
          ],
          [
           1.0,
           "Rihanna",
           "Desperado"
          ],
          [
           1.0,
           "Adele",
           "All I Ask"
          ],
          [
           1.0,
           "One Direction",
           "Midnight Memories"
          ],
          [
           1.0,
           "Rihanna",
           "Pour It Up"
          ],
          [
           1.0,
           "Backstreet Boys",
           "Show Me the Meaning of Being Lonely"
          ],
          [
           1.0,
           "Taylor Swift",
           "The Way I Loved You (Taylor's Version)"
          ],
          [
           1.0,
           "Coldplay",
           "Paradise"
          ],
          [
           0.0,
           "Taylor Swift",
           "Style (Taylor's Version)"
          ],
          [
           1.0,
           "Taylor Swift",
           "my tears ricochet"
          ],
          [
           1.0,
           "Taylor Swift",
           "Love Story (Taylor's Version)"
          ],
          [
           0.0,
           "Taylor Swift",
           "Labyrinth"
          ],
          [
           1.0,
           "Taylor Swift",
           "Forever & Always (Piano Version) (Taylor's Version)"
          ],
          [
           1.0,
           "Rihanna",
           "Dancing In The Dark - From The \"Home\" Soundtrack"
          ],
          [
           0.0,
           "Taylor Swift, The National",
           "coney island (feat. The National)"
          ],
          [
           1.0,
           "Taylor Swift",
           "The Very First Night (Taylor's Version) (From The Vault)"
          ],
          [
           0.0,
           "Taylor Swift, HAIM",
           "no body, no crime (feat. HAIM)"
          ],
          [
           1.0,
           "Taylor Swift",
           "Hey Stephen (Taylor's Version)"
          ],
          [
           1.0,
           "One Direction",
           "Half a Heart"
          ],
          [
           0.0,
           "One Direction",
           "Over Again"
          ],
          [
           0.0,
           "Taylor Swift, Bon Iver",
           "evermore (feat. Bon Iver)"
          ],
          [
           1.0,
           "Ed Sheeran",
           "Don't"
          ],
          [
           1.0,
           "Taylor Swift, LP Giobbi",
           "Cruel Summer - LP Giobbi Remix"
          ],
          [
           0.0,
           "Taylor Swift",
           "betty"
          ],
          [
           1.0,
           "Ed Sheeran",
           "I'm a Mess"
          ],
          [
           1.0,
           "Taylor Swift, Chris Stapleton",
           "I Bet You Think About Me (feat. Chris Stapleton) (Taylor's Version) (From The Vault)"
          ],
          [
           1.0,
           "Taylor Swift",
           "champagne problems"
          ],
          [
           1.0,
           "The Chainsmokers",
           "Paris"
          ],
          [
           0.0,
           "Taylor Swift",
           "The Great War"
          ],
          [
           1.0,
           "Taylor Swift",
           "You're On Your Own, Kid"
          ],
          [
           1.0,
           "Taylor Swift",
           "White Horse (Taylor's Version)"
          ],
          [
           1.0,
           "OneRepublic",
           "All The Right Moves"
          ],
          [
           0.0,
           "OneRepublic",
           "Stop And Stare"
          ],
          [
           1.0,
           "Taylor Swift",
           "the lakes - bonus track"
          ],
          [
           0.0,
           "Taylor Swift",
           "willow"
          ],
          [
           0.0,
           "Ed Sheeran",
           "Happier"
          ],
          [
           1.0,
           "Rihanna",
           "James Joint"
          ],
          [
           1.0,
           "Taylor Swift, Lana Del Rey",
           "Snow On The Beach (feat. Lana Del Rey)"
          ],
          [
           0.0,
           "Taylor Swift",
           "You Are In Love (Taylor's Version)"
          ],
          [
           1.0,
           "Taylor Swift",
           "Vigilante Shit"
          ],
          [
           1.0,
           "Avicii",
           "Wake Me Up"
          ],
          [
           1.0,
           "Ed Sheeran, Chris Stapleton, Bruno Mars",
           "BLOW (with Chris Stapleton & Bruno Mars)"
          ],
          [
           1.0,
           "Taylor Swift, Ice Spice",
           "Karma (feat. Ice Spice)"
          ],
          [
           1.0,
           "Taylor Swift",
           "Is It Over Now? (Taylor's Version) (From The Vault)"
          ],
          [
           1.0,
           "Taylor Swift, Phoebe Bridgers",
           "Nothing New (feat. Phoebe Bridgers) (Taylor's Version) (From The Vault)"
          ],
          [
           0.0,
           "Adele",
           "Water Under the Bridge"
          ],
          [
           1.0,
           "Taylor Swift",
           "Midnight Rain"
          ],
          [
           1.0,
           "Taylor Swift",
           "Innocent (Taylor's Version)"
          ],
          [
           0.0,
           "Taylor Swift",
           "marjorie"
          ],
          [
           0.0,
           "Taylor Swift",
           "Dear John (Taylor's Version)"
          ],
          [
           1.0,
           "Imagine Dragons",
           "It's Time"
          ],
          [
           1.0,
           "Taylor Swift",
           "Message In A Bottle (Taylor's Version) (From The Vault)"
          ],
          [
           1.0,
           "Ed Sheeran",
           "What Do I Know?"
          ],
          [
           1.0,
           "Avicii",
           "Wake Me Up"
          ],
          [
           1.0,
           "Rihanna, Kanye West, Paul McCartney",
           "FourFiveSeconds"
          ],
          [
           1.0,
           "Taylor Swift",
           "You're On Your Own, Kid"
          ],
          [
           0.0,
           "Adele",
           "Hometown Glory"
          ],
          [
           1.0,
           "The Chainsmokers, Coldplay",
           "Something Just Like This"
          ],
          [
           1.0,
           "Taylor Swift, Lana Del Rey",
           "Snow On The Beach (feat. More Lana Del Rey)"
          ],
          [
           1.0,
           "Ed Sheeran",
           "Galway Girl"
          ],
          [
           1.0,
           "Ed Sheeran",
           "Tenerife Sea"
          ],
          [
           1.0,
           "Taylor Swift",
           "This Love (Taylor's Version)"
          ],
          [
           1.0,
           "One Direction",
           "They Don't Know About Us"
          ],
          [
           1.0,
           "Taylor Swift",
           "Haunted (Taylor's Version)"
          ],
          [
           1.0,
           "Rihanna, Chris Brown",
           "Nobody's Business"
          ],
          [
           1.0,
           "Coldplay",
           "A Sky Full of Stars"
          ],
          [
           1.0,
           "Taylor Swift",
           "How You Get The Girl (Taylor's Version)"
          ],
          [
           1.0,
           "Taylor Swift",
           "Glitch"
          ],
          [
           1.0,
           "Ed Sheeran",
           "Castle on the Hill"
          ],
          [
           1.0,
           "Taylor Swift",
           "Now That We Don't Talk (Taylor's Version) (From The Vault)"
          ],
          [
           0.0,
           "Taylor Swift",
           "Bigger Than The Whole Sky"
          ],
          [
           1.0,
           "Taylor Swift",
           "mad woman"
          ],
          [
           1.0,
           "Eminem, Rihanna",
           "The Monster"
          ],
          [
           1.0,
           "Avicii",
           "You Make Me"
          ],
          [
           1.0,
           "Ed Sheeran, Ella Mai",
           "Put It All on Me (feat. Ella Mai)"
          ],
          [
           1.0,
           "Ed Sheeran",
           "Sing"
          ],
          [
           1.0,
           "Rihanna, SZA",
           "Consideration"
          ],
          [
           0.0,
           "Taylor Swift, Keith Urban",
           "That's When (feat. Keith Urban) (Taylor's Version) (From The Vault)"
          ],
          [
           1.0,
           "Eminem",
           "Cinderella Man"
          ],
          [
           1.0,
           "Taylor Swift",
           "Is It Over Now? (Taylor's Version) (From The Vault)"
          ],
          [
           1.0,
           "Taylor Swift",
           "this is me trying"
          ],
          [
           1.0,
           "The Chainsmokers",
           "Sick Boy"
          ],
          [
           1.0,
           "Avicii, Nicky Romero",
           "I Could Be The One (Avicii Vs. Nicky Romero) - Radio Edit"
          ],
          [
           1.0,
           "Taylor Swift",
           "I Knew You Were Trouble (Taylor's Version)"
          ],
          [
           1.0,
           "Taylor Swift",
           "this is me trying"
          ],
          [
           1.0,
           "Ed Sheeran",
           "Nancy Mulligan"
          ],
          [
           1.0,
           "Taylor Swift",
           "peace"
          ],
          [
           1.0,
           "Rihanna",
           "Bitch Better Have My Money"
          ],
          [
           0.0,
           "Ed Sheeran",
           "Supermarket Flowers"
          ],
          [
           1.0,
           "Eminem",
           "Berzerk"
          ],
          [
           1.0,
           "Taylor Swift",
           "dorothea"
          ],
          [
           1.0,
           "Avicii, Nicky Romero",
           "I Could Be The One (Avicii Vs. Nicky Romero) - Radio Edit"
          ],
          [
           1.0,
           "Ed Sheeran",
           "Baby One More Time - Recorded at Spotify Studios New York City"
          ],
          [
           1.0,
           "Adele",
           "Easy On Me"
          ],
          [
           1.0,
           "Rihanna",
           "Where Have You Been"
          ],
          [
           1.0,
           "Avicii",
           "The Nights"
          ],
          [
           1.0,
           "Avicii",
           "Hey Brother"
          ],
          [
           1.0,
           "Backstreet Boys",
           "The Call"
          ],
          [
           1.0,
           "Taylor Swift",
           "The Lucky One (Taylor's Version)"
          ],
          [
           1.0,
           "Taylor Swift",
           "\"Slut!\" (Taylor's Version) (From The Vault)"
          ],
          [
           1.0,
           "Adele",
           "Rumour Has It"
          ],
          [
           1.0,
           "Taylor Swift",
           "Forever Winter (Taylor's Version) (From The Vault)"
          ],
          [
           0.0,
           "Taylor Swift",
           "Change (Taylor's Version)"
          ],
          [
           1.0,
           "Taylor Swift",
           "Clean (Taylor's Version)"
          ],
          [
           1.0,
           "Taylor Swift",
           "invisible string"
          ],
          [
           1.0,
           "Taylor Swift",
           "Maroon"
          ],
          [
           1.0,
           "Taylor Swift, Bon Iver",
           "exile (feat. Bon Iver) - the long pond studio sessions"
          ],
          [
           1.0,
           "Adele",
           "Set Fire to the Rain"
          ],
          [
           0.0,
           "Taylor Swift",
           "Don't You (Taylor's Version) (From The Vault)"
          ],
          [
           1.0,
           "One Direction",
           "Little Things"
          ],
          [
           1.0,
           "Taylor Swift",
           "Timeless (Taylor's Version) (From The Vault)"
          ],
          [
           0.0,
           "Adele",
           "Strangers By Nature"
          ],
          [
           1.0,
           "Rihanna, Drake",
           "What's My Name?"
          ],
          [
           1.0,
           "Taylor Swift",
           "Today Was A Fairytale (Taylor's Version)"
          ],
          [
           1.0,
           "Taylor Swift",
           "champagne problems"
          ],
          [
           1.0,
           "Taylor Swift",
           "Lavender Haze"
          ],
          [
           1.0,
           "Avicii",
           "Silhouettes - Original Radio Edit"
          ],
          [
           0.0,
           "Taylor Swift",
           "Labyrinth"
          ],
          [
           1.0,
           "Adele",
           "Turning Tables"
          ],
          [
           0.0,
           "Coldplay, Rihanna",
           "Princess of China"
          ],
          [
           1.0,
           "Adele",
           "Send My Love (To Your New Lover)"
          ],
          [
           1.0,
           "Taylor Swift",
           "happiness"
          ],
          [
           1.0,
           "Rihanna",
           "Same Ol' Mistakes"
          ],
          [
           1.0,
           "One Direction",
           "Diana"
          ],
          [
           1.0,
           "Taylor Swift",
           "Welcome To New York (Taylor's Version)"
          ],
          [
           1.0,
           "Adele",
           "Love Is A Game"
          ],
          [
           1.0,
           "Adele",
           "My Little Love"
          ],
          [
           1.0,
           "Taylor Swift",
           "I Wish You Would (Taylor's Version)"
          ],
          [
           1.0,
           "Taylor Swift",
           "Lavender Haze"
          ],
          [
           0.0,
           "One Direction",
           "Gotta Be You"
          ],
          [
           1.0,
           "Rihanna, Mikky Ekko",
           "Stay"
          ],
          [
           0.0,
           "Taylor Swift, HAIM",
           "no body, no crime (feat. HAIM)"
          ],
          [
           1.0,
           "Taylor Swift",
           "Question...?"
          ],
          [
           1.0,
           "Avicii",
           "The Days"
          ],
          [
           1.0,
           "Taylor Swift",
           "You Belong With Me (Taylor's Version)"
          ],
          [
           1.0,
           "Taylor Swift",
           "Midnight Rain"
          ],
          [
           1.0,
           "Taylor Swift",
           "Sweet Nothing"
          ],
          [
           1.0,
           "Taylor Swift",
           "Sad Beautiful Tragic (Taylor's Version)"
          ],
          [
           1.0,
           "Taylor Swift",
           "illicit affairs"
          ],
          [
           1.0,
           "Taylor Swift",
           "Say Don't Go (Taylor's Version) (From The Vault)"
          ],
          [
           1.0,
           "Taylor Swift",
           "The Other Side Of The Door (Taylor's Version)"
          ],
          [
           1.0,
           "Taylor Swift",
           "Bejeweled"
          ],
          [
           1.0,
           "Taylor Swift",
           "Eyes Open (Taylor's Version)"
          ],
          [
           1.0,
           "Taylor Swift",
           "Vigilante Shit"
          ],
          [
           1.0,
           "Ed Sheeran",
           "Hearts Don't Break Around Here"
          ],
          [
           0.0,
           "Taylor Swift",
           "All You Had To Do Was Stay (Taylor's Version)"
          ],
          [
           1.0,
           "Adele",
           "Chasing Pavements"
          ],
          [
           1.0,
           "Taylor Swift",
           "Stay Stay Stay (Taylor's Version)"
          ],
          [
           1.0,
           "Taylor Swift",
           "Mastermind"
          ],
          [
           0.0,
           "Taylor Swift",
           "marjorie"
          ],
          [
           1.0,
           "Taylor Swift",
           "Paris"
          ],
          [
           0.0,
           "The Chainsmokers, Kelsea Ballerini",
           "This Feeling"
          ],
          [
           1.0,
           "Avicii",
           "Levels - Radio Edit"
          ],
          [
           0.0,
           "One Direction",
           "Don't Forget Where You Belong"
          ],
          [
           1.0,
           "Taylor Swift",
           "mad woman"
          ],
          [
           1.0,
           "Eminem",
           "Rap God"
          ],
          [
           1.0,
           "Taylor Swift",
           "I Almost Do (Taylor's Version)"
          ],
          [
           1.0,
           "Taylor Swift",
           "State Of Grace (Taylor's Version)"
          ],
          [
           1.0,
           "Taylor Swift",
           "We Are Never Ever Getting Back Together (Taylor's Version)"
          ],
          [
           1.0,
           "Adele",
           "Easy On Me"
          ],
          [
           0.0,
           "Adele",
           "Love In The Dark"
          ],
          [
           1.0,
           "Taylor Swift",
           "Now That We Don't Talk (Taylor's Version) (From The Vault)"
          ],
          [
           1.0,
           "Taylor Swift",
           "Ronan (Taylor's Version)"
          ],
          [
           1.0,
           "Taylor Swift",
           "Wildest Dreams (Taylor's Version)"
          ],
          [
           0.0,
           "Taylor Swift, HAIM",
           "no body, no crime (feat. HAIM)"
          ],
          [
           1.0,
           "Ed Sheeran",
           "Photograph"
          ],
          [
           1.0,
           "Taylor Swift",
           "The Best Day (Taylor's Version)"
          ],
          [
           1.0,
           "Coldplay",
           "Up&Up"
          ],
          [
           1.0,
           "One Direction",
           "Right Now"
          ],
          [
           1.0,
           "Ed Sheeran, Camila Cabello, Cardi B",
           "South of the Border (feat. Camila Cabello & Cardi B)"
          ],
          [
           1.0,
           "Taylor Swift",
           "Love Story (Taylor's Version)"
          ],
          [
           1.0,
           "Adele",
           "Hold On"
          ],
          [
           1.0,
           "Rihanna",
           "Kiss It Better - R3hab Remix"
          ],
          [
           1.0,
           "Taylor Swift",
           "Anti-Hero"
          ],
          [
           1.0,
           "Rihanna, Future",
           "Loveeeeeee Song"
          ],
          [
           1.0,
           "Taylor Swift",
           "Better Than Revenge (Taylor's Version)"
          ],
          [
           0.0,
           "Taylor Swift",
           "Carolina - From The Motion Picture “Where The Crawdads Sing”"
          ],
          [
           1.0,
           "Taylor Swift",
           "cardigan"
          ],
          [
           1.0,
           "Adele",
           "Don't You Remember"
          ],
          [
           1.0,
           "Taylor Swift",
           "Superstar (Taylor's Version)"
          ],
          [
           1.0,
           "Adele",
           "One And Only"
          ],
          [
           0.0,
           "Taylor Swift",
           "Only The Young - Featured in Miss Americana"
          ],
          [
           1.0,
           "Taylor Swift",
           "High Infidelity"
          ],
          [
           0.0,
           "Imagine Dragons",
           "Demons"
          ],
          [
           1.0,
           "Taylor Swift",
           "The Moment I Knew (Taylor's Version)"
          ],
          [
           0.0,
           "Coldplay",
           "Always in My Head"
          ],
          [
           1.0,
           "Adele",
           "Rolling in the Deep"
          ],
          [
           1.0,
           "Taylor Swift",
           "New Romantics (Taylor's Version)"
          ],
          [
           1.0,
           "Taylor Swift",
           "hoax"
          ],
          [
           1.0,
           "Coldplay",
           "Midnight"
          ],
          [
           1.0,
           "Taylor Swift",
           "mirrorball"
          ],
          [
           1.0,
           "Avicii",
           "For A Better Day"
          ],
          [
           1.0,
           "Taylor Swift",
           "Say Don't Go (Taylor's Version) (From The Vault)"
          ],
          [
           1.0,
           "Taylor Swift",
           "Suburban Legends (Taylor's Version) (From The Vault)"
          ],
          [
           1.0,
           "Taylor Swift",
           "Clean (Taylor's Version)"
          ],
          [
           1.0,
           "Taylor Swift",
           "Paris"
          ],
          [
           1.0,
           "Taylor Swift",
           "Vigilante Shit"
          ],
          [
           1.0,
           "Taylor Swift",
           "Holy Ground (Taylor's Version)"
          ],
          [
           1.0,
           "Taylor Swift",
           "Girl At Home (Taylor's Version)"
          ],
          [
           1.0,
           "Taylor Swift",
           "All Too Well (Taylor's Version)"
          ],
          [
           1.0,
           "Taylor Swift",
           "Bigger Than The Whole Sky"
          ],
          [
           1.0,
           "Imagine Dragons",
           "On Top Of The World"
          ],
          [
           1.0,
           "Taylor Swift",
           "Sweet Nothing"
          ],
          [
           1.0,
           "Taylor Swift",
           "Never Grow Up (Taylor's Version)"
          ],
          [
           1.0,
           "Taylor Swift",
           "peace"
          ],
          [
           0.0,
           "Taylor Swift",
           "When Emma Falls in Love (Taylor's Version) (From The Vault)"
          ],
          [
           1.0,
           "Imagine Dragons",
           "It's Time"
          ],
          [
           1.0,
           "Taylor Swift",
           "'tis the damn season"
          ],
          [
           1.0,
           "Taylor Swift",
           "Would've, Could've, Should've"
          ],
          [
           0.0,
           "Taylor Swift, The National",
           "coney island (feat. The National)"
          ],
          [
           1.0,
           "Taylor Swift",
           "Untouchable (Taylor's Version)"
          ],
          [
           1.0,
           "Taylor Swift",
           "Glitch"
          ],
          [
           1.0,
           "Taylor Swift",
           "Mr. Perfectly Fine (Taylor's Version) (From The Vault)"
          ],
          [
           1.0,
           "Taylor Swift",
           "Lavender Haze"
          ],
          [
           1.0,
           "Taylor Swift",
           "cardigan"
          ],
          [
           0.0,
           "Taylor Swift",
           "Come Back...Be Here (Taylor's Version)"
          ],
          [
           1.0,
           "Avicii",
           "Levels - Original Version"
          ],
          [
           0.0,
           "Taylor Swift",
           "Enchanted (Taylor's Version)"
          ],
          [
           1.0,
           "Taylor Swift, Kungs",
           "Anti-Hero - Kungs Remix"
          ],
          [
           0.0,
           "Taylor Swift",
           "seven"
          ],
          [
           1.0,
           "Rihanna, JAY-Z",
           "Talk That Talk"
          ],
          [
           0.0,
           "Rihanna",
           "Diamonds"
          ],
          [
           0.0,
           "Taylor Swift",
           "august"
          ],
          [
           0.0,
           "Taylor Swift",
           "Out Of The Woods (Taylor's Version)"
          ],
          [
           1.0,
           "Taylor Swift",
           "right where you left me - bonus track"
          ],
          [
           1.0,
           "Adele",
           "To Be Loved"
          ],
          [
           1.0,
           "OneRepublic",
           "Apologize"
          ],
          [
           1.0,
           "Taylor Swift",
           "Sparks Fly (Taylor's Version)"
          ],
          [
           1.0,
           "Taylor Swift",
           "Bad Blood (Taylor's Version)"
          ],
          [
           1.0,
           "Taylor Swift",
           "Superman (Taylor's Version)"
          ],
          [
           1.0,
           "Avicii",
           "Addicted To You"
          ],
          [
           1.0,
           "Avicii",
           "Waiting For Love"
          ],
          [
           1.0,
           "Taylor Swift",
           "You're Not Sorry (Taylor's Version)"
          ],
          [
           1.0,
           "Taylor Swift",
           "\"Slut!\" (Taylor's Version) (From The Vault)"
          ],
          [
           1.0,
           "Taylor Swift",
           "my tears ricochet"
          ],
          [
           0.0,
           "Taylor Swift",
           "august"
          ],
          [
           1.0,
           "Imagine Dragons",
           "Radioactive"
          ],
          [
           1.0,
           "Taylor Swift",
           "Mastermind"
          ],
          [
           0.0,
           "Taylor Swift",
           "gold rush"
          ],
          [
           1.0,
           "Coldplay",
           "Viva La Vida - Live from Spotify London"
          ],
          [
           1.0,
           "Taylor Swift",
           "long story short"
          ],
          [
           1.0,
           "Taylor Swift",
           "You Belong With Me (Taylor's Version)"
          ],
          [
           1.0,
           "OneRepublic",
           "Everybody Loves Me"
          ],
          [
           0.0,
           "Taylor Swift",
           "Cornelia Street - Live From Paris"
          ],
          [
           1.0,
           "Ed Sheeran & Justin Bieber, Justin Bieber",
           "I Don't Care (with Justin Bieber)"
          ],
          [
           1.0,
           "Rihanna",
           "Kiss It Better"
          ],
          [
           1.0,
           "One Direction",
           "Kiss You"
          ],
          [
           1.0,
           "Taylor Swift",
           "Question...?"
          ],
          [
           1.0,
           "One Direction",
           "Happily"
          ],
          [
           1.0,
           "Taylor Swift",
           "Karma"
          ],
          [
           1.0,
           "Taylor Swift",
           "Hits Different"
          ],
          [
           1.0,
           "Taylor Swift",
           "Bye Bye Baby (Taylor's Version) (From The Vault)"
          ],
          [
           0.0,
           "Adele",
           "Oh My God"
          ],
          [
           1.0,
           "Ed Sheeran",
           "I See Fire"
          ],
          [
           1.0,
           "Ed Sheeran",
           "New Man"
          ],
          [
           0.0,
           "Ed Sheeran, Beyoncé",
           "Perfect Duet (Ed Sheeran & Beyoncé)"
          ],
          [
           1.0,
           "Backstreet Boys",
           "I Want It That Way"
          ],
          [
           1.0,
           "Adele",
           "Someone Like You"
          ],
          [
           0.0,
           "Taylor Swift, Bon Iver",
           "exile (feat. Bon Iver)"
          ],
          [
           1.0,
           "Taylor Swift",
           "Treacherous (Taylor's Version)"
          ],
          [
           1.0,
           "Taylor Swift",
           "Ours (Taylor's Version)"
          ],
          [
           1.0,
           "Coldplay",
           "Magic"
          ],
          [
           1.0,
           "The Chainsmokers, Halsey",
           "Closer"
          ],
          [
           1.0,
           "Taylor Swift",
           "Would've, Could've, Should've"
          ],
          [
           1.0,
           "Rihanna, Calvin Harris",
           "We Found Love"
          ],
          [
           1.0,
           "Taylor Swift",
           "We Were Happy (Taylor's Version) (From The Vault)"
          ],
          [
           1.0,
           "Taylor Swift",
           "You're Losing Me (From The Vault)"
          ],
          [
           1.0,
           "Ed Sheeran, Eminem, 50 Cent",
           "Remember The Name (feat. Eminem & 50 Cent)"
          ],
          [
           0.0,
           "Rihanna",
           "Russian Roulette"
          ],
          [
           1.0,
           "Taylor Swift",
           "cowboy like me"
          ],
          [
           1.0,
           "Taylor Swift",
           "The Story Of Us (Taylor's Version)"
          ],
          [
           1.0,
           "Taylor Swift",
           "Karma"
          ],
          [
           1.0,
           "Taylor Swift",
           "I Know Places (Taylor's Version)"
          ],
          [
           0.0,
           "Taylor Swift",
           "willow"
          ],
          [
           1.0,
           "Eminem",
           "Space Bound"
          ],
          [
           1.0,
           "Taylor Swift",
           "Shake It Off (Taylor's Version)"
          ],
          [
           1.0,
           "Taylor Swift",
           "dorothea"
          ],
          [
           1.0,
           "Coldplay",
           "Adventure of a Lifetime"
          ],
          [
           1.0,
           "Taylor Swift",
           "Maroon"
          ],
          [
           0.0,
           "Taylor Swift",
           "mirrorball"
          ],
          [
           1.0,
           "Taylor Swift",
           "Wonderland (Taylor's Version)"
          ],
          [
           1.0,
           "Backstreet Boys",
           "Larger Than Life"
          ],
          [
           1.0,
           "Coldplay",
           "O"
          ],
          [
           1.0,
           "Taylor Swift",
           "Bejeweled"
          ],
          [
           1.0,
           "Taylor Swift, Hayley Williams",
           "Castles Crumbling (feat. Hayley Williams) (Taylor's Version) (From The Vault)"
          ],
          [
           1.0,
           "The Chainsmokers, Winona Oak",
           "Hope"
          ],
          [
           1.0,
           "Ed Sheeran",
           "I Don't Care - Acoustic"
          ],
          [
           1.0,
           "Ed Sheeran",
           "Barcelona"
          ],
          [
           1.0,
           "Taylor Swift",
           "Lavender Haze - Acoustic Version"
          ],
          [
           1.0,
           "Taylor Swift",
           "All Too Well (Taylor's Version)"
          ],
          [
           1.0,
           "Taylor Swift",
           "Mean (Taylor's Version)"
          ],
          [
           1.0,
           "Taylor Swift",
           "long story short"
          ],
          [
           1.0,
           "Ed Sheeran",
           "Dive"
          ],
          [
           1.0,
           "Taylor Swift",
           "illicit affairs"
          ],
          [
           0.0,
           "Taylor Swift",
           "Style (Taylor's Version)"
          ],
          [
           1.0,
           "Taylor Swift",
           "Paris"
          ],
          [
           1.0,
           "Taylor Swift",
           "This Love (Taylor's Version)"
          ],
          [
           1.0,
           "Adele",
           "All Night Parking (with Erroll Garner) Interlude"
          ],
          [
           1.0,
           "Taylor Swift",
           "the last great american dynasty"
          ],
          [
           0.0,
           "Adele",
           "Make You Feel My Love"
          ],
          [
           1.0,
           "One Direction",
           "What Makes You Beautiful"
          ],
          [
           1.0,
           "OneRepublic",
           "I Lived"
          ],
          [
           0.0,
           "Imagine Dragons",
           "Demons"
          ],
          [
           1.0,
           "Rihanna, Mikky Ekko",
           "Stay"
          ],
          [
           1.0,
           "Eminem",
           "Survival"
          ],
          [
           1.0,
           "Taylor Swift",
           "I Knew You Were Trouble (Taylor's Version)"
          ],
          [
           0.0,
           "Rihanna",
           "Woo"
          ],
          [
           1.0,
           "One Direction",
           "Live While We're Young"
          ],
          [
           1.0,
           "Taylor Swift, Lana Del Rey",
           "Snow On The Beach (feat. Lana Del Rey)"
          ],
          [
           1.0,
           "Ed Sheeran",
           "Photograph"
          ],
          [
           1.0,
           "Adele",
           "Million Years Ago"
          ],
          [
           1.0,
           "Ed Sheeran, Khalid",
           "Beautiful People (feat. Khalid)"
          ],
          [
           1.0,
           "Taylor Swift",
           "Jump Then Fall (Taylor's Version)"
          ],
          [
           1.0,
           "Rihanna",
           "Higher"
          ],
          [
           1.0,
           "Taylor Swift",
           "the 1"
          ],
          [
           1.0,
           "Taylor Swift",
           "I Know Places (Taylor's Version)"
          ],
          [
           1.0,
           "Taylor Swift",
           "Would've, Could've, Should've"
          ],
          [
           1.0,
           "Taylor Swift",
           "happiness"
          ],
          [
           1.0,
           "Taylor Swift",
           "hoax"
          ],
          [
           0.0,
           "Taylor Swift, Gary Lightbody",
           "The Last Time (feat. Gary Lightbody of Snow Patrol) (Taylor's Version)"
          ],
          [
           1.0,
           "Taylor Swift",
           "Anti-Hero"
          ],
          [
           0.0,
           "Taylor Swift",
           "Last Kiss (Taylor's Version)"
          ],
          [
           1.0,
           "Taylor Swift, Fall Out Boy",
           "Electric Touch (feat. Fall Out Boy) (Taylor's Version) (From The Vault)"
          ],
          [
           1.0,
           "Taylor Swift",
           "Maroon"
          ],
          [
           1.0,
           "Rihanna",
           "Needed Me"
          ],
          [
           1.0,
           "Taylor Swift",
           "Wildest Dreams (Taylor's Version)"
          ],
          [
           1.0,
           "Rihanna, Calvin Harris",
           "We Found Love"
          ],
          [
           1.0,
           "Rihanna",
           "Where Have You Been"
          ],
          [
           0.0,
           "Taylor Swift",
           "Labyrinth"
          ],
          [
           0.0,
           "Taylor Swift, Bon Iver",
           "evermore (feat. Bon Iver)"
          ],
          [
           1.0,
           "Taylor Swift",
           "Karma"
          ],
          [
           1.0,
           "Taylor Swift, Kendrick Lamar",
           "Bad Blood (feat. Kendrick Lamar) (Taylor's Version)"
          ],
          [
           1.0,
           "Adele",
           "Can I Get It"
          ],
          [
           1.0,
           "Ed Sheeran, Travis Scott",
           "Antisocial (with Travis Scott)"
          ],
          [
           1.0,
           "Taylor Swift",
           "How You Get The Girl (Taylor's Version)"
          ],
          [
           0.0,
           "Taylor Swift",
           "willow"
          ],
          [
           1.0,
           "Taylor Swift",
           "Back To December (Taylor's Version)"
          ],
          [
           1.0,
           "Taylor Swift",
           "All Too Well (10 Minute Version) (Taylor's Version) (From The Vault)"
          ],
          [
           1.0,
           "Taylor Swift, Lana Del Rey",
           "Snow On The Beach (feat. Lana Del Rey)"
          ],
          [
           0.0,
           "Coldplay",
           "Birds"
          ],
          [
           1.0,
           "The Chainsmokers, Phoebe Ryan",
           "All We Know"
          ],
          [
           0.0,
           "Taylor Swift",
           "the lakes - original version"
          ],
          [
           1.0,
           "Eminem",
           "Not Afraid"
          ],
          [
           0.0,
           "Taylor Swift",
           "epiphany"
          ],
          [
           0.0,
           "Rihanna",
           "Diamonds"
          ],
          [
           1.0,
           "The Chainsmokers",
           "#SELFIE"
          ],
          [
           0.0,
           "Taylor Swift, Bon Iver",
           "exile (feat. Bon Iver)"
          ],
          [
           1.0,
           "One Direction",
           "You & I"
          ],
          [
           0.0,
           "Taylor Swift",
           "You Are In Love (Taylor's Version)"
          ],
          [
           1.0,
           "Ed Sheeran",
           "Bibia Be Ye Ye"
          ],
          [
           1.0,
           "Taylor Swift",
           "High Infidelity"
          ],
          [
           1.0,
           "Taylor Swift",
           "invisible string"
          ],
          [
           1.0,
           "Taylor Swift, Ed Sheeran",
           "Run (feat. Ed Sheeran) (Taylor's Version) (From The Vault)"
          ],
          [
           0.0,
           "Coldplay",
           "Every Teardrop Is a Waterfall"
          ],
          [
           1.0,
           "Taylor Swift",
           "Babe (Taylor's Version) (From The Vault)"
          ],
          [
           1.0,
           "Rihanna",
           "Dancing In The Dark - From The \"Home\" Soundtrack"
          ],
          [
           1.0,
           "The Chainsmokers, Daya",
           "Don't Let Me Down"
          ],
          [
           1.0,
           "Taylor Swift",
           "'tis the damn season"
          ],
          [
           0.0,
           "Taylor Swift",
           "Dear Reader"
          ],
          [
           0.0,
           "Taylor Swift",
           "All You Had To Do Was Stay (Taylor's Version)"
          ],
          [
           1.0,
           "Ed Sheeran",
           "Thinking out Loud"
          ],
          [
           1.0,
           "Taylor Swift",
           "Wildest Dreams (Taylor's Version)"
          ],
          [
           1.0,
           "One Direction",
           "One Way or Another (Teenage Kicks)"
          ],
          [
           1.0,
           "Taylor Swift",
           "Come In With The Rain (Taylor's Version)"
          ],
          [
           1.0,
           "Taylor Swift",
           "Midnight Rain"
          ],
          [
           1.0,
           "Adele",
           "Cry Your Heart Out"
          ],
          [
           0.0,
           "Taylor Swift, Ed Sheeran",
           "Everything Has Changed (feat. Ed Sheeran) (Taylor's Version)"
          ],
          [
           1.0,
           "Rihanna",
           "S&M"
          ],
          [
           1.0,
           "OneRepublic",
           "Counting Stars"
          ],
          [
           1.0,
           "Taylor Swift",
           "Bigger Than The Whole Sky"
          ],
          [
           1.0,
           "Rihanna, Calvin Harris",
           "We Found Love"
          ],
          [
           1.0,
           "Taylor Swift",
           "Red (Taylor's Version)"
          ],
          [
           0.0,
           "Taylor Swift",
           "The Great War"
          ],
          [
           0.0,
           "The Chainsmokers, Daya, ILLENIUM",
           "Don't Let Me Down (feat. Daya) - Illenium Remix"
          ],
          [
           0.0,
           "Taylor Swift",
           "marjorie"
          ],
          [
           1.0,
           "The Chainsmokers, ROZES",
           "Roses"
          ],
          [
           1.0,
           "Rihanna",
           "Lift Me Up - From Black Panther: Wakanda Forever - Music From and Inspired By"
          ],
          [
           0.0,
           "Backstreet Boys",
           "Shape of My Heart"
          ],
          [
           0.0,
           "Taylor Swift",
           "the lakes - bonus track"
          ],
          [
           1.0,
           "Taylor Swift",
           "Mine (Taylor's Version)"
          ],
          [
           1.0,
           "Rihanna",
           "Rude Boy"
          ],
          [
           0.0,
           "Taylor Swift",
           "Out Of The Woods (Taylor's Version)"
          ],
          [
           1.0,
           "Backstreet Boys",
           "As Long as You Love Me"
          ],
          [
           1.0,
           "The Chainsmokers",
           "Paris"
          ],
          [
           1.0,
           "Ed Sheeran & Justin Bieber, Justin Bieber",
           "I Don't Care (with Justin Bieber)"
          ],
          [
           1.0,
           "Taylor Swift",
           "22 (Taylor's Version)"
          ],
          [
           1.0,
           "Taylor Swift",
           "Blank Space (Taylor's Version)"
          ],
          [
           1.0,
           "Taylor Swift",
           "I Wish You Would (Taylor's Version)"
          ],
          [
           0.0,
           "Ed Sheeran",
           "Perfect"
          ],
          [
           0.0,
           "Taylor Swift",
           "Fearless (Taylor's Version)"
          ],
          [
           1.0,
           "Rihanna, Drake",
           "Work"
          ],
          [
           0.0,
           "Adele",
           "I Drink Wine"
          ],
          [
           1.0,
           "Taylor Swift",
           "Mastermind"
          ],
          [
           1.0,
           "Taylor Swift",
           "long story short"
          ],
          [
           1.0,
           "Taylor Swift",
           "Shake It Off (Taylor's Version)"
          ],
          [
           1.0,
           "Taylor Swift",
           "State Of Grace (Acoustic Version) (Taylor's Version)"
          ],
          [
           1.0,
           "Taylor Swift",
           "You're On Your Own, Kid"
          ]
         ],
         "hovertemplate": "artist_name=%{customdata[1]}<br>track_name=%{customdata[2]}<extra></extra>",
         "legendgroup": "",
         "marker": {
          "color": [
           1.0,
           1.0,
           0.0,
           1.0,
           1.0,
           1.0,
           1.0,
           1.0,
           1.0,
           1.0,
           1.0,
           1.0,
           0.0,
           1.0,
           1.0,
           1.0,
           1.0,
           0.0,
           1.0,
           0.0,
           1.0,
           1.0,
           0.0,
           1.0,
           1.0,
           1.0,
           1.0,
           1.0,
           0.0,
           0.0,
           0.0,
           0.0,
           0.0,
           1.0,
           1.0,
           1.0,
           1.0,
           1.0,
           1.0,
           1.0,
           1.0,
           1.0,
           1.0,
           1.0,
           1.0,
           1.0,
           1.0,
           1.0,
           0.0,
           1.0,
           0.0,
           1.0,
           1.0,
           0.0,
           1.0,
           1.0,
           0.0,
           1.0,
           1.0,
           1.0,
           1.0,
           0.0,
           1.0,
           1.0,
           1.0,
           1.0,
           1.0,
           1.0,
           1.0,
           0.0,
           1.0,
           0.0,
           1.0,
           0.0,
           1.0,
           1.0,
           1.0,
           1.0,
           1.0,
           1.0,
           1.0,
           1.0,
           1.0,
           1.0,
           1.0,
           1.0,
           0.0,
           1.0,
           1.0,
           0.0,
           1.0,
           1.0,
           0.0,
           1.0,
           0.0,
           1.0,
           1.0,
           0.0,
           0.0,
           1.0,
           1.0,
           0.0,
           1.0,
           1.0,
           1.0,
           1.0,
           0.0,
           1.0,
           1.0,
           1.0,
           0.0,
           1.0,
           0.0,
           0.0,
           1.0,
           1.0,
           0.0,
           1.0,
           1.0,
           1.0,
           1.0,
           1.0,
           1.0,
           0.0,
           1.0,
           1.0,
           0.0,
           0.0,
           1.0,
           1.0,
           1.0,
           1.0,
           1.0,
           1.0,
           0.0,
           1.0,
           1.0,
           1.0,
           1.0,
           1.0,
           1.0,
           1.0,
           1.0,
           1.0,
           1.0,
           1.0,
           1.0,
           1.0,
           0.0,
           1.0,
           1.0,
           1.0,
           1.0,
           1.0,
           1.0,
           0.0,
           1.0,
           1.0,
           1.0,
           1.0,
           1.0,
           1.0,
           1.0,
           1.0,
           1.0,
           1.0,
           0.0,
           1.0,
           1.0,
           1.0,
           1.0,
           1.0,
           1.0,
           1.0,
           1.0,
           1.0,
           1.0,
           1.0,
           1.0,
           1.0,
           0.0,
           1.0,
           1.0,
           1.0,
           1.0,
           1.0,
           0.0,
           1.0,
           1.0,
           0.0,
           1.0,
           1.0,
           1.0,
           1.0,
           1.0,
           0.0,
           1.0,
           0.0,
           1.0,
           1.0,
           1.0,
           1.0,
           1.0,
           1.0,
           1.0,
           1.0,
           1.0,
           0.0,
           1.0,
           0.0,
           1.0,
           1.0,
           1.0,
           1.0,
           1.0,
           1.0,
           1.0,
           1.0,
           1.0,
           1.0,
           1.0,
           1.0,
           1.0,
           0.0,
           1.0,
           1.0,
           1.0,
           0.0,
           1.0,
           0.0,
           1.0,
           0.0,
           1.0,
           1.0,
           1.0,
           1.0,
           1.0,
           1.0,
           0.0,
           1.0,
           1.0,
           1.0,
           0.0,
           1.0,
           1.0,
           1.0,
           1.0,
           1.0,
           1.0,
           1.0,
           1.0,
           1.0,
           1.0,
           1.0,
           0.0,
           1.0,
           1.0,
           1.0,
           1.0,
           0.0,
           1.0,
           0.0,
           1.0,
           0.0,
           1.0,
           1.0,
           1.0,
           1.0,
           1.0,
           1.0,
           1.0,
           1.0,
           1.0,
           1.0,
           1.0,
           1.0,
           1.0,
           1.0,
           1.0,
           1.0,
           1.0,
           1.0,
           1.0,
           0.0,
           1.0,
           1.0,
           1.0,
           0.0,
           1.0,
           1.0,
           1.0,
           1.0,
           1.0,
           0.0,
           1.0,
           0.0,
           1.0,
           0.0,
           1.0,
           0.0,
           0.0,
           0.0,
           1.0,
           1.0,
           1.0,
           1.0,
           1.0,
           1.0,
           1.0,
           1.0,
           1.0,
           1.0,
           1.0,
           0.0,
           1.0,
           1.0,
           0.0,
           1.0,
           1.0,
           1.0,
           1.0,
           0.0,
           1.0,
           1.0,
           1.0,
           1.0,
           1.0,
           1.0,
           1.0,
           1.0,
           0.0,
           1.0,
           1.0,
           0.0,
           1.0,
           1.0,
           0.0,
           1.0,
           1.0,
           1.0,
           1.0,
           1.0,
           1.0,
           1.0,
           1.0,
           1.0,
           0.0,
           1.0,
           1.0,
           1.0,
           1.0,
           0.0,
           1.0,
           1.0,
           1.0,
           1.0,
           1.0,
           0.0,
           1.0,
           1.0,
           1.0,
           1.0,
           1.0,
           1.0,
           1.0,
           1.0,
           1.0,
           1.0,
           1.0,
           1.0,
           1.0,
           1.0,
           0.0,
           1.0,
           1.0,
           1.0,
           1.0,
           0.0,
           1.0,
           1.0,
           0.0,
           1.0,
           1.0,
           1.0,
           0.0,
           1.0,
           1.0,
           1.0,
           1.0,
           1.0,
           1.0,
           1.0,
           1.0,
           1.0,
           1.0,
           1.0,
           1.0,
           0.0,
           1.0,
           0.0,
           1.0,
           1.0,
           1.0,
           1.0,
           1.0,
           1.0,
           0.0,
           0.0,
           1.0,
           1.0,
           1.0,
           1.0,
           1.0,
           0.0,
           1.0,
           1.0,
           1.0,
           0.0,
           1.0,
           0.0,
           1.0,
           0.0,
           0.0,
           1.0,
           0.0,
           1.0,
           0.0,
           1.0,
           1.0,
           1.0,
           1.0,
           0.0,
           1.0,
           1.0,
           1.0,
           1.0,
           0.0,
           0.0,
           1.0,
           1.0,
           1.0,
           1.0,
           1.0,
           1.0,
           0.0,
           1.0,
           1.0,
           1.0,
           1.0,
           1.0,
           0.0,
           0.0,
           0.0,
           1.0,
           1.0,
           0.0,
           0.0,
           1.0,
           1.0,
           0.0,
           1.0,
           1.0,
           1.0,
           1.0,
           1.0,
           1.0,
           0.0,
           0.0,
           1.0,
           0.0,
           1.0,
           1.0,
           1.0,
           1.0,
           1.0
          ],
          "coloraxis": "coloraxis",
          "symbol": "circle"
         },
         "mode": "markers",
         "name": "",
         "orientation": "v",
         "showlegend": false,
         "x": [
          127.967,
          126.471,
          100.023,
          162.355,
          122.984,
          142.731,
          119.966,
          136.245,
          168.021,
          151.884,
          165.369,
          203.89,
          74.952,
          115.013,
          126.014,
          142.893,
          169.899,
          95.156,
          103.984,
          95.939,
          127.961,
          125.911,
          96.016,
          144.751,
          151.809,
          112.049,
          171.917,
          118.995,
          90.027,
          73.942,
          91.972,
          74.952,
          120.94,
          110.031,
          129.473,
          151.923,
          147.922,
          142.896,
          144.022,
          126.999,
          151.884,
          137.978,
          127.05,
          123.044,
          139.979,
          134.024,
          86.989,
          78.998,
          88.856,
          95.977,
          82.085,
          96.012,
          94.988,
          94.926,
          116.98,
          103.019,
          75.881,
          91.207,
          169.943,
          121.07,
          155.887,
          83.178,
          135.942,
          111.893,
          118.491,
          92.979,
          171.346,
          138.058,
          118.036,
          93.009,
          147.854,
          95.466,
          176.655,
          107.747,
          172.014,
          108.989,
          97.008,
          139.022,
          177.115,
          94.384,
          141.916,
          156.128,
          134.002,
          167.998,
          161.032,
          139.631,
          94.971,
          129.947,
          119.082,
          110.014,
          118.753,
          115.005,
          107.895,
          121.009,
          79.015,
          115.99,
          155.954,
          72.595,
          125.177,
          95.049,
          122.99,
          95.946,
          138.754,
          149.654,
          171.319,
          99.99,
          96.025,
          120.044,
          185.262,
          146.024,
          92.474,
          179.947,
          81.112,
          89.792,
          134.202,
          109.957,
          84.68,
          79.962,
          124.084,
          92.469,
          89.977,
          100.012,
          101.96,
          94.963,
          140.15,
          133.627,
          96.103,
          119.294,
          105.009,
          115.915,
          115.092,
          124.08,
          205.846,
          120.041,
          122.456,
          102.996,
          109.846,
          99.943,
          121.876,
          144.071,
          147.917,
          162.201,
          109.233,
          124.97,
          119.997,
          140.845,
          135.007,
          110.013,
          82.951,
          141.916,
          110.049,
          124.99,
          101.007,
          119.988,
          144.975,
          90.201,
          85.918,
          99.994,
          135.886,
          89.996,
          127.946,
          154.008,
          135.882,
          101.993,
          150.072,
          102.99,
          89.749,
          95.084,
          119.953,
          127.946,
          104.511,
          141.981,
          127.963,
          125.983,
          125.014,
          104.196,
          117.889,
          77.983,
          120.052,
          116.012,
          95.999,
          103.96,
          83.433,
          108.075,
          151.956,
          107.993,
          101.934,
          110.076,
          142.883,
          68.004,
          99.954,
          158.162,
          171.319,
          96.985,
          128.074,
          109.993,
          155.476,
          85.014,
          164.069,
          122.079,
          151.777,
          171.96,
          116.998,
          183.793,
          151.865,
          118.026,
          97.043,
          84.969,
          111.893,
          79.015,
          108.978,
          127.059,
          130.033,
          139.966,
          175.917,
          130.059,
          119.845,
          109.95,
          163.936,
          164.0,
          137.048,
          79.846,
          105.177,
          97.057,
          80.03,
          100.02,
          125.977,
          96.103,
          110.947,
          105.049,
          126.04,
          92.014,
          141.898,
          148.14,
          145.88,
          129.958,
          172.014,
          141.981,
          109.821,
          109.994,
          116.04,
          140.061,
          79.011,
          107.989,
          125.0,
          163.989,
          120.008,
          97.989,
          119.054,
          165.902,
          102.023,
          96.953,
          119.981,
          145.863,
          115.851,
          130.045,
          115.025,
          171.862,
          154.974,
          93.516,
          87.862,
          89.938,
          125.952,
          97.546,
          104.948,
          121.978,
          118.84,
          126.974,
          110.107,
          135.002,
          109.946,
          118.048,
          103.955,
          110.962,
          79.996,
          156.894,
          125.089,
          185.972,
          165.71,
          100.048,
          176.747,
          125.058,
          150.044,
          78.133,
          105.009,
          145.916,
          157.984,
          107.895,
          200.391,
          140.864,
          135.937,
          97.038,
          130.033,
          79.846,
          125.99,
          81.907,
          115.997,
          94.955,
          83.999,
          91.993,
          89.567,
          92.021,
          137.915,
          170.425,
          118.008,
          114.991,
          169.971,
          131.93,
          128.031,
          127.999,
          133.873,
          155.875,
          129.86,
          89.937,
          136.245,
          125.934,
          112.05,
          138.203,
          157.895,
          130.033,
          170.04,
          97.085,
          101.956,
          95.0,
          90.014,
          108.943,
          117.0,
          90.034,
          106.026,
          80.132,
          88.098,
          76.034,
          94.026,
          94.992,
          99.039,
          135.187,
          75.602,
          109.984,
          159.813,
          93.457,
          95.01,
          157.96,
          127.986,
          106.007,
          102.984,
          91.046,
          80.051,
          127.967,
          139.846,
          90.024,
          160.027,
          80.961,
          142.002,
          160.058,
          119.966,
          111.995,
          108.055,
          110.137,
          183.811,
          108.037,
          136.998,
          164.003,
          147.803,
          104.941,
          94.058,
          99.975,
          97.075,
          185.972,
          163.874,
          157.893,
          134.943,
          119.58,
          94.868,
          110.963,
          144.039,
          127.989,
          147.991,
          65.18,
          124.99,
          119.987,
          89.938,
          111.893,
          176.384,
          154.008,
          115.004,
          126.039,
          110.007,
          107.989,
          105.929,
          92.977,
          160.111,
          153.199,
          139.883,
          160.039,
          157.979,
          122.079,
          118.819,
          94.05,
          96.935,
          79.401,
          131.073,
          108.034,
          110.898,
          139.985,
          127.985,
          127.963,
          110.039,
          125.177,
          90.02,
          170.091,
          97.985,
          151.957,
          120.027,
          81.112,
          142.063,
          93.023,
          110.014,
          105.009,
          90.0,
          90.053,
          114.635,
          93.933,
          91.972,
          127.956,
          75.938,
          130.993,
          84.948,
          127.067,
          176.082,
          83.455,
          125.039,
          117.98,
          167.844,
          115.003,
          159.803,
          145.916,
          107.601,
          96.997,
          78.998,
          140.061,
          162.131,
          143.929,
          139.865,
          125.064,
          79.918,
          127.972,
          122.016,
          165.523,
          127.986,
          125.047,
          96.009,
          79.648,
          96.103,
          100.001,
          177.115,
          96.102,
          89.846,
          121.08,
          173.906,
          91.992,
          98.219,
          99.999,
          101.956,
          103.984,
          96.057,
          118.009,
          95.05,
          100.118,
          91.974,
          115.389,
          125.966,
          157.895,
          160.055,
          208.918,
          120.044
         ],
         "xaxis": "x",
         "y": [
          0.604,
          0.72,
          0.578,
          0.405,
          0.449,
          0.589,
          0.605,
          0.448,
          0.506,
          0.689,
          0.685,
          0.375,
          0.316,
          0.741,
          0.628,
          0.599,
          0.452,
          0.544,
          0.642,
          0.593,
          0.824,
          0.789,
          0.573,
          0.41,
          0.498,
          0.58,
          0.567,
          0.727,
          0.491,
          0.473,
          0.564,
          0.316,
          0.395,
          0.663,
          0.522,
          0.592,
          0.686,
          0.638,
          0.474,
          0.713,
          0.689,
          0.43,
          0.702,
          0.694,
          0.617,
          0.643,
          0.749,
          0.781,
          0.515,
          0.825,
          0.538,
          0.737,
          0.634,
          0.596,
          0.761,
          0.617,
          0.346,
          0.66,
          0.619,
          0.6,
          0.479,
          0.278,
          0.66,
          0.621,
          0.652,
          0.64,
          0.463,
          0.885,
          0.701,
          0.585,
          0.472,
          0.559,
          0.337,
          0.562,
          0.567,
          0.751,
          0.637,
          0.606,
          0.247,
          0.685,
          0.591,
          0.432,
          0.785,
          0.63,
          0.402,
          0.449,
          0.575,
          0.456,
          0.626,
          0.406,
          0.546,
          0.795,
          0.537,
          0.678,
          0.546,
          0.788,
          0.515,
          0.373,
          0.39,
          0.806,
          0.731,
          0.595,
          0.697,
          0.391,
          0.462,
          0.653,
          0.57,
          0.694,
          0.423,
          0.529,
          0.492,
          0.313,
          0.392,
          0.522,
          0.399,
          0.663,
          0.363,
          0.867,
          0.532,
          0.631,
          0.615,
          0.596,
          0.606,
          0.59,
          0.654,
          0.522,
          0.535,
          0.419,
          0.656,
          0.622,
          0.838,
          0.532,
          0.582,
          0.696,
          0.436,
          0.607,
          0.664,
          0.624,
          0.53,
          0.471,
          0.514,
          0.427,
          0.741,
          0.545,
          0.758,
          0.677,
          0.461,
          0.8,
          0.48,
          0.592,
          0.781,
          0.586,
          0.627,
          0.818,
          0.883,
          0.588,
          0.679,
          0.595,
          0.515,
          0.663,
          0.509,
          0.584,
          0.511,
          0.68,
          0.644,
          0.781,
          0.589,
          0.739,
          0.607,
          0.509,
          0.792,
          0.604,
          0.719,
          0.527,
          0.545,
          0.696,
          0.686,
          0.629,
          0.612,
          0.611,
          0.499,
          0.771,
          0.653,
          0.637,
          0.359,
          0.603,
          0.563,
          0.709,
          0.624,
          0.387,
          0.689,
          0.482,
          0.462,
          0.733,
          0.605,
          0.493,
          0.353,
          0.42,
          0.688,
          0.559,
          0.44,
          0.549,
          0.757,
          0.269,
          0.339,
          0.669,
          0.735,
          0.495,
          0.621,
          0.546,
          0.741,
          0.59,
          0.632,
          0.636,
          0.335,
          0.601,
          0.559,
          0.633,
          0.432,
          0.695,
          0.566,
          0.798,
          0.604,
          0.586,
          0.616,
          0.693,
          0.661,
          0.535,
          0.7,
          0.575,
          0.584,
          0.54,
          0.593,
          0.708,
          0.511,
          0.594,
          0.567,
          0.604,
          0.331,
          0.793,
          0.623,
          0.581,
          0.547,
          0.614,
          0.642,
          0.479,
          0.645,
          0.857,
          0.627,
          0.366,
          0.73,
          0.638,
          0.71,
          0.496,
          0.476,
          0.612,
          0.644,
          0.454,
          0.528,
          0.56,
          0.646,
          0.505,
          0.636,
          0.495,
          0.73,
          0.649,
          0.676,
          0.548,
          0.553,
          0.639,
          0.626,
          0.699,
          0.772,
          0.696,
          0.87,
          0.622,
          0.691,
          0.44,
          0.422,
          0.635,
          0.334,
          0.685,
          0.647,
          0.474,
          0.656,
          0.575,
          0.488,
          0.537,
          0.393,
          0.675,
          0.661,
          0.735,
          0.613,
          0.46,
          0.602,
          0.505,
          0.721,
          0.602,
          0.694,
          0.554,
          0.387,
          0.545,
          0.581,
          0.356,
          0.593,
          0.588,
          0.618,
          0.533,
          0.569,
          0.579,
          0.506,
          0.591,
          0.456,
          0.532,
          0.448,
          0.661,
          0.512,
          0.433,
          0.546,
          0.632,
          0.578,
          0.502,
          0.798,
          0.619,
          0.637,
          0.751,
          0.623,
          0.647,
          0.672,
          0.624,
          0.534,
          0.633,
          0.78,
          0.587,
          0.689,
          0.556,
          0.298,
          0.645,
          0.535,
          0.738,
          0.748,
          0.482,
          0.734,
          0.609,
          0.747,
          0.852,
          0.48,
          0.604,
          0.515,
          0.649,
          0.582,
          0.392,
          0.668,
          0.636,
          0.605,
          0.638,
          0.65,
          0.549,
          0.462,
          0.661,
          0.371,
          0.7,
          0.576,
          0.773,
          0.706,
          0.747,
          0.724,
          0.44,
          0.524,
          0.546,
          0.761,
          0.529,
          0.511,
          0.691,
          0.47,
          0.734,
          0.688,
          0.317,
          0.726,
          0.593,
          0.505,
          0.621,
          0.459,
          0.584,
          0.42,
          0.663,
          0.659,
          0.614,
          0.72,
          0.64,
          0.572,
          0.292,
          0.777,
          0.575,
          0.483,
          0.559,
          0.662,
          0.502,
          0.637,
          0.55,
          0.547,
          0.658,
          0.671,
          0.589,
          0.735,
          0.719,
          0.487,
          0.39,
          0.642,
          0.602,
          0.703,
          0.716,
          0.754,
          0.392,
          0.497,
          0.631,
          0.653,
          0.559,
          0.662,
          0.197,
          0.855,
          0.317,
          0.564,
          0.789,
          0.31,
          0.574,
          0.537,
          0.738,
          0.564,
          0.651,
          0.61,
          0.425,
          0.584,
          0.795,
          0.532,
          0.575,
          0.475,
          0.588,
          0.781,
          0.583,
          0.489,
          0.476,
          0.643,
          0.756,
          0.498,
          0.769,
          0.664,
          0.395,
          0.734,
          0.516,
          0.573,
          0.428,
          0.535,
          0.713,
          0.247,
          0.575,
          0.509,
          0.646,
          0.563,
          0.547,
          0.775,
          0.646,
          0.798,
          0.642,
          0.733,
          0.67,
          0.599,
          0.569,
          0.725,
          0.437,
          0.662,
          0.546,
          0.632,
          0.445,
          0.694
         ],
         "yaxis": "y",
         "type": "scatter"
        }
       ],
       "layout": {
        "template": {
         "data": {
          "histogram2dcontour": [
           {
            "type": "histogram2dcontour",
            "colorbar": {
             "outlinewidth": 0,
             "ticks": ""
            },
            "colorscale": [
             [
              0.0,
              "#0d0887"
             ],
             [
              0.1111111111111111,
              "#46039f"
             ],
             [
              0.2222222222222222,
              "#7201a8"
             ],
             [
              0.3333333333333333,
              "#9c179e"
             ],
             [
              0.4444444444444444,
              "#bd3786"
             ],
             [
              0.5555555555555556,
              "#d8576b"
             ],
             [
              0.6666666666666666,
              "#ed7953"
             ],
             [
              0.7777777777777778,
              "#fb9f3a"
             ],
             [
              0.8888888888888888,
              "#fdca26"
             ],
             [
              1.0,
              "#f0f921"
             ]
            ]
           }
          ],
          "choropleth": [
           {
            "type": "choropleth",
            "colorbar": {
             "outlinewidth": 0,
             "ticks": ""
            }
           }
          ],
          "histogram2d": [
           {
            "type": "histogram2d",
            "colorbar": {
             "outlinewidth": 0,
             "ticks": ""
            },
            "colorscale": [
             [
              0.0,
              "#0d0887"
             ],
             [
              0.1111111111111111,
              "#46039f"
             ],
             [
              0.2222222222222222,
              "#7201a8"
             ],
             [
              0.3333333333333333,
              "#9c179e"
             ],
             [
              0.4444444444444444,
              "#bd3786"
             ],
             [
              0.5555555555555556,
              "#d8576b"
             ],
             [
              0.6666666666666666,
              "#ed7953"
             ],
             [
              0.7777777777777778,
              "#fb9f3a"
             ],
             [
              0.8888888888888888,
              "#fdca26"
             ],
             [
              1.0,
              "#f0f921"
             ]
            ]
           }
          ],
          "heatmap": [
           {
            "type": "heatmap",
            "colorbar": {
             "outlinewidth": 0,
             "ticks": ""
            },
            "colorscale": [
             [
              0.0,
              "#0d0887"
             ],
             [
              0.1111111111111111,
              "#46039f"
             ],
             [
              0.2222222222222222,
              "#7201a8"
             ],
             [
              0.3333333333333333,
              "#9c179e"
             ],
             [
              0.4444444444444444,
              "#bd3786"
             ],
             [
              0.5555555555555556,
              "#d8576b"
             ],
             [
              0.6666666666666666,
              "#ed7953"
             ],
             [
              0.7777777777777778,
              "#fb9f3a"
             ],
             [
              0.8888888888888888,
              "#fdca26"
             ],
             [
              1.0,
              "#f0f921"
             ]
            ]
           }
          ],
          "heatmapgl": [
           {
            "type": "heatmapgl",
            "colorbar": {
             "outlinewidth": 0,
             "ticks": ""
            },
            "colorscale": [
             [
              0.0,
              "#0d0887"
             ],
             [
              0.1111111111111111,
              "#46039f"
             ],
             [
              0.2222222222222222,
              "#7201a8"
             ],
             [
              0.3333333333333333,
              "#9c179e"
             ],
             [
              0.4444444444444444,
              "#bd3786"
             ],
             [
              0.5555555555555556,
              "#d8576b"
             ],
             [
              0.6666666666666666,
              "#ed7953"
             ],
             [
              0.7777777777777778,
              "#fb9f3a"
             ],
             [
              0.8888888888888888,
              "#fdca26"
             ],
             [
              1.0,
              "#f0f921"
             ]
            ]
           }
          ],
          "contourcarpet": [
           {
            "type": "contourcarpet",
            "colorbar": {
             "outlinewidth": 0,
             "ticks": ""
            }
           }
          ],
          "contour": [
           {
            "type": "contour",
            "colorbar": {
             "outlinewidth": 0,
             "ticks": ""
            },
            "colorscale": [
             [
              0.0,
              "#0d0887"
             ],
             [
              0.1111111111111111,
              "#46039f"
             ],
             [
              0.2222222222222222,
              "#7201a8"
             ],
             [
              0.3333333333333333,
              "#9c179e"
             ],
             [
              0.4444444444444444,
              "#bd3786"
             ],
             [
              0.5555555555555556,
              "#d8576b"
             ],
             [
              0.6666666666666666,
              "#ed7953"
             ],
             [
              0.7777777777777778,
              "#fb9f3a"
             ],
             [
              0.8888888888888888,
              "#fdca26"
             ],
             [
              1.0,
              "#f0f921"
             ]
            ]
           }
          ],
          "surface": [
           {
            "type": "surface",
            "colorbar": {
             "outlinewidth": 0,
             "ticks": ""
            },
            "colorscale": [
             [
              0.0,
              "#0d0887"
             ],
             [
              0.1111111111111111,
              "#46039f"
             ],
             [
              0.2222222222222222,
              "#7201a8"
             ],
             [
              0.3333333333333333,
              "#9c179e"
             ],
             [
              0.4444444444444444,
              "#bd3786"
             ],
             [
              0.5555555555555556,
              "#d8576b"
             ],
             [
              0.6666666666666666,
              "#ed7953"
             ],
             [
              0.7777777777777778,
              "#fb9f3a"
             ],
             [
              0.8888888888888888,
              "#fdca26"
             ],
             [
              1.0,
              "#f0f921"
             ]
            ]
           }
          ],
          "mesh3d": [
           {
            "type": "mesh3d",
            "colorbar": {
             "outlinewidth": 0,
             "ticks": ""
            }
           }
          ],
          "scatter": [
           {
            "marker": {
             "line": {
              "color": "#283442"
             }
            },
            "type": "scatter"
           }
          ],
          "parcoords": [
           {
            "type": "parcoords",
            "line": {
             "colorbar": {
              "outlinewidth": 0,
              "ticks": ""
             }
            }
           }
          ],
          "scatterpolargl": [
           {
            "type": "scatterpolargl",
            "marker": {
             "colorbar": {
              "outlinewidth": 0,
              "ticks": ""
             }
            }
           }
          ],
          "bar": [
           {
            "error_x": {
             "color": "#f2f5fa"
            },
            "error_y": {
             "color": "#f2f5fa"
            },
            "marker": {
             "line": {
              "color": "rgb(17,17,17)",
              "width": 0.5
             },
             "pattern": {
              "fillmode": "overlay",
              "size": 10,
              "solidity": 0.2
             }
            },
            "type": "bar"
           }
          ],
          "scattergeo": [
           {
            "type": "scattergeo",
            "marker": {
             "colorbar": {
              "outlinewidth": 0,
              "ticks": ""
             }
            }
           }
          ],
          "scatterpolar": [
           {
            "type": "scatterpolar",
            "marker": {
             "colorbar": {
              "outlinewidth": 0,
              "ticks": ""
             }
            }
           }
          ],
          "histogram": [
           {
            "marker": {
             "pattern": {
              "fillmode": "overlay",
              "size": 10,
              "solidity": 0.2
             }
            },
            "type": "histogram"
           }
          ],
          "scattergl": [
           {
            "marker": {
             "line": {
              "color": "#283442"
             }
            },
            "type": "scattergl"
           }
          ],
          "scatter3d": [
           {
            "type": "scatter3d",
            "line": {
             "colorbar": {
              "outlinewidth": 0,
              "ticks": ""
             }
            },
            "marker": {
             "colorbar": {
              "outlinewidth": 0,
              "ticks": ""
             }
            }
           }
          ],
          "scattermapbox": [
           {
            "type": "scattermapbox",
            "marker": {
             "colorbar": {
              "outlinewidth": 0,
              "ticks": ""
             }
            }
           }
          ],
          "scatterternary": [
           {
            "type": "scatterternary",
            "marker": {
             "colorbar": {
              "outlinewidth": 0,
              "ticks": ""
             }
            }
           }
          ],
          "scattercarpet": [
           {
            "type": "scattercarpet",
            "marker": {
             "colorbar": {
              "outlinewidth": 0,
              "ticks": ""
             }
            }
           }
          ],
          "carpet": [
           {
            "aaxis": {
             "endlinecolor": "#A2B1C6",
             "gridcolor": "#506784",
             "linecolor": "#506784",
             "minorgridcolor": "#506784",
             "startlinecolor": "#A2B1C6"
            },
            "baxis": {
             "endlinecolor": "#A2B1C6",
             "gridcolor": "#506784",
             "linecolor": "#506784",
             "minorgridcolor": "#506784",
             "startlinecolor": "#A2B1C6"
            },
            "type": "carpet"
           }
          ],
          "table": [
           {
            "cells": {
             "fill": {
              "color": "#506784"
             },
             "line": {
              "color": "rgb(17,17,17)"
             }
            },
            "header": {
             "fill": {
              "color": "#2a3f5f"
             },
             "line": {
              "color": "rgb(17,17,17)"
             }
            },
            "type": "table"
           }
          ],
          "barpolar": [
           {
            "marker": {
             "line": {
              "color": "rgb(17,17,17)",
              "width": 0.5
             },
             "pattern": {
              "fillmode": "overlay",
              "size": 10,
              "solidity": 0.2
             }
            },
            "type": "barpolar"
           }
          ],
          "pie": [
           {
            "automargin": true,
            "type": "pie"
           }
          ]
         },
         "layout": {
          "autotypenumbers": "strict",
          "colorway": [
           "#636efa",
           "#EF553B",
           "#00cc96",
           "#ab63fa",
           "#FFA15A",
           "#19d3f3",
           "#FF6692",
           "#B6E880",
           "#FF97FF",
           "#FECB52"
          ],
          "font": {
           "color": "#f2f5fa"
          },
          "hovermode": "closest",
          "hoverlabel": {
           "align": "left"
          },
          "paper_bgcolor": "rgb(17,17,17)",
          "plot_bgcolor": "rgb(17,17,17)",
          "polar": {
           "bgcolor": "rgb(17,17,17)",
           "angularaxis": {
            "gridcolor": "#506784",
            "linecolor": "#506784",
            "ticks": ""
           },
           "radialaxis": {
            "gridcolor": "#506784",
            "linecolor": "#506784",
            "ticks": ""
           }
          },
          "ternary": {
           "bgcolor": "rgb(17,17,17)",
           "aaxis": {
            "gridcolor": "#506784",
            "linecolor": "#506784",
            "ticks": ""
           },
           "baxis": {
            "gridcolor": "#506784",
            "linecolor": "#506784",
            "ticks": ""
           },
           "caxis": {
            "gridcolor": "#506784",
            "linecolor": "#506784",
            "ticks": ""
           }
          },
          "coloraxis": {
           "colorbar": {
            "outlinewidth": 0,
            "ticks": ""
           }
          },
          "colorscale": {
           "sequential": [
            [
             0.0,
             "#0d0887"
            ],
            [
             0.1111111111111111,
             "#46039f"
            ],
            [
             0.2222222222222222,
             "#7201a8"
            ],
            [
             0.3333333333333333,
             "#9c179e"
            ],
            [
             0.4444444444444444,
             "#bd3786"
            ],
            [
             0.5555555555555556,
             "#d8576b"
            ],
            [
             0.6666666666666666,
             "#ed7953"
            ],
            [
             0.7777777777777778,
             "#fb9f3a"
            ],
            [
             0.8888888888888888,
             "#fdca26"
            ],
            [
             1.0,
             "#f0f921"
            ]
           ],
           "sequentialminus": [
            [
             0.0,
             "#0d0887"
            ],
            [
             0.1111111111111111,
             "#46039f"
            ],
            [
             0.2222222222222222,
             "#7201a8"
            ],
            [
             0.3333333333333333,
             "#9c179e"
            ],
            [
             0.4444444444444444,
             "#bd3786"
            ],
            [
             0.5555555555555556,
             "#d8576b"
            ],
            [
             0.6666666666666666,
             "#ed7953"
            ],
            [
             0.7777777777777778,
             "#fb9f3a"
            ],
            [
             0.8888888888888888,
             "#fdca26"
            ],
            [
             1.0,
             "#f0f921"
            ]
           ],
           "diverging": [
            [
             0,
             "#8e0152"
            ],
            [
             0.1,
             "#c51b7d"
            ],
            [
             0.2,
             "#de77ae"
            ],
            [
             0.3,
             "#f1b6da"
            ],
            [
             0.4,
             "#fde0ef"
            ],
            [
             0.5,
             "#f7f7f7"
            ],
            [
             0.6,
             "#e6f5d0"
            ],
            [
             0.7,
             "#b8e186"
            ],
            [
             0.8,
             "#7fbc41"
            ],
            [
             0.9,
             "#4d9221"
            ],
            [
             1,
             "#276419"
            ]
           ]
          },
          "xaxis": {
           "gridcolor": "#283442",
           "linecolor": "#506784",
           "ticks": "",
           "title": {
            "standoff": 15
           },
           "zerolinecolor": "#283442",
           "automargin": true,
           "zerolinewidth": 2
          },
          "yaxis": {
           "gridcolor": "#283442",
           "linecolor": "#506784",
           "ticks": "",
           "title": {
            "standoff": 15
           },
           "zerolinecolor": "#283442",
           "automargin": true,
           "zerolinewidth": 2
          },
          "scene": {
           "xaxis": {
            "backgroundcolor": "rgb(17,17,17)",
            "gridcolor": "#506784",
            "linecolor": "#506784",
            "showbackground": true,
            "ticks": "",
            "zerolinecolor": "#C8D4E3",
            "gridwidth": 2
           },
           "yaxis": {
            "backgroundcolor": "rgb(17,17,17)",
            "gridcolor": "#506784",
            "linecolor": "#506784",
            "showbackground": true,
            "ticks": "",
            "zerolinecolor": "#C8D4E3",
            "gridwidth": 2
           },
           "zaxis": {
            "backgroundcolor": "rgb(17,17,17)",
            "gridcolor": "#506784",
            "linecolor": "#506784",
            "showbackground": true,
            "ticks": "",
            "zerolinecolor": "#C8D4E3",
            "gridwidth": 2
           }
          },
          "shapedefaults": {
           "line": {
            "color": "#f2f5fa"
           }
          },
          "annotationdefaults": {
           "arrowcolor": "#f2f5fa",
           "arrowhead": 0,
           "arrowwidth": 1
          },
          "geo": {
           "bgcolor": "rgb(17,17,17)",
           "landcolor": "rgb(17,17,17)",
           "subunitcolor": "#506784",
           "showland": true,
           "showlakes": true,
           "lakecolor": "rgb(17,17,17)"
          },
          "title": {
           "x": 0.05
          },
          "updatemenudefaults": {
           "bgcolor": "#506784",
           "borderwidth": 0
          },
          "sliderdefaults": {
           "bgcolor": "#C8D4E3",
           "borderwidth": 1,
           "bordercolor": "rgb(17,17,17)",
           "tickwidth": 0
          },
          "mapbox": {
           "style": "dark"
          }
         }
        },
        "xaxis": {
         "anchor": "y",
         "domain": [
          0.0,
          1.0
         ],
         "title": {
          "text": "tempo"
         }
        },
        "yaxis": {
         "anchor": "x",
         "domain": [
          0.0,
          1.0
         ],
         "title": {
          "text": "danceability"
         }
        },
        "coloraxis": {
         "colorbar": {
          "title": {
           "text": "prediction"
          }
         },
         "colorscale": [
          [
           0.0,
           "#0d0887"
          ],
          [
           0.1111111111111111,
           "#46039f"
          ],
          [
           0.2222222222222222,
           "#7201a8"
          ],
          [
           0.3333333333333333,
           "#9c179e"
          ],
          [
           0.4444444444444444,
           "#bd3786"
          ],
          [
           0.5555555555555556,
           "#d8576b"
          ],
          [
           0.6666666666666666,
           "#ed7953"
          ],
          [
           0.7777777777777778,
           "#fb9f3a"
          ],
          [
           0.8888888888888888,
           "#fdca26"
          ],
          [
           1.0,
           "#f0f921"
          ]
         ],
         "showscale": false
        },
        "legend": {
         "tracegroupgap": 0
        },
        "margin": {
         "t": 60
        }
       },
       "config": {
        "plotlyServerURL": "https://plot.ly"
       }
      },
      "text/html": [
       "<div>                            <div id=\"0239ada3-3035-4e16-84b5-beeb41f0fecd\" class=\"plotly-graph-div\" style=\"height:525px; width:100%;\"></div>            <script type=\"text/javascript\">                require([\"plotly\"], function(Plotly) {                    window.PLOTLYENV=window.PLOTLYENV || {};                                    if (document.getElementById(\"0239ada3-3035-4e16-84b5-beeb41f0fecd\")) {                    Plotly.newPlot(                        \"0239ada3-3035-4e16-84b5-beeb41f0fecd\",                        [{\"customdata\":[[1.0,\"Taylor Swift\",\"cowboy like me\"],[1.0,\"One Direction\",\"I Would\"],[0.0,\"Taylor Swift\",\"Tell Me Why (Taylor's Version)\"],[1.0,\"Adele\",\"Remedy\"],[1.0,\"Coldplay\",\"A Head Full of Dreams\"],[1.0,\"Taylor Swift, Maren Morris\",\"You All Over Me (feat. Maren Morris) (Taylor's Version) (From The Vault)\"],[1.0,\"Taylor Swift\",\"dorothea\"],[1.0,\"Imagine Dragons\",\"Radioactive\"],[1.0,\"One Direction\",\"Rock Me\"],[1.0,\"Taylor Swift\",\"closure\"],[1.0,\"Eminem, Sia\",\"Beautiful Pain\"],[1.0,\"Taylor Swift\",\"Long Live (Taylor's Version)\"],[0.0,\"Taylor Swift\",\"tolerate it\"],[1.0,\"One Direction\",\"Strong\"],[1.0,\"Taylor Swift\",\"Starlight (Taylor's Version)\"],[1.0,\"Taylor Swift, Maren Morris\",\"You All Over Me (feat. Maren Morris) (Taylor's Version) (From The Vault)\"],[1.0,\"Rihanna\",\"California King Bed\"],[0.0,\"Ed Sheeran, Andrea Bocelli\",\"Perfect Symphony (Ed Sheeran & Andrea Bocelli)\"],[1.0,\"Taylor Swift\",\"22 (Taylor's Version)\"],[0.0,\"Taylor Swift\",\"betty\"],[1.0,\"Rihanna, Britney Spears\",\"S&M Remix\"],[1.0,\"Rihanna\",\"Only Girl (In The World)\"],[0.0,\"Taylor Swift\",\"The Great War\"],[1.0,\"Taylor Swift, Joy Williams, John Paul White\",\"Safe & Sound (feat. Joy Williams and John Paul White) (Taylor's Version)\"],[1.0,\"One Direction\",\"More Than This\"],[1.0,\"Rihanna\",\"Sex With Me\"],[1.0,\"Rihanna\",\"Te Amo\"],[1.0,\"Taylor Swift\",\"Speak Now (Taylor's Version)\"],[0.0,\"Coldplay\",\"Hymn for the Weekend\"],[0.0,\"Taylor Swift\",\"Better Man (Taylor's Version) (From The Vault)\"],[0.0,\"Rihanna\",\"Diamonds\"],[0.0,\"Taylor Swift\",\"tolerate it\"],[0.0,\"Taylor Swift, Bon Iver\",\"evermore (feat. Bon Iver)\"],[1.0,\"Backstreet Boys\",\"The One\"],[1.0,\"Eminem, Lil Wayne\",\"No Love\"],[1.0,\"Taylor Swift\",\"it's time to go - bonus track\"],[1.0,\"Taylor Swift\",\"the last great american dynasty\"],[1.0,\"One Direction\",\"C'mon, C'mon\"],[1.0,\"Taylor Swift\",\"This Love (Taylor's Version)\"],[1.0,\"One Direction\",\"One Thing\"],[1.0,\"Taylor Swift\",\"closure\"],[1.0,\"Coldplay\",\"Charlie Brown\"],[1.0,\"Rihanna\",\"You Da One\"],[1.0,\"Taylor Swift\",\"I Can See You (Taylor's Version) (From The Vault)\"],[1.0,\"Ed Sheeran\",\"How Would You Feel (Paean)\"],[1.0,\"One Direction\",\"Magic\"],[1.0,\"Eminem, Rihanna\",\"Love The Way You Lie\"],[1.0,\"Ed Sheeran\",\"Thinking out Loud\"],[0.0,\"Taylor Swift\",\"ivy\"],[1.0,\"Ed Sheeran\",\"Shape of You\"],[0.0,\"One Direction\",\"Last First Kiss\"],[1.0,\"Taylor Swift\",\"Blank Space (Taylor's Version)\"],[1.0,\"OneRepublic\",\"Good Life\"],[0.0,\"Taylor Swift\",\"seven\"],[1.0,\"Taylor Swift\",\"Welcome To New York (Taylor's Version)\"],[1.0,\"The Chainsmokers, Coldplay\",\"Something Just Like This\"],[0.0,\"Adele\",\"Skyfall\"],[1.0,\"Ed Sheeran\",\"Bloodstream\"],[1.0,\"Taylor Swift\",\"Bad Blood (Taylor's Version)\"],[1.0,\"One Direction\",\"Story of My Life\"],[1.0,\"Rihanna\",\"Man Down\"],[0.0,\"Taylor Swift\",\"Cruel Summer - Live from TS | The Eras Tour\"],[1.0,\"Taylor Swift\",\"Mr. Perfectly Fine (Taylor's Version) (From The Vault)\"],[1.0,\"Rihanna, Mikky Ekko\",\"Stay\"],[1.0,\"One Direction\",\"Best Song Ever\"],[1.0,\"Ed Sheeran, Khalid\",\"Beautiful People (feat. Khalid)\"],[1.0,\"Taylor Swift\",\"champagne problems\"],[1.0,\"Ed Sheeran, Stormzy\",\"Take Me Back to London (feat. Stormzy)\"],[1.0,\"Taylor Swift\",\"Suburban Legends (Taylor's Version) (From The Vault)\"],[0.0,\"Taylor Swift\",\"All Too Well (Sad Girl Autumn Version) - Recorded at Long Pond Studios\"],[1.0,\"Taylor Swift\",\"If This Was A Movie (Taylor's Version)\"],[0.0,\"Taylor Swift\",\"Fifteen (Taylor's Version)\"],[1.0,\"Taylor Swift\",\"Sweet Nothing\"],[0.0,\"Taylor Swift\",\"Dear Reader\"],[1.0,\"Taylor Swift\",\"We Are Never Ever Getting Back Together (Taylor's Version)\"],[1.0,\"Taylor Swift\",\"Question...?\"],[1.0,\"Taylor Swift\",\"Anti-Hero\"],[1.0,\"One Direction\",\"Up All Night\"],[1.0,\"Rihanna\",\"Lift Me Up - From Black Panther: Wakanda Forever - Music From and Inspired By\"],[1.0,\"Rihanna\",\"Desperado\"],[1.0,\"Adele\",\"All I Ask\"],[1.0,\"One Direction\",\"Midnight Memories\"],[1.0,\"Rihanna\",\"Pour It Up\"],[1.0,\"Backstreet Boys\",\"Show Me the Meaning of Being Lonely\"],[1.0,\"Taylor Swift\",\"The Way I Loved You (Taylor's Version)\"],[1.0,\"Coldplay\",\"Paradise\"],[0.0,\"Taylor Swift\",\"Style (Taylor's Version)\"],[1.0,\"Taylor Swift\",\"my tears ricochet\"],[1.0,\"Taylor Swift\",\"Love Story (Taylor's Version)\"],[0.0,\"Taylor Swift\",\"Labyrinth\"],[1.0,\"Taylor Swift\",\"Forever & Always (Piano Version) (Taylor's Version)\"],[1.0,\"Rihanna\",\"Dancing In The Dark - From The \\\"Home\\\" Soundtrack\"],[0.0,\"Taylor Swift, The National\",\"coney island (feat. The National)\"],[1.0,\"Taylor Swift\",\"The Very First Night (Taylor's Version) (From The Vault)\"],[0.0,\"Taylor Swift, HAIM\",\"no body, no crime (feat. HAIM)\"],[1.0,\"Taylor Swift\",\"Hey Stephen (Taylor's Version)\"],[1.0,\"One Direction\",\"Half a Heart\"],[0.0,\"One Direction\",\"Over Again\"],[0.0,\"Taylor Swift, Bon Iver\",\"evermore (feat. Bon Iver)\"],[1.0,\"Ed Sheeran\",\"Don't\"],[1.0,\"Taylor Swift, LP Giobbi\",\"Cruel Summer - LP Giobbi Remix\"],[0.0,\"Taylor Swift\",\"betty\"],[1.0,\"Ed Sheeran\",\"I'm a Mess\"],[1.0,\"Taylor Swift, Chris Stapleton\",\"I Bet You Think About Me (feat. Chris Stapleton) (Taylor's Version) (From The Vault)\"],[1.0,\"Taylor Swift\",\"champagne problems\"],[1.0,\"The Chainsmokers\",\"Paris\"],[0.0,\"Taylor Swift\",\"The Great War\"],[1.0,\"Taylor Swift\",\"You're On Your Own, Kid\"],[1.0,\"Taylor Swift\",\"White Horse (Taylor's Version)\"],[1.0,\"OneRepublic\",\"All The Right Moves\"],[0.0,\"OneRepublic\",\"Stop And Stare\"],[1.0,\"Taylor Swift\",\"the lakes - bonus track\"],[0.0,\"Taylor Swift\",\"willow\"],[0.0,\"Ed Sheeran\",\"Happier\"],[1.0,\"Rihanna\",\"James Joint\"],[1.0,\"Taylor Swift, Lana Del Rey\",\"Snow On The Beach (feat. Lana Del Rey)\"],[0.0,\"Taylor Swift\",\"You Are In Love (Taylor's Version)\"],[1.0,\"Taylor Swift\",\"Vigilante Shit\"],[1.0,\"Avicii\",\"Wake Me Up\"],[1.0,\"Ed Sheeran, Chris Stapleton, Bruno Mars\",\"BLOW (with Chris Stapleton & Bruno Mars)\"],[1.0,\"Taylor Swift, Ice Spice\",\"Karma (feat. Ice Spice)\"],[1.0,\"Taylor Swift\",\"Is It Over Now? (Taylor's Version) (From The Vault)\"],[1.0,\"Taylor Swift, Phoebe Bridgers\",\"Nothing New (feat. Phoebe Bridgers) (Taylor's Version) (From The Vault)\"],[0.0,\"Adele\",\"Water Under the Bridge\"],[1.0,\"Taylor Swift\",\"Midnight Rain\"],[1.0,\"Taylor Swift\",\"Innocent (Taylor's Version)\"],[0.0,\"Taylor Swift\",\"marjorie\"],[0.0,\"Taylor Swift\",\"Dear John (Taylor's Version)\"],[1.0,\"Imagine Dragons\",\"It's Time\"],[1.0,\"Taylor Swift\",\"Message In A Bottle (Taylor's Version) (From The Vault)\"],[1.0,\"Ed Sheeran\",\"What Do I Know?\"],[1.0,\"Avicii\",\"Wake Me Up\"],[1.0,\"Rihanna, Kanye West, Paul McCartney\",\"FourFiveSeconds\"],[1.0,\"Taylor Swift\",\"You're On Your Own, Kid\"],[0.0,\"Adele\",\"Hometown Glory\"],[1.0,\"The Chainsmokers, Coldplay\",\"Something Just Like This\"],[1.0,\"Taylor Swift, Lana Del Rey\",\"Snow On The Beach (feat. More Lana Del Rey)\"],[1.0,\"Ed Sheeran\",\"Galway Girl\"],[1.0,\"Ed Sheeran\",\"Tenerife Sea\"],[1.0,\"Taylor Swift\",\"This Love (Taylor's Version)\"],[1.0,\"One Direction\",\"They Don't Know About Us\"],[1.0,\"Taylor Swift\",\"Haunted (Taylor's Version)\"],[1.0,\"Rihanna, Chris Brown\",\"Nobody's Business\"],[1.0,\"Coldplay\",\"A Sky Full of Stars\"],[1.0,\"Taylor Swift\",\"How You Get The Girl (Taylor's Version)\"],[1.0,\"Taylor Swift\",\"Glitch\"],[1.0,\"Ed Sheeran\",\"Castle on the Hill\"],[1.0,\"Taylor Swift\",\"Now That We Don't Talk (Taylor's Version) (From The Vault)\"],[0.0,\"Taylor Swift\",\"Bigger Than The Whole Sky\"],[1.0,\"Taylor Swift\",\"mad woman\"],[1.0,\"Eminem, Rihanna\",\"The Monster\"],[1.0,\"Avicii\",\"You Make Me\"],[1.0,\"Ed Sheeran, Ella Mai\",\"Put It All on Me (feat. Ella Mai)\"],[1.0,\"Ed Sheeran\",\"Sing\"],[1.0,\"Rihanna, SZA\",\"Consideration\"],[0.0,\"Taylor Swift, Keith Urban\",\"That's When (feat. Keith Urban) (Taylor's Version) (From The Vault)\"],[1.0,\"Eminem\",\"Cinderella Man\"],[1.0,\"Taylor Swift\",\"Is It Over Now? (Taylor's Version) (From The Vault)\"],[1.0,\"Taylor Swift\",\"this is me trying\"],[1.0,\"The Chainsmokers\",\"Sick Boy\"],[1.0,\"Avicii, Nicky Romero\",\"I Could Be The One (Avicii Vs. Nicky Romero) - Radio Edit\"],[1.0,\"Taylor Swift\",\"I Knew You Were Trouble (Taylor's Version)\"],[1.0,\"Taylor Swift\",\"this is me trying\"],[1.0,\"Ed Sheeran\",\"Nancy Mulligan\"],[1.0,\"Taylor Swift\",\"peace\"],[1.0,\"Rihanna\",\"Bitch Better Have My Money\"],[0.0,\"Ed Sheeran\",\"Supermarket Flowers\"],[1.0,\"Eminem\",\"Berzerk\"],[1.0,\"Taylor Swift\",\"dorothea\"],[1.0,\"Avicii, Nicky Romero\",\"I Could Be The One (Avicii Vs. Nicky Romero) - Radio Edit\"],[1.0,\"Ed Sheeran\",\"Baby One More Time - Recorded at Spotify Studios New York City\"],[1.0,\"Adele\",\"Easy On Me\"],[1.0,\"Rihanna\",\"Where Have You Been\"],[1.0,\"Avicii\",\"The Nights\"],[1.0,\"Avicii\",\"Hey Brother\"],[1.0,\"Backstreet Boys\",\"The Call\"],[1.0,\"Taylor Swift\",\"The Lucky One (Taylor's Version)\"],[1.0,\"Taylor Swift\",\"\\\"Slut!\\\" (Taylor's Version) (From The Vault)\"],[1.0,\"Adele\",\"Rumour Has It\"],[1.0,\"Taylor Swift\",\"Forever Winter (Taylor's Version) (From The Vault)\"],[0.0,\"Taylor Swift\",\"Change (Taylor's Version)\"],[1.0,\"Taylor Swift\",\"Clean (Taylor's Version)\"],[1.0,\"Taylor Swift\",\"invisible string\"],[1.0,\"Taylor Swift\",\"Maroon\"],[1.0,\"Taylor Swift, Bon Iver\",\"exile (feat. Bon Iver) - the long pond studio sessions\"],[1.0,\"Adele\",\"Set Fire to the Rain\"],[0.0,\"Taylor Swift\",\"Don't You (Taylor's Version) (From The Vault)\"],[1.0,\"One Direction\",\"Little Things\"],[1.0,\"Taylor Swift\",\"Timeless (Taylor's Version) (From The Vault)\"],[0.0,\"Adele\",\"Strangers By Nature\"],[1.0,\"Rihanna, Drake\",\"What's My Name?\"],[1.0,\"Taylor Swift\",\"Today Was A Fairytale (Taylor's Version)\"],[1.0,\"Taylor Swift\",\"champagne problems\"],[1.0,\"Taylor Swift\",\"Lavender Haze\"],[1.0,\"Avicii\",\"Silhouettes - Original Radio Edit\"],[0.0,\"Taylor Swift\",\"Labyrinth\"],[1.0,\"Adele\",\"Turning Tables\"],[0.0,\"Coldplay, Rihanna\",\"Princess of China\"],[1.0,\"Adele\",\"Send My Love (To Your New Lover)\"],[1.0,\"Taylor Swift\",\"happiness\"],[1.0,\"Rihanna\",\"Same Ol' Mistakes\"],[1.0,\"One Direction\",\"Diana\"],[1.0,\"Taylor Swift\",\"Welcome To New York (Taylor's Version)\"],[1.0,\"Adele\",\"Love Is A Game\"],[1.0,\"Adele\",\"My Little Love\"],[1.0,\"Taylor Swift\",\"I Wish You Would (Taylor's Version)\"],[1.0,\"Taylor Swift\",\"Lavender Haze\"],[0.0,\"One Direction\",\"Gotta Be You\"],[1.0,\"Rihanna, Mikky Ekko\",\"Stay\"],[0.0,\"Taylor Swift, HAIM\",\"no body, no crime (feat. HAIM)\"],[1.0,\"Taylor Swift\",\"Question...?\"],[1.0,\"Avicii\",\"The Days\"],[1.0,\"Taylor Swift\",\"You Belong With Me (Taylor's Version)\"],[1.0,\"Taylor Swift\",\"Midnight Rain\"],[1.0,\"Taylor Swift\",\"Sweet Nothing\"],[1.0,\"Taylor Swift\",\"Sad Beautiful Tragic (Taylor's Version)\"],[1.0,\"Taylor Swift\",\"illicit affairs\"],[1.0,\"Taylor Swift\",\"Say Don't Go (Taylor's Version) (From The Vault)\"],[1.0,\"Taylor Swift\",\"The Other Side Of The Door (Taylor's Version)\"],[1.0,\"Taylor Swift\",\"Bejeweled\"],[1.0,\"Taylor Swift\",\"Eyes Open (Taylor's Version)\"],[1.0,\"Taylor Swift\",\"Vigilante Shit\"],[1.0,\"Ed Sheeran\",\"Hearts Don't Break Around Here\"],[0.0,\"Taylor Swift\",\"All You Had To Do Was Stay (Taylor's Version)\"],[1.0,\"Adele\",\"Chasing Pavements\"],[1.0,\"Taylor Swift\",\"Stay Stay Stay (Taylor's Version)\"],[1.0,\"Taylor Swift\",\"Mastermind\"],[0.0,\"Taylor Swift\",\"marjorie\"],[1.0,\"Taylor Swift\",\"Paris\"],[0.0,\"The Chainsmokers, Kelsea Ballerini\",\"This Feeling\"],[1.0,\"Avicii\",\"Levels - Radio Edit\"],[0.0,\"One Direction\",\"Don't Forget Where You Belong\"],[1.0,\"Taylor Swift\",\"mad woman\"],[1.0,\"Eminem\",\"Rap God\"],[1.0,\"Taylor Swift\",\"I Almost Do (Taylor's Version)\"],[1.0,\"Taylor Swift\",\"State Of Grace (Taylor's Version)\"],[1.0,\"Taylor Swift\",\"We Are Never Ever Getting Back Together (Taylor's Version)\"],[1.0,\"Adele\",\"Easy On Me\"],[0.0,\"Adele\",\"Love In The Dark\"],[1.0,\"Taylor Swift\",\"Now That We Don't Talk (Taylor's Version) (From The Vault)\"],[1.0,\"Taylor Swift\",\"Ronan (Taylor's Version)\"],[1.0,\"Taylor Swift\",\"Wildest Dreams (Taylor's Version)\"],[0.0,\"Taylor Swift, HAIM\",\"no body, no crime (feat. HAIM)\"],[1.0,\"Ed Sheeran\",\"Photograph\"],[1.0,\"Taylor Swift\",\"The Best Day (Taylor's Version)\"],[1.0,\"Coldplay\",\"Up&Up\"],[1.0,\"One Direction\",\"Right Now\"],[1.0,\"Ed Sheeran, Camila Cabello, Cardi B\",\"South of the Border (feat. Camila Cabello & Cardi B)\"],[1.0,\"Taylor Swift\",\"Love Story (Taylor's Version)\"],[1.0,\"Adele\",\"Hold On\"],[1.0,\"Rihanna\",\"Kiss It Better - R3hab Remix\"],[1.0,\"Taylor Swift\",\"Anti-Hero\"],[1.0,\"Rihanna, Future\",\"Loveeeeeee Song\"],[1.0,\"Taylor Swift\",\"Better Than Revenge (Taylor's Version)\"],[0.0,\"Taylor Swift\",\"Carolina - From The Motion Picture \\u201cWhere The Crawdads Sing\\u201d\"],[1.0,\"Taylor Swift\",\"cardigan\"],[1.0,\"Adele\",\"Don't You Remember\"],[1.0,\"Taylor Swift\",\"Superstar (Taylor's Version)\"],[1.0,\"Adele\",\"One And Only\"],[0.0,\"Taylor Swift\",\"Only The Young - Featured in Miss Americana\"],[1.0,\"Taylor Swift\",\"High Infidelity\"],[0.0,\"Imagine Dragons\",\"Demons\"],[1.0,\"Taylor Swift\",\"The Moment I Knew (Taylor's Version)\"],[0.0,\"Coldplay\",\"Always in My Head\"],[1.0,\"Adele\",\"Rolling in the Deep\"],[1.0,\"Taylor Swift\",\"New Romantics (Taylor's Version)\"],[1.0,\"Taylor Swift\",\"hoax\"],[1.0,\"Coldplay\",\"Midnight\"],[1.0,\"Taylor Swift\",\"mirrorball\"],[1.0,\"Avicii\",\"For A Better Day\"],[1.0,\"Taylor Swift\",\"Say Don't Go (Taylor's Version) (From The Vault)\"],[1.0,\"Taylor Swift\",\"Suburban Legends (Taylor's Version) (From The Vault)\"],[1.0,\"Taylor Swift\",\"Clean (Taylor's Version)\"],[1.0,\"Taylor Swift\",\"Paris\"],[1.0,\"Taylor Swift\",\"Vigilante Shit\"],[1.0,\"Taylor Swift\",\"Holy Ground (Taylor's Version)\"],[1.0,\"Taylor Swift\",\"Girl At Home (Taylor's Version)\"],[1.0,\"Taylor Swift\",\"All Too Well (Taylor's Version)\"],[1.0,\"Taylor Swift\",\"Bigger Than The Whole Sky\"],[1.0,\"Imagine Dragons\",\"On Top Of The World\"],[1.0,\"Taylor Swift\",\"Sweet Nothing\"],[1.0,\"Taylor Swift\",\"Never Grow Up (Taylor's Version)\"],[1.0,\"Taylor Swift\",\"peace\"],[0.0,\"Taylor Swift\",\"When Emma Falls in Love (Taylor's Version) (From The Vault)\"],[1.0,\"Imagine Dragons\",\"It's Time\"],[1.0,\"Taylor Swift\",\"'tis the damn season\"],[1.0,\"Taylor Swift\",\"Would've, Could've, Should've\"],[0.0,\"Taylor Swift, The National\",\"coney island (feat. The National)\"],[1.0,\"Taylor Swift\",\"Untouchable (Taylor's Version)\"],[1.0,\"Taylor Swift\",\"Glitch\"],[1.0,\"Taylor Swift\",\"Mr. Perfectly Fine (Taylor's Version) (From The Vault)\"],[1.0,\"Taylor Swift\",\"Lavender Haze\"],[1.0,\"Taylor Swift\",\"cardigan\"],[0.0,\"Taylor Swift\",\"Come Back...Be Here (Taylor's Version)\"],[1.0,\"Avicii\",\"Levels - Original Version\"],[0.0,\"Taylor Swift\",\"Enchanted (Taylor's Version)\"],[1.0,\"Taylor Swift, Kungs\",\"Anti-Hero - Kungs Remix\"],[0.0,\"Taylor Swift\",\"seven\"],[1.0,\"Rihanna, JAY-Z\",\"Talk That Talk\"],[0.0,\"Rihanna\",\"Diamonds\"],[0.0,\"Taylor Swift\",\"august\"],[0.0,\"Taylor Swift\",\"Out Of The Woods (Taylor's Version)\"],[1.0,\"Taylor Swift\",\"right where you left me - bonus track\"],[1.0,\"Adele\",\"To Be Loved\"],[1.0,\"OneRepublic\",\"Apologize\"],[1.0,\"Taylor Swift\",\"Sparks Fly (Taylor's Version)\"],[1.0,\"Taylor Swift\",\"Bad Blood (Taylor's Version)\"],[1.0,\"Taylor Swift\",\"Superman (Taylor's Version)\"],[1.0,\"Avicii\",\"Addicted To You\"],[1.0,\"Avicii\",\"Waiting For Love\"],[1.0,\"Taylor Swift\",\"You're Not Sorry (Taylor's Version)\"],[1.0,\"Taylor Swift\",\"\\\"Slut!\\\" (Taylor's Version) (From The Vault)\"],[1.0,\"Taylor Swift\",\"my tears ricochet\"],[0.0,\"Taylor Swift\",\"august\"],[1.0,\"Imagine Dragons\",\"Radioactive\"],[1.0,\"Taylor Swift\",\"Mastermind\"],[0.0,\"Taylor Swift\",\"gold rush\"],[1.0,\"Coldplay\",\"Viva La Vida - Live from Spotify London\"],[1.0,\"Taylor Swift\",\"long story short\"],[1.0,\"Taylor Swift\",\"You Belong With Me (Taylor's Version)\"],[1.0,\"OneRepublic\",\"Everybody Loves Me\"],[0.0,\"Taylor Swift\",\"Cornelia Street - Live From Paris\"],[1.0,\"Ed Sheeran & Justin Bieber, Justin Bieber\",\"I Don't Care (with Justin Bieber)\"],[1.0,\"Rihanna\",\"Kiss It Better\"],[1.0,\"One Direction\",\"Kiss You\"],[1.0,\"Taylor Swift\",\"Question...?\"],[1.0,\"One Direction\",\"Happily\"],[1.0,\"Taylor Swift\",\"Karma\"],[1.0,\"Taylor Swift\",\"Hits Different\"],[1.0,\"Taylor Swift\",\"Bye Bye Baby (Taylor's Version) (From The Vault)\"],[0.0,\"Adele\",\"Oh My God\"],[1.0,\"Ed Sheeran\",\"I See Fire\"],[1.0,\"Ed Sheeran\",\"New Man\"],[0.0,\"Ed Sheeran, Beyonc\\u00e9\",\"Perfect Duet (Ed Sheeran & Beyonc\\u00e9)\"],[1.0,\"Backstreet Boys\",\"I Want It That Way\"],[1.0,\"Adele\",\"Someone Like You\"],[0.0,\"Taylor Swift, Bon Iver\",\"exile (feat. Bon Iver)\"],[1.0,\"Taylor Swift\",\"Treacherous (Taylor's Version)\"],[1.0,\"Taylor Swift\",\"Ours (Taylor's Version)\"],[1.0,\"Coldplay\",\"Magic\"],[1.0,\"The Chainsmokers, Halsey\",\"Closer\"],[1.0,\"Taylor Swift\",\"Would've, Could've, Should've\"],[1.0,\"Rihanna, Calvin Harris\",\"We Found Love\"],[1.0,\"Taylor Swift\",\"We Were Happy (Taylor's Version) (From The Vault)\"],[1.0,\"Taylor Swift\",\"You're Losing Me (From The Vault)\"],[1.0,\"Ed Sheeran, Eminem, 50 Cent\",\"Remember The Name (feat. Eminem & 50 Cent)\"],[0.0,\"Rihanna\",\"Russian Roulette\"],[1.0,\"Taylor Swift\",\"cowboy like me\"],[1.0,\"Taylor Swift\",\"The Story Of Us (Taylor's Version)\"],[1.0,\"Taylor Swift\",\"Karma\"],[1.0,\"Taylor Swift\",\"I Know Places (Taylor's Version)\"],[0.0,\"Taylor Swift\",\"willow\"],[1.0,\"Eminem\",\"Space Bound\"],[1.0,\"Taylor Swift\",\"Shake It Off (Taylor's Version)\"],[1.0,\"Taylor Swift\",\"dorothea\"],[1.0,\"Coldplay\",\"Adventure of a Lifetime\"],[1.0,\"Taylor Swift\",\"Maroon\"],[0.0,\"Taylor Swift\",\"mirrorball\"],[1.0,\"Taylor Swift\",\"Wonderland (Taylor's Version)\"],[1.0,\"Backstreet Boys\",\"Larger Than Life\"],[1.0,\"Coldplay\",\"O\"],[1.0,\"Taylor Swift\",\"Bejeweled\"],[1.0,\"Taylor Swift, Hayley Williams\",\"Castles Crumbling (feat. Hayley Williams) (Taylor's Version) (From The Vault)\"],[1.0,\"The Chainsmokers, Winona Oak\",\"Hope\"],[1.0,\"Ed Sheeran\",\"I Don't Care - Acoustic\"],[1.0,\"Ed Sheeran\",\"Barcelona\"],[1.0,\"Taylor Swift\",\"Lavender Haze - Acoustic Version\"],[1.0,\"Taylor Swift\",\"All Too Well (Taylor's Version)\"],[1.0,\"Taylor Swift\",\"Mean (Taylor's Version)\"],[1.0,\"Taylor Swift\",\"long story short\"],[1.0,\"Ed Sheeran\",\"Dive\"],[1.0,\"Taylor Swift\",\"illicit affairs\"],[0.0,\"Taylor Swift\",\"Style (Taylor's Version)\"],[1.0,\"Taylor Swift\",\"Paris\"],[1.0,\"Taylor Swift\",\"This Love (Taylor's Version)\"],[1.0,\"Adele\",\"All Night Parking (with Erroll Garner) Interlude\"],[1.0,\"Taylor Swift\",\"the last great american dynasty\"],[0.0,\"Adele\",\"Make You Feel My Love\"],[1.0,\"One Direction\",\"What Makes You Beautiful\"],[1.0,\"OneRepublic\",\"I Lived\"],[0.0,\"Imagine Dragons\",\"Demons\"],[1.0,\"Rihanna, Mikky Ekko\",\"Stay\"],[1.0,\"Eminem\",\"Survival\"],[1.0,\"Taylor Swift\",\"I Knew You Were Trouble (Taylor's Version)\"],[0.0,\"Rihanna\",\"Woo\"],[1.0,\"One Direction\",\"Live While We're Young\"],[1.0,\"Taylor Swift, Lana Del Rey\",\"Snow On The Beach (feat. Lana Del Rey)\"],[1.0,\"Ed Sheeran\",\"Photograph\"],[1.0,\"Adele\",\"Million Years Ago\"],[1.0,\"Ed Sheeran, Khalid\",\"Beautiful People (feat. Khalid)\"],[1.0,\"Taylor Swift\",\"Jump Then Fall (Taylor's Version)\"],[1.0,\"Rihanna\",\"Higher\"],[1.0,\"Taylor Swift\",\"the 1\"],[1.0,\"Taylor Swift\",\"I Know Places (Taylor's Version)\"],[1.0,\"Taylor Swift\",\"Would've, Could've, Should've\"],[1.0,\"Taylor Swift\",\"happiness\"],[1.0,\"Taylor Swift\",\"hoax\"],[0.0,\"Taylor Swift, Gary Lightbody\",\"The Last Time (feat. Gary Lightbody of Snow Patrol) (Taylor's Version)\"],[1.0,\"Taylor Swift\",\"Anti-Hero\"],[0.0,\"Taylor Swift\",\"Last Kiss (Taylor's Version)\"],[1.0,\"Taylor Swift, Fall Out Boy\",\"Electric Touch (feat. Fall Out Boy) (Taylor's Version) (From The Vault)\"],[1.0,\"Taylor Swift\",\"Maroon\"],[1.0,\"Rihanna\",\"Needed Me\"],[1.0,\"Taylor Swift\",\"Wildest Dreams (Taylor's Version)\"],[1.0,\"Rihanna, Calvin Harris\",\"We Found Love\"],[1.0,\"Rihanna\",\"Where Have You Been\"],[0.0,\"Taylor Swift\",\"Labyrinth\"],[0.0,\"Taylor Swift, Bon Iver\",\"evermore (feat. Bon Iver)\"],[1.0,\"Taylor Swift\",\"Karma\"],[1.0,\"Taylor Swift, Kendrick Lamar\",\"Bad Blood (feat. Kendrick Lamar) (Taylor's Version)\"],[1.0,\"Adele\",\"Can I Get It\"],[1.0,\"Ed Sheeran, Travis Scott\",\"Antisocial (with Travis Scott)\"],[1.0,\"Taylor Swift\",\"How You Get The Girl (Taylor's Version)\"],[0.0,\"Taylor Swift\",\"willow\"],[1.0,\"Taylor Swift\",\"Back To December (Taylor's Version)\"],[1.0,\"Taylor Swift\",\"All Too Well (10 Minute Version) (Taylor's Version) (From The Vault)\"],[1.0,\"Taylor Swift, Lana Del Rey\",\"Snow On The Beach (feat. Lana Del Rey)\"],[0.0,\"Coldplay\",\"Birds\"],[1.0,\"The Chainsmokers, Phoebe Ryan\",\"All We Know\"],[0.0,\"Taylor Swift\",\"the lakes - original version\"],[1.0,\"Eminem\",\"Not Afraid\"],[0.0,\"Taylor Swift\",\"epiphany\"],[0.0,\"Rihanna\",\"Diamonds\"],[1.0,\"The Chainsmokers\",\"#SELFIE\"],[0.0,\"Taylor Swift, Bon Iver\",\"exile (feat. Bon Iver)\"],[1.0,\"One Direction\",\"You & I\"],[0.0,\"Taylor Swift\",\"You Are In Love (Taylor's Version)\"],[1.0,\"Ed Sheeran\",\"Bibia Be Ye Ye\"],[1.0,\"Taylor Swift\",\"High Infidelity\"],[1.0,\"Taylor Swift\",\"invisible string\"],[1.0,\"Taylor Swift, Ed Sheeran\",\"Run (feat. Ed Sheeran) (Taylor's Version) (From The Vault)\"],[0.0,\"Coldplay\",\"Every Teardrop Is a Waterfall\"],[1.0,\"Taylor Swift\",\"Babe (Taylor's Version) (From The Vault)\"],[1.0,\"Rihanna\",\"Dancing In The Dark - From The \\\"Home\\\" Soundtrack\"],[1.0,\"The Chainsmokers, Daya\",\"Don't Let Me Down\"],[1.0,\"Taylor Swift\",\"'tis the damn season\"],[0.0,\"Taylor Swift\",\"Dear Reader\"],[0.0,\"Taylor Swift\",\"All You Had To Do Was Stay (Taylor's Version)\"],[1.0,\"Ed Sheeran\",\"Thinking out Loud\"],[1.0,\"Taylor Swift\",\"Wildest Dreams (Taylor's Version)\"],[1.0,\"One Direction\",\"One Way or Another (Teenage Kicks)\"],[1.0,\"Taylor Swift\",\"Come In With The Rain (Taylor's Version)\"],[1.0,\"Taylor Swift\",\"Midnight Rain\"],[1.0,\"Adele\",\"Cry Your Heart Out\"],[0.0,\"Taylor Swift, Ed Sheeran\",\"Everything Has Changed (feat. Ed Sheeran) (Taylor's Version)\"],[1.0,\"Rihanna\",\"S&M\"],[1.0,\"OneRepublic\",\"Counting Stars\"],[1.0,\"Taylor Swift\",\"Bigger Than The Whole Sky\"],[1.0,\"Rihanna, Calvin Harris\",\"We Found Love\"],[1.0,\"Taylor Swift\",\"Red (Taylor's Version)\"],[0.0,\"Taylor Swift\",\"The Great War\"],[0.0,\"The Chainsmokers, Daya, ILLENIUM\",\"Don't Let Me Down (feat. Daya) - Illenium Remix\"],[0.0,\"Taylor Swift\",\"marjorie\"],[1.0,\"The Chainsmokers, ROZES\",\"Roses\"],[1.0,\"Rihanna\",\"Lift Me Up - From Black Panther: Wakanda Forever - Music From and Inspired By\"],[0.0,\"Backstreet Boys\",\"Shape of My Heart\"],[0.0,\"Taylor Swift\",\"the lakes - bonus track\"],[1.0,\"Taylor Swift\",\"Mine (Taylor's Version)\"],[1.0,\"Rihanna\",\"Rude Boy\"],[0.0,\"Taylor Swift\",\"Out Of The Woods (Taylor's Version)\"],[1.0,\"Backstreet Boys\",\"As Long as You Love Me\"],[1.0,\"The Chainsmokers\",\"Paris\"],[1.0,\"Ed Sheeran & Justin Bieber, Justin Bieber\",\"I Don't Care (with Justin Bieber)\"],[1.0,\"Taylor Swift\",\"22 (Taylor's Version)\"],[1.0,\"Taylor Swift\",\"Blank Space (Taylor's Version)\"],[1.0,\"Taylor Swift\",\"I Wish You Would (Taylor's Version)\"],[0.0,\"Ed Sheeran\",\"Perfect\"],[0.0,\"Taylor Swift\",\"Fearless (Taylor's Version)\"],[1.0,\"Rihanna, Drake\",\"Work\"],[0.0,\"Adele\",\"I Drink Wine\"],[1.0,\"Taylor Swift\",\"Mastermind\"],[1.0,\"Taylor Swift\",\"long story short\"],[1.0,\"Taylor Swift\",\"Shake It Off (Taylor's Version)\"],[1.0,\"Taylor Swift\",\"State Of Grace (Acoustic Version) (Taylor's Version)\"],[1.0,\"Taylor Swift\",\"You're On Your Own, Kid\"]],\"hovertemplate\":\"artist_name=%{customdata[1]}\\u003cbr\\u003etrack_name=%{customdata[2]}\\u003cextra\\u003e\\u003c\\u002fextra\\u003e\",\"legendgroup\":\"\",\"marker\":{\"color\":[1.0,1.0,0.0,1.0,1.0,1.0,1.0,1.0,1.0,1.0,1.0,1.0,0.0,1.0,1.0,1.0,1.0,0.0,1.0,0.0,1.0,1.0,0.0,1.0,1.0,1.0,1.0,1.0,0.0,0.0,0.0,0.0,0.0,1.0,1.0,1.0,1.0,1.0,1.0,1.0,1.0,1.0,1.0,1.0,1.0,1.0,1.0,1.0,0.0,1.0,0.0,1.0,1.0,0.0,1.0,1.0,0.0,1.0,1.0,1.0,1.0,0.0,1.0,1.0,1.0,1.0,1.0,1.0,1.0,0.0,1.0,0.0,1.0,0.0,1.0,1.0,1.0,1.0,1.0,1.0,1.0,1.0,1.0,1.0,1.0,1.0,0.0,1.0,1.0,0.0,1.0,1.0,0.0,1.0,0.0,1.0,1.0,0.0,0.0,1.0,1.0,0.0,1.0,1.0,1.0,1.0,0.0,1.0,1.0,1.0,0.0,1.0,0.0,0.0,1.0,1.0,0.0,1.0,1.0,1.0,1.0,1.0,1.0,0.0,1.0,1.0,0.0,0.0,1.0,1.0,1.0,1.0,1.0,1.0,0.0,1.0,1.0,1.0,1.0,1.0,1.0,1.0,1.0,1.0,1.0,1.0,1.0,1.0,0.0,1.0,1.0,1.0,1.0,1.0,1.0,0.0,1.0,1.0,1.0,1.0,1.0,1.0,1.0,1.0,1.0,1.0,0.0,1.0,1.0,1.0,1.0,1.0,1.0,1.0,1.0,1.0,1.0,1.0,1.0,1.0,0.0,1.0,1.0,1.0,1.0,1.0,0.0,1.0,1.0,0.0,1.0,1.0,1.0,1.0,1.0,0.0,1.0,0.0,1.0,1.0,1.0,1.0,1.0,1.0,1.0,1.0,1.0,0.0,1.0,0.0,1.0,1.0,1.0,1.0,1.0,1.0,1.0,1.0,1.0,1.0,1.0,1.0,1.0,0.0,1.0,1.0,1.0,0.0,1.0,0.0,1.0,0.0,1.0,1.0,1.0,1.0,1.0,1.0,0.0,1.0,1.0,1.0,0.0,1.0,1.0,1.0,1.0,1.0,1.0,1.0,1.0,1.0,1.0,1.0,0.0,1.0,1.0,1.0,1.0,0.0,1.0,0.0,1.0,0.0,1.0,1.0,1.0,1.0,1.0,1.0,1.0,1.0,1.0,1.0,1.0,1.0,1.0,1.0,1.0,1.0,1.0,1.0,1.0,0.0,1.0,1.0,1.0,0.0,1.0,1.0,1.0,1.0,1.0,0.0,1.0,0.0,1.0,0.0,1.0,0.0,0.0,0.0,1.0,1.0,1.0,1.0,1.0,1.0,1.0,1.0,1.0,1.0,1.0,0.0,1.0,1.0,0.0,1.0,1.0,1.0,1.0,0.0,1.0,1.0,1.0,1.0,1.0,1.0,1.0,1.0,0.0,1.0,1.0,0.0,1.0,1.0,0.0,1.0,1.0,1.0,1.0,1.0,1.0,1.0,1.0,1.0,0.0,1.0,1.0,1.0,1.0,0.0,1.0,1.0,1.0,1.0,1.0,0.0,1.0,1.0,1.0,1.0,1.0,1.0,1.0,1.0,1.0,1.0,1.0,1.0,1.0,1.0,0.0,1.0,1.0,1.0,1.0,0.0,1.0,1.0,0.0,1.0,1.0,1.0,0.0,1.0,1.0,1.0,1.0,1.0,1.0,1.0,1.0,1.0,1.0,1.0,1.0,0.0,1.0,0.0,1.0,1.0,1.0,1.0,1.0,1.0,0.0,0.0,1.0,1.0,1.0,1.0,1.0,0.0,1.0,1.0,1.0,0.0,1.0,0.0,1.0,0.0,0.0,1.0,0.0,1.0,0.0,1.0,1.0,1.0,1.0,0.0,1.0,1.0,1.0,1.0,0.0,0.0,1.0,1.0,1.0,1.0,1.0,1.0,0.0,1.0,1.0,1.0,1.0,1.0,0.0,0.0,0.0,1.0,1.0,0.0,0.0,1.0,1.0,0.0,1.0,1.0,1.0,1.0,1.0,1.0,0.0,0.0,1.0,0.0,1.0,1.0,1.0,1.0,1.0],\"coloraxis\":\"coloraxis\",\"symbol\":\"circle\"},\"mode\":\"markers\",\"name\":\"\",\"orientation\":\"v\",\"showlegend\":false,\"x\":[127.967,126.471,100.023,162.355,122.984,142.731,119.966,136.245,168.021,151.884,165.369,203.89,74.952,115.013,126.014,142.893,169.899,95.156,103.984,95.939,127.961,125.911,96.016,144.751,151.809,112.049,171.917,118.995,90.027,73.942,91.972,74.952,120.94,110.031,129.473,151.923,147.922,142.896,144.022,126.999,151.884,137.978,127.05,123.044,139.979,134.024,86.989,78.998,88.856,95.977,82.085,96.012,94.988,94.926,116.98,103.019,75.881,91.207,169.943,121.07,155.887,83.178,135.942,111.893,118.491,92.979,171.346,138.058,118.036,93.009,147.854,95.466,176.655,107.747,172.014,108.989,97.008,139.022,177.115,94.384,141.916,156.128,134.002,167.998,161.032,139.631,94.971,129.947,119.082,110.014,118.753,115.005,107.895,121.009,79.015,115.99,155.954,72.595,125.177,95.049,122.99,95.946,138.754,149.654,171.319,99.99,96.025,120.044,185.262,146.024,92.474,179.947,81.112,89.792,134.202,109.957,84.68,79.962,124.084,92.469,89.977,100.012,101.96,94.963,140.15,133.627,96.103,119.294,105.009,115.915,115.092,124.08,205.846,120.041,122.456,102.996,109.846,99.943,121.876,144.071,147.917,162.201,109.233,124.97,119.997,140.845,135.007,110.013,82.951,141.916,110.049,124.99,101.007,119.988,144.975,90.201,85.918,99.994,135.886,89.996,127.946,154.008,135.882,101.993,150.072,102.99,89.749,95.084,119.953,127.946,104.511,141.981,127.963,125.983,125.014,104.196,117.889,77.983,120.052,116.012,95.999,103.96,83.433,108.075,151.956,107.993,101.934,110.076,142.883,68.004,99.954,158.162,171.319,96.985,128.074,109.993,155.476,85.014,164.069,122.079,151.777,171.96,116.998,183.793,151.865,118.026,97.043,84.969,111.893,79.015,108.978,127.059,130.033,139.966,175.917,130.059,119.845,109.95,163.936,164.0,137.048,79.846,105.177,97.057,80.03,100.02,125.977,96.103,110.947,105.049,126.04,92.014,141.898,148.14,145.88,129.958,172.014,141.981,109.821,109.994,116.04,140.061,79.011,107.989,125.0,163.989,120.008,97.989,119.054,165.902,102.023,96.953,119.981,145.863,115.851,130.045,115.025,171.862,154.974,93.516,87.862,89.938,125.952,97.546,104.948,121.978,118.84,126.974,110.107,135.002,109.946,118.048,103.955,110.962,79.996,156.894,125.089,185.972,165.71,100.048,176.747,125.058,150.044,78.133,105.009,145.916,157.984,107.895,200.391,140.864,135.937,97.038,130.033,79.846,125.99,81.907,115.997,94.955,83.999,91.993,89.567,92.021,137.915,170.425,118.008,114.991,169.971,131.93,128.031,127.999,133.873,155.875,129.86,89.937,136.245,125.934,112.05,138.203,157.895,130.033,170.04,97.085,101.956,95.0,90.014,108.943,117.0,90.034,106.026,80.132,88.098,76.034,94.026,94.992,99.039,135.187,75.602,109.984,159.813,93.457,95.01,157.96,127.986,106.007,102.984,91.046,80.051,127.967,139.846,90.024,160.027,80.961,142.002,160.058,119.966,111.995,108.055,110.137,183.811,108.037,136.998,164.003,147.803,104.941,94.058,99.975,97.075,185.972,163.874,157.893,134.943,119.58,94.868,110.963,144.039,127.989,147.991,65.18,124.99,119.987,89.938,111.893,176.384,154.008,115.004,126.039,110.007,107.989,105.929,92.977,160.111,153.199,139.883,160.039,157.979,122.079,118.819,94.05,96.935,79.401,131.073,108.034,110.898,139.985,127.985,127.963,110.039,125.177,90.02,170.091,97.985,151.957,120.027,81.112,142.063,93.023,110.014,105.009,90.0,90.053,114.635,93.933,91.972,127.956,75.938,130.993,84.948,127.067,176.082,83.455,125.039,117.98,167.844,115.003,159.803,145.916,107.601,96.997,78.998,140.061,162.131,143.929,139.865,125.064,79.918,127.972,122.016,165.523,127.986,125.047,96.009,79.648,96.103,100.001,177.115,96.102,89.846,121.08,173.906,91.992,98.219,99.999,101.956,103.984,96.057,118.009,95.05,100.118,91.974,115.389,125.966,157.895,160.055,208.918,120.044],\"xaxis\":\"x\",\"y\":[0.604,0.72,0.578,0.405,0.449,0.589,0.605,0.448,0.506,0.689,0.685,0.375,0.316,0.741,0.628,0.599,0.452,0.544,0.642,0.593,0.824,0.789,0.573,0.41,0.498,0.58,0.567,0.727,0.491,0.473,0.564,0.316,0.395,0.663,0.522,0.592,0.686,0.638,0.474,0.713,0.689,0.43,0.702,0.694,0.617,0.643,0.749,0.781,0.515,0.825,0.538,0.737,0.634,0.596,0.761,0.617,0.346,0.66,0.619,0.6,0.479,0.278,0.66,0.621,0.652,0.64,0.463,0.885,0.701,0.585,0.472,0.559,0.337,0.562,0.567,0.751,0.637,0.606,0.247,0.685,0.591,0.432,0.785,0.63,0.402,0.449,0.575,0.456,0.626,0.406,0.546,0.795,0.537,0.678,0.546,0.788,0.515,0.373,0.39,0.806,0.731,0.595,0.697,0.391,0.462,0.653,0.57,0.694,0.423,0.529,0.492,0.313,0.392,0.522,0.399,0.663,0.363,0.867,0.532,0.631,0.615,0.596,0.606,0.59,0.654,0.522,0.535,0.419,0.656,0.622,0.838,0.532,0.582,0.696,0.436,0.607,0.664,0.624,0.53,0.471,0.514,0.427,0.741,0.545,0.758,0.677,0.461,0.8,0.48,0.592,0.781,0.586,0.627,0.818,0.883,0.588,0.679,0.595,0.515,0.663,0.509,0.584,0.511,0.68,0.644,0.781,0.589,0.739,0.607,0.509,0.792,0.604,0.719,0.527,0.545,0.696,0.686,0.629,0.612,0.611,0.499,0.771,0.653,0.637,0.359,0.603,0.563,0.709,0.624,0.387,0.689,0.482,0.462,0.733,0.605,0.493,0.353,0.42,0.688,0.559,0.44,0.549,0.757,0.269,0.339,0.669,0.735,0.495,0.621,0.546,0.741,0.59,0.632,0.636,0.335,0.601,0.559,0.633,0.432,0.695,0.566,0.798,0.604,0.586,0.616,0.693,0.661,0.535,0.7,0.575,0.584,0.54,0.593,0.708,0.511,0.594,0.567,0.604,0.331,0.793,0.623,0.581,0.547,0.614,0.642,0.479,0.645,0.857,0.627,0.366,0.73,0.638,0.71,0.496,0.476,0.612,0.644,0.454,0.528,0.56,0.646,0.505,0.636,0.495,0.73,0.649,0.676,0.548,0.553,0.639,0.626,0.699,0.772,0.696,0.87,0.622,0.691,0.44,0.422,0.635,0.334,0.685,0.647,0.474,0.656,0.575,0.488,0.537,0.393,0.675,0.661,0.735,0.613,0.46,0.602,0.505,0.721,0.602,0.694,0.554,0.387,0.545,0.581,0.356,0.593,0.588,0.618,0.533,0.569,0.579,0.506,0.591,0.456,0.532,0.448,0.661,0.512,0.433,0.546,0.632,0.578,0.502,0.798,0.619,0.637,0.751,0.623,0.647,0.672,0.624,0.534,0.633,0.78,0.587,0.689,0.556,0.298,0.645,0.535,0.738,0.748,0.482,0.734,0.609,0.747,0.852,0.48,0.604,0.515,0.649,0.582,0.392,0.668,0.636,0.605,0.638,0.65,0.549,0.462,0.661,0.371,0.7,0.576,0.773,0.706,0.747,0.724,0.44,0.524,0.546,0.761,0.529,0.511,0.691,0.47,0.734,0.688,0.317,0.726,0.593,0.505,0.621,0.459,0.584,0.42,0.663,0.659,0.614,0.72,0.64,0.572,0.292,0.777,0.575,0.483,0.559,0.662,0.502,0.637,0.55,0.547,0.658,0.671,0.589,0.735,0.719,0.487,0.39,0.642,0.602,0.703,0.716,0.754,0.392,0.497,0.631,0.653,0.559,0.662,0.197,0.855,0.317,0.564,0.789,0.31,0.574,0.537,0.738,0.564,0.651,0.61,0.425,0.584,0.795,0.532,0.575,0.475,0.588,0.781,0.583,0.489,0.476,0.643,0.756,0.498,0.769,0.664,0.395,0.734,0.516,0.573,0.428,0.535,0.713,0.247,0.575,0.509,0.646,0.563,0.547,0.775,0.646,0.798,0.642,0.733,0.67,0.599,0.569,0.725,0.437,0.662,0.546,0.632,0.445,0.694],\"yaxis\":\"y\",\"type\":\"scatter\"}],                        {\"template\":{\"data\":{\"histogram2dcontour\":[{\"type\":\"histogram2dcontour\",\"colorbar\":{\"outlinewidth\":0,\"ticks\":\"\"},\"colorscale\":[[0.0,\"#0d0887\"],[0.1111111111111111,\"#46039f\"],[0.2222222222222222,\"#7201a8\"],[0.3333333333333333,\"#9c179e\"],[0.4444444444444444,\"#bd3786\"],[0.5555555555555556,\"#d8576b\"],[0.6666666666666666,\"#ed7953\"],[0.7777777777777778,\"#fb9f3a\"],[0.8888888888888888,\"#fdca26\"],[1.0,\"#f0f921\"]]}],\"choropleth\":[{\"type\":\"choropleth\",\"colorbar\":{\"outlinewidth\":0,\"ticks\":\"\"}}],\"histogram2d\":[{\"type\":\"histogram2d\",\"colorbar\":{\"outlinewidth\":0,\"ticks\":\"\"},\"colorscale\":[[0.0,\"#0d0887\"],[0.1111111111111111,\"#46039f\"],[0.2222222222222222,\"#7201a8\"],[0.3333333333333333,\"#9c179e\"],[0.4444444444444444,\"#bd3786\"],[0.5555555555555556,\"#d8576b\"],[0.6666666666666666,\"#ed7953\"],[0.7777777777777778,\"#fb9f3a\"],[0.8888888888888888,\"#fdca26\"],[1.0,\"#f0f921\"]]}],\"heatmap\":[{\"type\":\"heatmap\",\"colorbar\":{\"outlinewidth\":0,\"ticks\":\"\"},\"colorscale\":[[0.0,\"#0d0887\"],[0.1111111111111111,\"#46039f\"],[0.2222222222222222,\"#7201a8\"],[0.3333333333333333,\"#9c179e\"],[0.4444444444444444,\"#bd3786\"],[0.5555555555555556,\"#d8576b\"],[0.6666666666666666,\"#ed7953\"],[0.7777777777777778,\"#fb9f3a\"],[0.8888888888888888,\"#fdca26\"],[1.0,\"#f0f921\"]]}],\"heatmapgl\":[{\"type\":\"heatmapgl\",\"colorbar\":{\"outlinewidth\":0,\"ticks\":\"\"},\"colorscale\":[[0.0,\"#0d0887\"],[0.1111111111111111,\"#46039f\"],[0.2222222222222222,\"#7201a8\"],[0.3333333333333333,\"#9c179e\"],[0.4444444444444444,\"#bd3786\"],[0.5555555555555556,\"#d8576b\"],[0.6666666666666666,\"#ed7953\"],[0.7777777777777778,\"#fb9f3a\"],[0.8888888888888888,\"#fdca26\"],[1.0,\"#f0f921\"]]}],\"contourcarpet\":[{\"type\":\"contourcarpet\",\"colorbar\":{\"outlinewidth\":0,\"ticks\":\"\"}}],\"contour\":[{\"type\":\"contour\",\"colorbar\":{\"outlinewidth\":0,\"ticks\":\"\"},\"colorscale\":[[0.0,\"#0d0887\"],[0.1111111111111111,\"#46039f\"],[0.2222222222222222,\"#7201a8\"],[0.3333333333333333,\"#9c179e\"],[0.4444444444444444,\"#bd3786\"],[0.5555555555555556,\"#d8576b\"],[0.6666666666666666,\"#ed7953\"],[0.7777777777777778,\"#fb9f3a\"],[0.8888888888888888,\"#fdca26\"],[1.0,\"#f0f921\"]]}],\"surface\":[{\"type\":\"surface\",\"colorbar\":{\"outlinewidth\":0,\"ticks\":\"\"},\"colorscale\":[[0.0,\"#0d0887\"],[0.1111111111111111,\"#46039f\"],[0.2222222222222222,\"#7201a8\"],[0.3333333333333333,\"#9c179e\"],[0.4444444444444444,\"#bd3786\"],[0.5555555555555556,\"#d8576b\"],[0.6666666666666666,\"#ed7953\"],[0.7777777777777778,\"#fb9f3a\"],[0.8888888888888888,\"#fdca26\"],[1.0,\"#f0f921\"]]}],\"mesh3d\":[{\"type\":\"mesh3d\",\"colorbar\":{\"outlinewidth\":0,\"ticks\":\"\"}}],\"scatter\":[{\"marker\":{\"line\":{\"color\":\"#283442\"}},\"type\":\"scatter\"}],\"parcoords\":[{\"type\":\"parcoords\",\"line\":{\"colorbar\":{\"outlinewidth\":0,\"ticks\":\"\"}}}],\"scatterpolargl\":[{\"type\":\"scatterpolargl\",\"marker\":{\"colorbar\":{\"outlinewidth\":0,\"ticks\":\"\"}}}],\"bar\":[{\"error_x\":{\"color\":\"#f2f5fa\"},\"error_y\":{\"color\":\"#f2f5fa\"},\"marker\":{\"line\":{\"color\":\"rgb(17,17,17)\",\"width\":0.5},\"pattern\":{\"fillmode\":\"overlay\",\"size\":10,\"solidity\":0.2}},\"type\":\"bar\"}],\"scattergeo\":[{\"type\":\"scattergeo\",\"marker\":{\"colorbar\":{\"outlinewidth\":0,\"ticks\":\"\"}}}],\"scatterpolar\":[{\"type\":\"scatterpolar\",\"marker\":{\"colorbar\":{\"outlinewidth\":0,\"ticks\":\"\"}}}],\"histogram\":[{\"marker\":{\"pattern\":{\"fillmode\":\"overlay\",\"size\":10,\"solidity\":0.2}},\"type\":\"histogram\"}],\"scattergl\":[{\"marker\":{\"line\":{\"color\":\"#283442\"}},\"type\":\"scattergl\"}],\"scatter3d\":[{\"type\":\"scatter3d\",\"line\":{\"colorbar\":{\"outlinewidth\":0,\"ticks\":\"\"}},\"marker\":{\"colorbar\":{\"outlinewidth\":0,\"ticks\":\"\"}}}],\"scattermapbox\":[{\"type\":\"scattermapbox\",\"marker\":{\"colorbar\":{\"outlinewidth\":0,\"ticks\":\"\"}}}],\"scatterternary\":[{\"type\":\"scatterternary\",\"marker\":{\"colorbar\":{\"outlinewidth\":0,\"ticks\":\"\"}}}],\"scattercarpet\":[{\"type\":\"scattercarpet\",\"marker\":{\"colorbar\":{\"outlinewidth\":0,\"ticks\":\"\"}}}],\"carpet\":[{\"aaxis\":{\"endlinecolor\":\"#A2B1C6\",\"gridcolor\":\"#506784\",\"linecolor\":\"#506784\",\"minorgridcolor\":\"#506784\",\"startlinecolor\":\"#A2B1C6\"},\"baxis\":{\"endlinecolor\":\"#A2B1C6\",\"gridcolor\":\"#506784\",\"linecolor\":\"#506784\",\"minorgridcolor\":\"#506784\",\"startlinecolor\":\"#A2B1C6\"},\"type\":\"carpet\"}],\"table\":[{\"cells\":{\"fill\":{\"color\":\"#506784\"},\"line\":{\"color\":\"rgb(17,17,17)\"}},\"header\":{\"fill\":{\"color\":\"#2a3f5f\"},\"line\":{\"color\":\"rgb(17,17,17)\"}},\"type\":\"table\"}],\"barpolar\":[{\"marker\":{\"line\":{\"color\":\"rgb(17,17,17)\",\"width\":0.5},\"pattern\":{\"fillmode\":\"overlay\",\"size\":10,\"solidity\":0.2}},\"type\":\"barpolar\"}],\"pie\":[{\"automargin\":true,\"type\":\"pie\"}]},\"layout\":{\"autotypenumbers\":\"strict\",\"colorway\":[\"#636efa\",\"#EF553B\",\"#00cc96\",\"#ab63fa\",\"#FFA15A\",\"#19d3f3\",\"#FF6692\",\"#B6E880\",\"#FF97FF\",\"#FECB52\"],\"font\":{\"color\":\"#f2f5fa\"},\"hovermode\":\"closest\",\"hoverlabel\":{\"align\":\"left\"},\"paper_bgcolor\":\"rgb(17,17,17)\",\"plot_bgcolor\":\"rgb(17,17,17)\",\"polar\":{\"bgcolor\":\"rgb(17,17,17)\",\"angularaxis\":{\"gridcolor\":\"#506784\",\"linecolor\":\"#506784\",\"ticks\":\"\"},\"radialaxis\":{\"gridcolor\":\"#506784\",\"linecolor\":\"#506784\",\"ticks\":\"\"}},\"ternary\":{\"bgcolor\":\"rgb(17,17,17)\",\"aaxis\":{\"gridcolor\":\"#506784\",\"linecolor\":\"#506784\",\"ticks\":\"\"},\"baxis\":{\"gridcolor\":\"#506784\",\"linecolor\":\"#506784\",\"ticks\":\"\"},\"caxis\":{\"gridcolor\":\"#506784\",\"linecolor\":\"#506784\",\"ticks\":\"\"}},\"coloraxis\":{\"colorbar\":{\"outlinewidth\":0,\"ticks\":\"\"}},\"colorscale\":{\"sequential\":[[0.0,\"#0d0887\"],[0.1111111111111111,\"#46039f\"],[0.2222222222222222,\"#7201a8\"],[0.3333333333333333,\"#9c179e\"],[0.4444444444444444,\"#bd3786\"],[0.5555555555555556,\"#d8576b\"],[0.6666666666666666,\"#ed7953\"],[0.7777777777777778,\"#fb9f3a\"],[0.8888888888888888,\"#fdca26\"],[1.0,\"#f0f921\"]],\"sequentialminus\":[[0.0,\"#0d0887\"],[0.1111111111111111,\"#46039f\"],[0.2222222222222222,\"#7201a8\"],[0.3333333333333333,\"#9c179e\"],[0.4444444444444444,\"#bd3786\"],[0.5555555555555556,\"#d8576b\"],[0.6666666666666666,\"#ed7953\"],[0.7777777777777778,\"#fb9f3a\"],[0.8888888888888888,\"#fdca26\"],[1.0,\"#f0f921\"]],\"diverging\":[[0,\"#8e0152\"],[0.1,\"#c51b7d\"],[0.2,\"#de77ae\"],[0.3,\"#f1b6da\"],[0.4,\"#fde0ef\"],[0.5,\"#f7f7f7\"],[0.6,\"#e6f5d0\"],[0.7,\"#b8e186\"],[0.8,\"#7fbc41\"],[0.9,\"#4d9221\"],[1,\"#276419\"]]},\"xaxis\":{\"gridcolor\":\"#283442\",\"linecolor\":\"#506784\",\"ticks\":\"\",\"title\":{\"standoff\":15},\"zerolinecolor\":\"#283442\",\"automargin\":true,\"zerolinewidth\":2},\"yaxis\":{\"gridcolor\":\"#283442\",\"linecolor\":\"#506784\",\"ticks\":\"\",\"title\":{\"standoff\":15},\"zerolinecolor\":\"#283442\",\"automargin\":true,\"zerolinewidth\":2},\"scene\":{\"xaxis\":{\"backgroundcolor\":\"rgb(17,17,17)\",\"gridcolor\":\"#506784\",\"linecolor\":\"#506784\",\"showbackground\":true,\"ticks\":\"\",\"zerolinecolor\":\"#C8D4E3\",\"gridwidth\":2},\"yaxis\":{\"backgroundcolor\":\"rgb(17,17,17)\",\"gridcolor\":\"#506784\",\"linecolor\":\"#506784\",\"showbackground\":true,\"ticks\":\"\",\"zerolinecolor\":\"#C8D4E3\",\"gridwidth\":2},\"zaxis\":{\"backgroundcolor\":\"rgb(17,17,17)\",\"gridcolor\":\"#506784\",\"linecolor\":\"#506784\",\"showbackground\":true,\"ticks\":\"\",\"zerolinecolor\":\"#C8D4E3\",\"gridwidth\":2}},\"shapedefaults\":{\"line\":{\"color\":\"#f2f5fa\"}},\"annotationdefaults\":{\"arrowcolor\":\"#f2f5fa\",\"arrowhead\":0,\"arrowwidth\":1},\"geo\":{\"bgcolor\":\"rgb(17,17,17)\",\"landcolor\":\"rgb(17,17,17)\",\"subunitcolor\":\"#506784\",\"showland\":true,\"showlakes\":true,\"lakecolor\":\"rgb(17,17,17)\"},\"title\":{\"x\":0.05},\"updatemenudefaults\":{\"bgcolor\":\"#506784\",\"borderwidth\":0},\"sliderdefaults\":{\"bgcolor\":\"#C8D4E3\",\"borderwidth\":1,\"bordercolor\":\"rgb(17,17,17)\",\"tickwidth\":0},\"mapbox\":{\"style\":\"dark\"}}},\"xaxis\":{\"anchor\":\"y\",\"domain\":[0.0,1.0],\"title\":{\"text\":\"tempo\"}},\"yaxis\":{\"anchor\":\"x\",\"domain\":[0.0,1.0],\"title\":{\"text\":\"danceability\"}},\"coloraxis\":{\"colorbar\":{\"title\":{\"text\":\"prediction\"}},\"colorscale\":[[0.0,\"#0d0887\"],[0.1111111111111111,\"#46039f\"],[0.2222222222222222,\"#7201a8\"],[0.3333333333333333,\"#9c179e\"],[0.4444444444444444,\"#bd3786\"],[0.5555555555555556,\"#d8576b\"],[0.6666666666666666,\"#ed7953\"],[0.7777777777777778,\"#fb9f3a\"],[0.8888888888888888,\"#fdca26\"],[1.0,\"#f0f921\"]],\"showscale\":false},\"legend\":{\"tracegroupgap\":0},\"margin\":{\"t\":60}},                        {\"responsive\": true}                    ).then(function(){\n",
       "                            \n",
       "var gd = document.getElementById('0239ada3-3035-4e16-84b5-beeb41f0fecd');\n",
       "var x = new MutationObserver(function (mutations, observer) {{\n",
       "        var display = window.getComputedStyle(gd).display;\n",
       "        if (!display || display === 'none') {{\n",
       "            console.log([gd, 'removed!']);\n",
       "            Plotly.purge(gd);\n",
       "            observer.disconnect();\n",
       "        }}\n",
       "}});\n",
       "\n",
       "// Listen for the removal of the full notebook cells\n",
       "var notebookContainer = gd.closest('#notebook-container');\n",
       "if (notebookContainer) {{\n",
       "    x.observe(notebookContainer, {childList: true});\n",
       "}}\n",
       "\n",
       "// Listen for the clearing of the current output cell\n",
       "var outputEl = gd.closest('.output');\n",
       "if (outputEl) {{\n",
       "    x.observe(outputEl, {childList: true});\n",
       "}}\n",
       "\n",
       "                        })                };                });            </script>        </div>"
      ]
     },
     "metadata": {},
     "output_type": "display_data"
    }
   ],
   "execution_count": 81
  },
  {
   "metadata": {
    "ExecuteTime": {
     "end_time": "2025-01-16T19:56:57.454857Z",
     "start_time": "2025-01-16T19:56:57.435137Z"
    }
   },
   "cell_type": "code",
   "source": [
    "# fig = pickle.load(open('../backend/static/testplot.pkl', 'rb'))\n",
    "# fig.to_html()\n",
    "\n"
   ],
   "id": "85a255c699ce94ba",
   "outputs": [],
   "execution_count": 9
  },
  {
   "metadata": {},
   "cell_type": "markdown",
   "source": "# Spotify Recommender",
   "id": "5b8d80e6d9d9a274"
  },
  {
   "metadata": {
    "ExecuteTime": {
     "end_time": "2025-01-16T23:18:50.191878Z",
     "start_time": "2025-01-16T23:18:50.068573Z"
    }
   },
   "cell_type": "code",
   "source": [
    "from collections import defaultdict\n",
    "from sklearn.metrics import euclidean_distances\n",
    "from scipy.spatial.distance import cdist\n",
    "from sklearn.preprocessing import StandardScaler\n",
    "import numpy as np\n",
    "import pandas as pd\n",
    "\n",
    "# Load Data\n",
    "data = pd.read_csv(\"../data/data_for_recommender.csv\")\n",
    "\n",
    "scaler = StandardScaler()\n",
    "scaler.fit(data.select_dtypes(np.number))"
   ],
   "id": "6336879045477730",
   "outputs": [
    {
     "data": {
      "text/plain": [
       "StandardScaler()"
      ],
      "text/html": [
       "<style>#sk-container-id-1 {\n",
       "  /* Definition of color scheme common for light and dark mode */\n",
       "  --sklearn-color-text: #000;\n",
       "  --sklearn-color-text-muted: #666;\n",
       "  --sklearn-color-line: gray;\n",
       "  /* Definition of color scheme for unfitted estimators */\n",
       "  --sklearn-color-unfitted-level-0: #fff5e6;\n",
       "  --sklearn-color-unfitted-level-1: #f6e4d2;\n",
       "  --sklearn-color-unfitted-level-2: #ffe0b3;\n",
       "  --sklearn-color-unfitted-level-3: chocolate;\n",
       "  /* Definition of color scheme for fitted estimators */\n",
       "  --sklearn-color-fitted-level-0: #f0f8ff;\n",
       "  --sklearn-color-fitted-level-1: #d4ebff;\n",
       "  --sklearn-color-fitted-level-2: #b3dbfd;\n",
       "  --sklearn-color-fitted-level-3: cornflowerblue;\n",
       "\n",
       "  /* Specific color for light theme */\n",
       "  --sklearn-color-text-on-default-background: var(--sg-text-color, var(--theme-code-foreground, var(--jp-content-font-color1, black)));\n",
       "  --sklearn-color-background: var(--sg-background-color, var(--theme-background, var(--jp-layout-color0, white)));\n",
       "  --sklearn-color-border-box: var(--sg-text-color, var(--theme-code-foreground, var(--jp-content-font-color1, black)));\n",
       "  --sklearn-color-icon: #696969;\n",
       "\n",
       "  @media (prefers-color-scheme: dark) {\n",
       "    /* Redefinition of color scheme for dark theme */\n",
       "    --sklearn-color-text-on-default-background: var(--sg-text-color, var(--theme-code-foreground, var(--jp-content-font-color1, white)));\n",
       "    --sklearn-color-background: var(--sg-background-color, var(--theme-background, var(--jp-layout-color0, #111)));\n",
       "    --sklearn-color-border-box: var(--sg-text-color, var(--theme-code-foreground, var(--jp-content-font-color1, white)));\n",
       "    --sklearn-color-icon: #878787;\n",
       "  }\n",
       "}\n",
       "\n",
       "#sk-container-id-1 {\n",
       "  color: var(--sklearn-color-text);\n",
       "}\n",
       "\n",
       "#sk-container-id-1 pre {\n",
       "  padding: 0;\n",
       "}\n",
       "\n",
       "#sk-container-id-1 input.sk-hidden--visually {\n",
       "  border: 0;\n",
       "  clip: rect(1px 1px 1px 1px);\n",
       "  clip: rect(1px, 1px, 1px, 1px);\n",
       "  height: 1px;\n",
       "  margin: -1px;\n",
       "  overflow: hidden;\n",
       "  padding: 0;\n",
       "  position: absolute;\n",
       "  width: 1px;\n",
       "}\n",
       "\n",
       "#sk-container-id-1 div.sk-dashed-wrapped {\n",
       "  border: 1px dashed var(--sklearn-color-line);\n",
       "  margin: 0 0.4em 0.5em 0.4em;\n",
       "  box-sizing: border-box;\n",
       "  padding-bottom: 0.4em;\n",
       "  background-color: var(--sklearn-color-background);\n",
       "}\n",
       "\n",
       "#sk-container-id-1 div.sk-container {\n",
       "  /* jupyter's `normalize.less` sets `[hidden] { display: none; }`\n",
       "     but bootstrap.min.css set `[hidden] { display: none !important; }`\n",
       "     so we also need the `!important` here to be able to override the\n",
       "     default hidden behavior on the sphinx rendered scikit-learn.org.\n",
       "     See: https://github.com/scikit-learn/scikit-learn/issues/21755 */\n",
       "  display: inline-block !important;\n",
       "  position: relative;\n",
       "}\n",
       "\n",
       "#sk-container-id-1 div.sk-text-repr-fallback {\n",
       "  display: none;\n",
       "}\n",
       "\n",
       "div.sk-parallel-item,\n",
       "div.sk-serial,\n",
       "div.sk-item {\n",
       "  /* draw centered vertical line to link estimators */\n",
       "  background-image: linear-gradient(var(--sklearn-color-text-on-default-background), var(--sklearn-color-text-on-default-background));\n",
       "  background-size: 2px 100%;\n",
       "  background-repeat: no-repeat;\n",
       "  background-position: center center;\n",
       "}\n",
       "\n",
       "/* Parallel-specific style estimator block */\n",
       "\n",
       "#sk-container-id-1 div.sk-parallel-item::after {\n",
       "  content: \"\";\n",
       "  width: 100%;\n",
       "  border-bottom: 2px solid var(--sklearn-color-text-on-default-background);\n",
       "  flex-grow: 1;\n",
       "}\n",
       "\n",
       "#sk-container-id-1 div.sk-parallel {\n",
       "  display: flex;\n",
       "  align-items: stretch;\n",
       "  justify-content: center;\n",
       "  background-color: var(--sklearn-color-background);\n",
       "  position: relative;\n",
       "}\n",
       "\n",
       "#sk-container-id-1 div.sk-parallel-item {\n",
       "  display: flex;\n",
       "  flex-direction: column;\n",
       "}\n",
       "\n",
       "#sk-container-id-1 div.sk-parallel-item:first-child::after {\n",
       "  align-self: flex-end;\n",
       "  width: 50%;\n",
       "}\n",
       "\n",
       "#sk-container-id-1 div.sk-parallel-item:last-child::after {\n",
       "  align-self: flex-start;\n",
       "  width: 50%;\n",
       "}\n",
       "\n",
       "#sk-container-id-1 div.sk-parallel-item:only-child::after {\n",
       "  width: 0;\n",
       "}\n",
       "\n",
       "/* Serial-specific style estimator block */\n",
       "\n",
       "#sk-container-id-1 div.sk-serial {\n",
       "  display: flex;\n",
       "  flex-direction: column;\n",
       "  align-items: center;\n",
       "  background-color: var(--sklearn-color-background);\n",
       "  padding-right: 1em;\n",
       "  padding-left: 1em;\n",
       "}\n",
       "\n",
       "\n",
       "/* Toggleable style: style used for estimator/Pipeline/ColumnTransformer box that is\n",
       "clickable and can be expanded/collapsed.\n",
       "- Pipeline and ColumnTransformer use this feature and define the default style\n",
       "- Estimators will overwrite some part of the style using the `sk-estimator` class\n",
       "*/\n",
       "\n",
       "/* Pipeline and ColumnTransformer style (default) */\n",
       "\n",
       "#sk-container-id-1 div.sk-toggleable {\n",
       "  /* Default theme specific background. It is overwritten whether we have a\n",
       "  specific estimator or a Pipeline/ColumnTransformer */\n",
       "  background-color: var(--sklearn-color-background);\n",
       "}\n",
       "\n",
       "/* Toggleable label */\n",
       "#sk-container-id-1 label.sk-toggleable__label {\n",
       "  cursor: pointer;\n",
       "  display: flex;\n",
       "  width: 100%;\n",
       "  margin-bottom: 0;\n",
       "  padding: 0.5em;\n",
       "  box-sizing: border-box;\n",
       "  text-align: center;\n",
       "  align-items: start;\n",
       "  justify-content: space-between;\n",
       "  gap: 0.5em;\n",
       "}\n",
       "\n",
       "#sk-container-id-1 label.sk-toggleable__label .caption {\n",
       "  font-size: 0.6rem;\n",
       "  font-weight: lighter;\n",
       "  color: var(--sklearn-color-text-muted);\n",
       "}\n",
       "\n",
       "#sk-container-id-1 label.sk-toggleable__label-arrow:before {\n",
       "  /* Arrow on the left of the label */\n",
       "  content: \"▸\";\n",
       "  float: left;\n",
       "  margin-right: 0.25em;\n",
       "  color: var(--sklearn-color-icon);\n",
       "}\n",
       "\n",
       "#sk-container-id-1 label.sk-toggleable__label-arrow:hover:before {\n",
       "  color: var(--sklearn-color-text);\n",
       "}\n",
       "\n",
       "/* Toggleable content - dropdown */\n",
       "\n",
       "#sk-container-id-1 div.sk-toggleable__content {\n",
       "  max-height: 0;\n",
       "  max-width: 0;\n",
       "  overflow: hidden;\n",
       "  text-align: left;\n",
       "  /* unfitted */\n",
       "  background-color: var(--sklearn-color-unfitted-level-0);\n",
       "}\n",
       "\n",
       "#sk-container-id-1 div.sk-toggleable__content.fitted {\n",
       "  /* fitted */\n",
       "  background-color: var(--sklearn-color-fitted-level-0);\n",
       "}\n",
       "\n",
       "#sk-container-id-1 div.sk-toggleable__content pre {\n",
       "  margin: 0.2em;\n",
       "  border-radius: 0.25em;\n",
       "  color: var(--sklearn-color-text);\n",
       "  /* unfitted */\n",
       "  background-color: var(--sklearn-color-unfitted-level-0);\n",
       "}\n",
       "\n",
       "#sk-container-id-1 div.sk-toggleable__content.fitted pre {\n",
       "  /* unfitted */\n",
       "  background-color: var(--sklearn-color-fitted-level-0);\n",
       "}\n",
       "\n",
       "#sk-container-id-1 input.sk-toggleable__control:checked~div.sk-toggleable__content {\n",
       "  /* Expand drop-down */\n",
       "  max-height: 200px;\n",
       "  max-width: 100%;\n",
       "  overflow: auto;\n",
       "}\n",
       "\n",
       "#sk-container-id-1 input.sk-toggleable__control:checked~label.sk-toggleable__label-arrow:before {\n",
       "  content: \"▾\";\n",
       "}\n",
       "\n",
       "/* Pipeline/ColumnTransformer-specific style */\n",
       "\n",
       "#sk-container-id-1 div.sk-label input.sk-toggleable__control:checked~label.sk-toggleable__label {\n",
       "  color: var(--sklearn-color-text);\n",
       "  background-color: var(--sklearn-color-unfitted-level-2);\n",
       "}\n",
       "\n",
       "#sk-container-id-1 div.sk-label.fitted input.sk-toggleable__control:checked~label.sk-toggleable__label {\n",
       "  background-color: var(--sklearn-color-fitted-level-2);\n",
       "}\n",
       "\n",
       "/* Estimator-specific style */\n",
       "\n",
       "/* Colorize estimator box */\n",
       "#sk-container-id-1 div.sk-estimator input.sk-toggleable__control:checked~label.sk-toggleable__label {\n",
       "  /* unfitted */\n",
       "  background-color: var(--sklearn-color-unfitted-level-2);\n",
       "}\n",
       "\n",
       "#sk-container-id-1 div.sk-estimator.fitted input.sk-toggleable__control:checked~label.sk-toggleable__label {\n",
       "  /* fitted */\n",
       "  background-color: var(--sklearn-color-fitted-level-2);\n",
       "}\n",
       "\n",
       "#sk-container-id-1 div.sk-label label.sk-toggleable__label,\n",
       "#sk-container-id-1 div.sk-label label {\n",
       "  /* The background is the default theme color */\n",
       "  color: var(--sklearn-color-text-on-default-background);\n",
       "}\n",
       "\n",
       "/* On hover, darken the color of the background */\n",
       "#sk-container-id-1 div.sk-label:hover label.sk-toggleable__label {\n",
       "  color: var(--sklearn-color-text);\n",
       "  background-color: var(--sklearn-color-unfitted-level-2);\n",
       "}\n",
       "\n",
       "/* Label box, darken color on hover, fitted */\n",
       "#sk-container-id-1 div.sk-label.fitted:hover label.sk-toggleable__label.fitted {\n",
       "  color: var(--sklearn-color-text);\n",
       "  background-color: var(--sklearn-color-fitted-level-2);\n",
       "}\n",
       "\n",
       "/* Estimator label */\n",
       "\n",
       "#sk-container-id-1 div.sk-label label {\n",
       "  font-family: monospace;\n",
       "  font-weight: bold;\n",
       "  display: inline-block;\n",
       "  line-height: 1.2em;\n",
       "}\n",
       "\n",
       "#sk-container-id-1 div.sk-label-container {\n",
       "  text-align: center;\n",
       "}\n",
       "\n",
       "/* Estimator-specific */\n",
       "#sk-container-id-1 div.sk-estimator {\n",
       "  font-family: monospace;\n",
       "  border: 1px dotted var(--sklearn-color-border-box);\n",
       "  border-radius: 0.25em;\n",
       "  box-sizing: border-box;\n",
       "  margin-bottom: 0.5em;\n",
       "  /* unfitted */\n",
       "  background-color: var(--sklearn-color-unfitted-level-0);\n",
       "}\n",
       "\n",
       "#sk-container-id-1 div.sk-estimator.fitted {\n",
       "  /* fitted */\n",
       "  background-color: var(--sklearn-color-fitted-level-0);\n",
       "}\n",
       "\n",
       "/* on hover */\n",
       "#sk-container-id-1 div.sk-estimator:hover {\n",
       "  /* unfitted */\n",
       "  background-color: var(--sklearn-color-unfitted-level-2);\n",
       "}\n",
       "\n",
       "#sk-container-id-1 div.sk-estimator.fitted:hover {\n",
       "  /* fitted */\n",
       "  background-color: var(--sklearn-color-fitted-level-2);\n",
       "}\n",
       "\n",
       "/* Specification for estimator info (e.g. \"i\" and \"?\") */\n",
       "\n",
       "/* Common style for \"i\" and \"?\" */\n",
       "\n",
       ".sk-estimator-doc-link,\n",
       "a:link.sk-estimator-doc-link,\n",
       "a:visited.sk-estimator-doc-link {\n",
       "  float: right;\n",
       "  font-size: smaller;\n",
       "  line-height: 1em;\n",
       "  font-family: monospace;\n",
       "  background-color: var(--sklearn-color-background);\n",
       "  border-radius: 1em;\n",
       "  height: 1em;\n",
       "  width: 1em;\n",
       "  text-decoration: none !important;\n",
       "  margin-left: 0.5em;\n",
       "  text-align: center;\n",
       "  /* unfitted */\n",
       "  border: var(--sklearn-color-unfitted-level-1) 1pt solid;\n",
       "  color: var(--sklearn-color-unfitted-level-1);\n",
       "}\n",
       "\n",
       ".sk-estimator-doc-link.fitted,\n",
       "a:link.sk-estimator-doc-link.fitted,\n",
       "a:visited.sk-estimator-doc-link.fitted {\n",
       "  /* fitted */\n",
       "  border: var(--sklearn-color-fitted-level-1) 1pt solid;\n",
       "  color: var(--sklearn-color-fitted-level-1);\n",
       "}\n",
       "\n",
       "/* On hover */\n",
       "div.sk-estimator:hover .sk-estimator-doc-link:hover,\n",
       ".sk-estimator-doc-link:hover,\n",
       "div.sk-label-container:hover .sk-estimator-doc-link:hover,\n",
       ".sk-estimator-doc-link:hover {\n",
       "  /* unfitted */\n",
       "  background-color: var(--sklearn-color-unfitted-level-3);\n",
       "  color: var(--sklearn-color-background);\n",
       "  text-decoration: none;\n",
       "}\n",
       "\n",
       "div.sk-estimator.fitted:hover .sk-estimator-doc-link.fitted:hover,\n",
       ".sk-estimator-doc-link.fitted:hover,\n",
       "div.sk-label-container:hover .sk-estimator-doc-link.fitted:hover,\n",
       ".sk-estimator-doc-link.fitted:hover {\n",
       "  /* fitted */\n",
       "  background-color: var(--sklearn-color-fitted-level-3);\n",
       "  color: var(--sklearn-color-background);\n",
       "  text-decoration: none;\n",
       "}\n",
       "\n",
       "/* Span, style for the box shown on hovering the info icon */\n",
       ".sk-estimator-doc-link span {\n",
       "  display: none;\n",
       "  z-index: 9999;\n",
       "  position: relative;\n",
       "  font-weight: normal;\n",
       "  right: .2ex;\n",
       "  padding: .5ex;\n",
       "  margin: .5ex;\n",
       "  width: min-content;\n",
       "  min-width: 20ex;\n",
       "  max-width: 50ex;\n",
       "  color: var(--sklearn-color-text);\n",
       "  box-shadow: 2pt 2pt 4pt #999;\n",
       "  /* unfitted */\n",
       "  background: var(--sklearn-color-unfitted-level-0);\n",
       "  border: .5pt solid var(--sklearn-color-unfitted-level-3);\n",
       "}\n",
       "\n",
       ".sk-estimator-doc-link.fitted span {\n",
       "  /* fitted */\n",
       "  background: var(--sklearn-color-fitted-level-0);\n",
       "  border: var(--sklearn-color-fitted-level-3);\n",
       "}\n",
       "\n",
       ".sk-estimator-doc-link:hover span {\n",
       "  display: block;\n",
       "}\n",
       "\n",
       "/* \"?\"-specific style due to the `<a>` HTML tag */\n",
       "\n",
       "#sk-container-id-1 a.estimator_doc_link {\n",
       "  float: right;\n",
       "  font-size: 1rem;\n",
       "  line-height: 1em;\n",
       "  font-family: monospace;\n",
       "  background-color: var(--sklearn-color-background);\n",
       "  border-radius: 1rem;\n",
       "  height: 1rem;\n",
       "  width: 1rem;\n",
       "  text-decoration: none;\n",
       "  /* unfitted */\n",
       "  color: var(--sklearn-color-unfitted-level-1);\n",
       "  border: var(--sklearn-color-unfitted-level-1) 1pt solid;\n",
       "}\n",
       "\n",
       "#sk-container-id-1 a.estimator_doc_link.fitted {\n",
       "  /* fitted */\n",
       "  border: var(--sklearn-color-fitted-level-1) 1pt solid;\n",
       "  color: var(--sklearn-color-fitted-level-1);\n",
       "}\n",
       "\n",
       "/* On hover */\n",
       "#sk-container-id-1 a.estimator_doc_link:hover {\n",
       "  /* unfitted */\n",
       "  background-color: var(--sklearn-color-unfitted-level-3);\n",
       "  color: var(--sklearn-color-background);\n",
       "  text-decoration: none;\n",
       "}\n",
       "\n",
       "#sk-container-id-1 a.estimator_doc_link.fitted:hover {\n",
       "  /* fitted */\n",
       "  background-color: var(--sklearn-color-fitted-level-3);\n",
       "}\n",
       "</style><div id=\"sk-container-id-1\" class=\"sk-top-container\"><div class=\"sk-text-repr-fallback\"><pre>StandardScaler()</pre><b>In a Jupyter environment, please rerun this cell to show the HTML representation or trust the notebook. <br />On GitHub, the HTML representation is unable to render, please try loading this page with nbviewer.org.</b></div><div class=\"sk-container\" hidden><div class=\"sk-item\"><div class=\"sk-estimator fitted sk-toggleable\"><input class=\"sk-toggleable__control sk-hidden--visually\" id=\"sk-estimator-id-1\" type=\"checkbox\" checked><label for=\"sk-estimator-id-1\" class=\"sk-toggleable__label fitted sk-toggleable__label-arrow\"><div><div>StandardScaler</div></div><div><a class=\"sk-estimator-doc-link fitted\" rel=\"noreferrer\" target=\"_blank\" href=\"https://scikit-learn.org/1.6/modules/generated/sklearn.preprocessing.StandardScaler.html\">?<span>Documentation for StandardScaler</span></a><span class=\"sk-estimator-doc-link fitted\">i<span>Fitted</span></span></div></label><div class=\"sk-toggleable__content fitted\"><pre>StandardScaler()</pre></div> </div></div></div></div>"
      ]
     },
     "execution_count": 57,
     "metadata": {},
     "output_type": "execute_result"
    }
   ],
   "execution_count": 57
  },
  {
   "metadata": {
    "ExecuteTime": {
     "end_time": "2025-01-16T23:18:54.531367Z",
     "start_time": "2025-01-16T23:18:54.498273Z"
    }
   },
   "cell_type": "code",
   "source": [
    "number_cols = ['valence', 'year', 'acousticness', 'danceability', 'duration_ms', 'energy', 'explicit',\n",
    "               'instrumentalness', 'key', 'liveness', 'loudness', 'mode', 'popularity', 'speechiness', 'tempo']\n",
    "\n",
    "def get_song_data(song, spotify_data):\n",
    "  try:\n",
    "    song_data = spotify_data[(spotify_data['name'] == song['name'])\n",
    "                             & (spotify_data['year'] == song['year'])].iloc[0]\n",
    "    return song_data\n",
    "\n",
    "  except IndexError:\n",
    "    return None\n",
    "\n",
    "def get_mean_vector(song_list, spotify_data):\n",
    "  song_vectors = []\n",
    "\n",
    "  for song in song_list:\n",
    "    song_data = get_song_data(song, spotify_data)\n",
    "    if song_data is None:\n",
    "      print('Warning: {} does not exist in Spotify or in database'.format(song['name']))\n",
    "      continue\n",
    "    song_vector = song_data[number_cols].values\n",
    "    song_vectors.append(song_vector)\n",
    "\n",
    "  song_matrix = np.array(list(song_vectors))\n",
    "  return np.mean(song_matrix, axis=0)\n",
    "\n",
    "def flatten_dict_list(dict_list):\n",
    "  flattened_dict = defaultdict()\n",
    "  for key in dict_list[0].keys():\n",
    "    flattened_dict[key] = []\n",
    "\n",
    "  for dictionary in dict_list:\n",
    "    for key, value in dictionary.items():\n",
    "      flattened_dict[key].append(value)\n",
    "\n",
    "  return flattened_dict\n",
    "\n",
    "\n",
    "def recommend_songs(song_list, spotify_data, n_songs=10):\n",
    "  metadata_cols = ['name', 'year', 'artists']\n",
    "  song_dict = flatten_dict_list(song_list)\n",
    "\n",
    "  song_center = get_mean_vector(song_list, spotify_data)\n",
    "  scaled_data = scaler.transform(spotify_data[number_cols])\n",
    "  scaled_song_center = scaler.transform(song_center.reshape(1, -1))\n",
    "  distances = cdist(scaled_song_center, scaled_data, 'cosine')\n",
    "  index = list(np.argsort(distances)[:, :n_songs][0])\n",
    "\n",
    "  rec_songs = spotify_data.iloc[index]\n",
    "  rec_songs = rec_songs[~rec_songs['name'].isin(song_dict['name'])]\n",
    "  return rec_songs[metadata_cols].to_dict(orient='records')"
   ],
   "id": "b82780c34164e2c2",
   "outputs": [],
   "execution_count": 58
  },
  {
   "metadata": {
    "ExecuteTime": {
     "end_time": "2025-01-16T23:20:08.830917Z",
     "start_time": "2025-01-16T23:20:08.708967Z"
    }
   },
   "cell_type": "code",
   "source": [
    "recommend_songs([#{'name': 'Smells Like Teen Spirit', 'year': 1991},\n",
    "                 #{'name': 'Lithium', 'year': 1992},\n",
    "                 #{'name': 'All Apologies', 'year': 1993},\n",
    "                 #{'name': 'Stay Away', 'year': 1993}],\n",
    "                  {'name': 'Come As You Are', 'year': 1991}], data)"
   ],
   "id": "949f2b221f382ffd",
   "outputs": [
    {
     "name": "stderr",
     "output_type": "stream",
     "text": [
      "C:\\Uni\\AI Guardians\\ai-guardian\\venv\\Lib\\site-packages\\sklearn\\utils\\validation.py:2739: UserWarning: X does not have valid feature names, but StandardScaler was fitted with feature names\n",
      "  warnings.warn(\n"
     ]
    },
    {
     "data": {
      "text/plain": [
       "[{'name': 'In the End', 'year': 2000, 'artists': \"['Linkin Park']\"},\n",
       " {'name': 'Shimmer', 'year': 1997, 'artists': \"['Fuel']\"},\n",
       " {'name': 'Symphony Of Destruction', 'year': 1992, 'artists': \"['Megadeth']\"},\n",
       " {'name': 'Breaking the Habit', 'year': 2003, 'artists': \"['Linkin Park']\"},\n",
       " {'name': 'Lovers Rock', 'year': 2014, 'artists': \"['TV Girl']\"},\n",
       " {'name': 'Fell On Black Days', 'year': 1994, 'artists': \"['Soundgarden']\"},\n",
       " {'name': 'New Divide', 'year': 2009, 'artists': \"['Linkin Park']\"},\n",
       " {'name': 'War of Change',\n",
       "  'year': 2012,\n",
       "  'artists': \"['Thousand Foot Krutch']\"},\n",
       " {'name': 'Freak', 'year': 1997, 'artists': \"['Silverchair']\"}]"
      ]
     },
     "execution_count": 60,
     "metadata": {},
     "output_type": "execute_result"
    }
   ],
   "execution_count": 60
  }
 ],
 "metadata": {
  "kernelspec": {
   "display_name": "Python 3",
   "language": "python",
   "name": "python3"
  },
  "language_info": {
   "codemirror_mode": {
    "name": "ipython",
    "version": 2
   },
   "file_extension": ".py",
   "mimetype": "text/x-python",
   "name": "python",
   "nbconvert_exporter": "python",
   "pygments_lexer": "ipython2",
   "version": "2.7.6"
  }
 },
 "nbformat": 4,
 "nbformat_minor": 5
}
